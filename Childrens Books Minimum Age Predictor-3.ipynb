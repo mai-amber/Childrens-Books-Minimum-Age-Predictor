{
 "cells": [
  {
   "cell_type": "markdown",
   "metadata": {},
   "source": [
    "<h1> Childrens Books Minimum Age Predictor By Description <h1>"
   ]
  },
  {
   "cell_type": "markdown",
   "metadata": {},
   "source": [
    "<img src='storytelling-4203628_1920.jpg' width= '800' align=\"center\">"
   ]
  },
  {
   "cell_type": "markdown",
   "metadata": {},
   "source": [
    "<h2> “The more that you read, the more things you will know. The more you learn, the more places you’ll go.” - Dr. Seuss<h2>"
   ]
  },
  {
   "cell_type": "markdown",
   "metadata": {},
   "source": [
    "So I've never really done Natural Language Processing before, but I'm a bookworm and I figured I should take the opportunity (since it's a Friday during COVID lockdown) to try some NLP on this interesting database I found on Kaggle. The database is composed of childrens books, divided into age groups, including a short description of each book."
   ]
  },
  {
   "cell_type": "code",
   "execution_count": 416,
   "metadata": {},
   "outputs": [
    {
     "name": "stderr",
     "output_type": "stream",
     "text": [
      "[nltk_data] Downloading package punkt to /Users/a1/nltk_data...\n",
      "[nltk_data]   Package punkt is already up-to-date!\n",
      "[nltk_data] Downloading package wordnet to /Users/a1/nltk_data...\n",
      "[nltk_data]   Package wordnet is already up-to-date!\n",
      "[nltk_data] Downloading package stopwords to /Users/a1/nltk_data...\n",
      "[nltk_data]   Package stopwords is already up-to-date!\n"
     ]
    }
   ],
   "source": [
    "#loading packages\n",
    "import numpy as np \n",
    "import pandas as pd \n",
    "import nltk \n",
    "nltk.download('punkt')\n",
    "nltk.download('wordnet')\n",
    "from nltk.stem import WordNetLemmatizer\n",
    "nltk.download('stopwords')\n",
    "from nltk.corpus import stopwords \n",
    "from nltk.tokenize import word_tokenize\n",
    "from sklearn.model_selection import train_test_split\n",
    "from sklearn.ensemble import RandomForestClassifier\n",
    "from sklearn.feature_extraction.text import CountVectorizer, TfidfTransformer\n",
    "import plotly.express as px"
   ]
  },
  {
   "cell_type": "markdown",
   "metadata": {},
   "source": [
    "<h2>Loading the data from a Kaggle database <h2>"
   ]
  },
  {
   "cell_type": "code",
   "execution_count": 417,
   "metadata": {},
   "outputs": [
    {
     "data": {
      "text/html": [
       "<div>\n",
       "<style scoped>\n",
       "    .dataframe tbody tr th:only-of-type {\n",
       "        vertical-align: middle;\n",
       "    }\n",
       "\n",
       "    .dataframe tbody tr th {\n",
       "        vertical-align: top;\n",
       "    }\n",
       "\n",
       "    .dataframe thead th {\n",
       "        text-align: right;\n",
       "    }\n",
       "</style>\n",
       "<table border=\"1\" class=\"dataframe\">\n",
       "  <thead>\n",
       "    <tr style=\"text-align: right;\">\n",
       "      <th></th>\n",
       "      <th>names</th>\n",
       "      <th>cats</th>\n",
       "      <th>desc</th>\n",
       "    </tr>\n",
       "  </thead>\n",
       "  <tbody>\n",
       "    <tr>\n",
       "      <th>0</th>\n",
       "      <td>HIDE AND SEEK</td>\n",
       "      <td>Age 2-9</td>\n",
       "      <td>Was it just another game of hide and seek? No....</td>\n",
       "    </tr>\n",
       "    <tr>\n",
       "      <th>1</th>\n",
       "      <td>GINGER THE GIRAFFE</td>\n",
       "      <td>Age 2-9</td>\n",
       "      <td>Read this warm tale of camaraderie and affecti...</td>\n",
       "    </tr>\n",
       "    <tr>\n",
       "      <th>2</th>\n",
       "      <td>DOING MY CHORES</td>\n",
       "      <td>Age 2-9</td>\n",
       "      <td>Love shines through this great illustrated kid...</td>\n",
       "    </tr>\n",
       "    <tr>\n",
       "      <th>3</th>\n",
       "      <td>ABE THE SERVICE DOG</td>\n",
       "      <td>Age 2-9</td>\n",
       "      <td>Abe was a real Service Dog who dedicated his l...</td>\n",
       "    </tr>\n",
       "    <tr>\n",
       "      <th>4</th>\n",
       "      <td>SUNNY MEADOWS WOODLAND SCHOOL</td>\n",
       "      <td>Age 2-9</td>\n",
       "      <td>The class took a little train and went deep in...</td>\n",
       "    </tr>\n",
       "    <tr>\n",
       "      <th>...</th>\n",
       "      <td>...</td>\n",
       "      <td>...</td>\n",
       "      <td>...</td>\n",
       "    </tr>\n",
       "    <tr>\n",
       "      <th>425</th>\n",
       "      <td>Carrying the Elephant: A Memoir of Love and Loss</td>\n",
       "      <td>Age 11+</td>\n",
       "      <td>In the 72 prose poems that make up this unusua...</td>\n",
       "    </tr>\n",
       "    <tr>\n",
       "      <th>426</th>\n",
       "      <td>War and Peas</td>\n",
       "      <td>Age 8+</td>\n",
       "      <td>Nearly forty years after its original appearan...</td>\n",
       "    </tr>\n",
       "    <tr>\n",
       "      <th>427</th>\n",
       "      <td>Love that Dog</td>\n",
       "      <td>Age 9-12</td>\n",
       "      <td>Jack has a great sadness in his life, but he i...</td>\n",
       "    </tr>\n",
       "    <tr>\n",
       "      <th>428</th>\n",
       "      <td>A Pilgrim's Progress</td>\n",
       "      <td>Age 9+</td>\n",
       "      <td>'I had a dream last night ... large enough to ...</td>\n",
       "    </tr>\n",
       "    <tr>\n",
       "      <th>429</th>\n",
       "      <td>Secret Friends</td>\n",
       "      <td>Age 7-11</td>\n",
       "      <td>At her new school, Rafaella suffers daily name...</td>\n",
       "    </tr>\n",
       "  </tbody>\n",
       "</table>\n",
       "<p>430 rows × 3 columns</p>\n",
       "</div>"
      ],
      "text/plain": [
       "                                                names      cats  \\\n",
       "0                                       HIDE AND SEEK   Age 2-9   \n",
       "1                                 GINGER THE GIRAFFE    Age 2-9   \n",
       "2                                     DOING MY CHORES   Age 2-9   \n",
       "3                                 ABE THE SERVICE DOG   Age 2-9   \n",
       "4                       SUNNY MEADOWS WOODLAND SCHOOL   Age 2-9   \n",
       "..                                                ...       ...   \n",
       "425  Carrying the Elephant: A Memoir of Love and Loss   Age 11+   \n",
       "426                                      War and Peas    Age 8+   \n",
       "427                                     Love that Dog  Age 9-12   \n",
       "428                              A Pilgrim's Progress    Age 9+   \n",
       "429                                    Secret Friends  Age 7-11   \n",
       "\n",
       "                                                  desc  \n",
       "0    Was it just another game of hide and seek? No....  \n",
       "1    Read this warm tale of camaraderie and affecti...  \n",
       "2    Love shines through this great illustrated kid...  \n",
       "3    Abe was a real Service Dog who dedicated his l...  \n",
       "4    The class took a little train and went deep in...  \n",
       "..                                                 ...  \n",
       "425  In the 72 prose poems that make up this unusua...  \n",
       "426  Nearly forty years after its original appearan...  \n",
       "427  Jack has a great sadness in his life, but he i...  \n",
       "428  'I had a dream last night ... large enough to ...  \n",
       "429  At her new school, Rafaella suffers daily name...  \n",
       "\n",
       "[430 rows x 3 columns]"
      ]
     },
     "execution_count": 417,
     "metadata": {},
     "output_type": "execute_result"
    }
   ],
   "source": [
    "df = pd.read_csv('children_stories.Csv', encoding=\"ISO-8859-1\")\n",
    "df"
   ]
  },
  {
   "cell_type": "markdown",
   "metadata": {},
   "source": [
    "<h2> Split the age ranges into min and max ages <h2>"
   ]
  },
  {
   "cell_type": "code",
   "execution_count": 418,
   "metadata": {},
   "outputs": [],
   "source": [
    "def min_age(x):\n",
    "    if x.find ('-') != -1:\n",
    "        y = re.sub(' +', ' ', x)\n",
    "        y = y.split(' ')[1]\n",
    "        y = y.strip()\n",
    "        return int(y.split('-')[0])\n",
    "    else:\n",
    "        if x.find('months'):\n",
    "            return 0\n",
    "        return int(x.replace('+','').split(' ')[1])\n",
    "def max_age(x):\n",
    "    if x.find ('-') != -1:\n",
    "        y = re.sub(' +', ' ', x)\n",
    "        y = y.split(' ')[1]\n",
    "        y = y.strip()\n",
    "        return int(x.split('-')[1])\n",
    "    else:\n",
    "        return 18"
   ]
  },
  {
   "cell_type": "markdown",
   "metadata": {},
   "source": [
    "<h2>Preprocessing<h2>"
   ]
  },
  {
   "cell_type": "code",
   "execution_count": 419,
   "metadata": {},
   "outputs": [
    {
     "data": {
      "text/html": [
       "<div>\n",
       "<style scoped>\n",
       "    .dataframe tbody tr th:only-of-type {\n",
       "        vertical-align: middle;\n",
       "    }\n",
       "\n",
       "    .dataframe tbody tr th {\n",
       "        vertical-align: top;\n",
       "    }\n",
       "\n",
       "    .dataframe thead th {\n",
       "        text-align: right;\n",
       "    }\n",
       "</style>\n",
       "<table border=\"1\" class=\"dataframe\">\n",
       "  <thead>\n",
       "    <tr style=\"text-align: right;\">\n",
       "      <th></th>\n",
       "      <th>names</th>\n",
       "      <th>cats</th>\n",
       "      <th>desc</th>\n",
       "      <th>min_age</th>\n",
       "      <th>max_age</th>\n",
       "      <th>age_range</th>\n",
       "      <th>avg_age</th>\n",
       "    </tr>\n",
       "  </thead>\n",
       "  <tbody>\n",
       "    <tr>\n",
       "      <th>0</th>\n",
       "      <td>HIDE AND SEEK</td>\n",
       "      <td>Age 2-9</td>\n",
       "      <td>Was it just another game of hide and seek No I...</td>\n",
       "      <td>2</td>\n",
       "      <td>9</td>\n",
       "      <td>7</td>\n",
       "      <td>6.5</td>\n",
       "    </tr>\n",
       "    <tr>\n",
       "      <th>1</th>\n",
       "      <td>GINGER THE GIRAFFE</td>\n",
       "      <td>Age 2-9</td>\n",
       "      <td>Read this warm tale of camaraderie and affecti...</td>\n",
       "      <td>2</td>\n",
       "      <td>9</td>\n",
       "      <td>7</td>\n",
       "      <td>6.5</td>\n",
       "    </tr>\n",
       "    <tr>\n",
       "      <th>2</th>\n",
       "      <td>DOING MY CHORES</td>\n",
       "      <td>Age 2-9</td>\n",
       "      <td>Love shines through this great illustrated kid...</td>\n",
       "      <td>2</td>\n",
       "      <td>9</td>\n",
       "      <td>7</td>\n",
       "      <td>6.5</td>\n",
       "    </tr>\n",
       "    <tr>\n",
       "      <th>3</th>\n",
       "      <td>ABE THE SERVICE DOG</td>\n",
       "      <td>Age 2-9</td>\n",
       "      <td>Abe was a real Service Dog who dedicated his l...</td>\n",
       "      <td>2</td>\n",
       "      <td>9</td>\n",
       "      <td>7</td>\n",
       "      <td>6.5</td>\n",
       "    </tr>\n",
       "    <tr>\n",
       "      <th>4</th>\n",
       "      <td>SUNNY MEADOWS WOODLAND SCHOOL</td>\n",
       "      <td>Age 2-9</td>\n",
       "      <td>The class took a little train and went deep in...</td>\n",
       "      <td>2</td>\n",
       "      <td>9</td>\n",
       "      <td>7</td>\n",
       "      <td>6.5</td>\n",
       "    </tr>\n",
       "    <tr>\n",
       "      <th>...</th>\n",
       "      <td>...</td>\n",
       "      <td>...</td>\n",
       "      <td>...</td>\n",
       "      <td>...</td>\n",
       "      <td>...</td>\n",
       "      <td>...</td>\n",
       "      <td>...</td>\n",
       "    </tr>\n",
       "    <tr>\n",
       "      <th>425</th>\n",
       "      <td>Carrying the Elephant: A Memoir of Love and Loss</td>\n",
       "      <td>Age 11+</td>\n",
       "      <td>In the 72 prose poems that make up this unusua...</td>\n",
       "      <td>0</td>\n",
       "      <td>18</td>\n",
       "      <td>18</td>\n",
       "      <td>9.0</td>\n",
       "    </tr>\n",
       "    <tr>\n",
       "      <th>426</th>\n",
       "      <td>War and Peas</td>\n",
       "      <td>Age 8+</td>\n",
       "      <td>Nearly forty years after its original appearan...</td>\n",
       "      <td>0</td>\n",
       "      <td>18</td>\n",
       "      <td>18</td>\n",
       "      <td>9.0</td>\n",
       "    </tr>\n",
       "    <tr>\n",
       "      <th>427</th>\n",
       "      <td>Love that Dog</td>\n",
       "      <td>Age 9-12</td>\n",
       "      <td>Jack has a great sadness in his life but he is...</td>\n",
       "      <td>9</td>\n",
       "      <td>12</td>\n",
       "      <td>3</td>\n",
       "      <td>15.0</td>\n",
       "    </tr>\n",
       "    <tr>\n",
       "      <th>428</th>\n",
       "      <td>A Pilgrim's Progress</td>\n",
       "      <td>Age 9+</td>\n",
       "      <td>I had a dream last night large enough to fill ...</td>\n",
       "      <td>0</td>\n",
       "      <td>18</td>\n",
       "      <td>18</td>\n",
       "      <td>9.0</td>\n",
       "    </tr>\n",
       "    <tr>\n",
       "      <th>429</th>\n",
       "      <td>Secret Friends</td>\n",
       "      <td>Age 7-11</td>\n",
       "      <td>At her new school Rafaella suffers daily name ...</td>\n",
       "      <td>7</td>\n",
       "      <td>11</td>\n",
       "      <td>4</td>\n",
       "      <td>12.5</td>\n",
       "    </tr>\n",
       "  </tbody>\n",
       "</table>\n",
       "<p>430 rows × 7 columns</p>\n",
       "</div>"
      ],
      "text/plain": [
       "                                                names      cats  \\\n",
       "0                                       HIDE AND SEEK   Age 2-9   \n",
       "1                                 GINGER THE GIRAFFE    Age 2-9   \n",
       "2                                     DOING MY CHORES   Age 2-9   \n",
       "3                                 ABE THE SERVICE DOG   Age 2-9   \n",
       "4                       SUNNY MEADOWS WOODLAND SCHOOL   Age 2-9   \n",
       "..                                                ...       ...   \n",
       "425  Carrying the Elephant: A Memoir of Love and Loss   Age 11+   \n",
       "426                                      War and Peas    Age 8+   \n",
       "427                                     Love that Dog  Age 9-12   \n",
       "428                              A Pilgrim's Progress    Age 9+   \n",
       "429                                    Secret Friends  Age 7-11   \n",
       "\n",
       "                                                  desc  min_age  max_age  \\\n",
       "0    Was it just another game of hide and seek No I...        2        9   \n",
       "1    Read this warm tale of camaraderie and affecti...        2        9   \n",
       "2    Love shines through this great illustrated kid...        2        9   \n",
       "3    Abe was a real Service Dog who dedicated his l...        2        9   \n",
       "4    The class took a little train and went deep in...        2        9   \n",
       "..                                                 ...      ...      ...   \n",
       "425  In the 72 prose poems that make up this unusua...        0       18   \n",
       "426  Nearly forty years after its original appearan...        0       18   \n",
       "427  Jack has a great sadness in his life but he is...        9       12   \n",
       "428  I had a dream last night large enough to fill ...        0       18   \n",
       "429  At her new school Rafaella suffers daily name ...        7       11   \n",
       "\n",
       "     age_range  avg_age  \n",
       "0            7      6.5  \n",
       "1            7      6.5  \n",
       "2            7      6.5  \n",
       "3            7      6.5  \n",
       "4            7      6.5  \n",
       "..         ...      ...  \n",
       "425         18      9.0  \n",
       "426         18      9.0  \n",
       "427          3     15.0  \n",
       "428         18      9.0  \n",
       "429          4     12.5  \n",
       "\n",
       "[430 rows x 7 columns]"
      ]
     },
     "execution_count": 419,
     "metadata": {},
     "output_type": "execute_result"
    }
   ],
   "source": [
    "df['min_age'] = df.cats.apply(min_age)\n",
    "df['max_age'] = df.cats.apply(max_age)\n",
    "df['age_range'] = df.max_age - df.min_age\n",
    "df.loc[:,'desc'] = df.desc.apply(lambda x : \" \".join(re.findall('[\\w]+',x)))\n",
    "df['avg_age'] = df.min_age + df.max_age / 2\n",
    "df"
   ]
  },
  {
   "cell_type": "code",
   "execution_count": 420,
   "metadata": {},
   "outputs": [
    {
     "data": {
      "application/vnd.plotly.v1+json": {
       "config": {
        "plotlyServerURL": "https://plot.ly"
       },
       "data": [
        {
         "alignmentgroup": "True",
         "bingroup": "x",
         "hovertemplate": "age=%{x}<br>count=%{y}<extra></extra>",
         "legendgroup": "",
         "marker": {
          "color": "#636efa"
         },
         "name": "",
         "offsetgroup": "",
         "orientation": "v",
         "showlegend": false,
         "type": "histogram",
         "x": [
          "Age 2-9",
          "Age 2-9",
          "Age 2-9",
          "Age 2-9",
          "Age 2-9",
          "Age 2-9",
          "Age 2-9",
          "Age 2-9",
          "Age 2-9",
          "Age 2-9",
          "Age 2-9",
          "Age 2-9",
          "Age 2-9",
          "Age 2-9",
          "Age 2-9",
          "Age 2-9",
          "Age 2-9",
          "Age 2-9",
          "Age 2-9",
          "Age 2-9",
          "Age 1-2",
          "Age 1-3",
          "Age 0-2",
          "Age 1-3",
          "Age  0-3",
          "Age 0-3",
          "Age 0-2",
          "Age 1-3",
          "Age 3-5",
          "Age 0-3",
          "Age 0+",
          "Age 1-5",
          "Age 1-4",
          "Age 1-5",
          "Age 2-6",
          "Age 0-3",
          "Age 1-3",
          "Age 2-7",
          "Age 2-6",
          "Age 2-6",
          "Age 3-6",
          "Age 0-4",
          "Age 0-3",
          "Age 3-6",
          "Age 2-5",
          "Age 0+",
          "Age 4-6",
          "Age 1-4",
          "Age 3-6",
          "Age 2-6",
          "Age 3-6",
          "Age 2-5",
          "Age 1-4",
          "Age 0-4",
          "Age 0-3",
          "Age 3-5",
          "Age 2-6",
          "Age 2-6",
          "Age 0-3",
          "Age 3-5",
          "Age 3-6",
          "Age 0-5",
          "Age 2+",
          "Age 2-5",
          "Age 3-5",
          "Age 0-4",
          "Age 1-3",
          "Age 0-4",
          "Age 4+",
          "Age 3+",
          "Age 3-7",
          "Age 0-3",
          "Age 2+",
          "Age 0-5",
          "Age 2-5",
          "Age 0-5",
          "Age 2+",
          "Age 0-4",
          "Age 1-5",
          "Age 0-3",
          "Age 0-4",
          "Age 3+",
          "Age 0-4",
          "Age 1-3",
          "Age 0-5",
          "Age 3+",
          "Age 3-6",
          "Age 0-4",
          "Age 3-4",
          "Age 0-4",
          "Age 3-5",
          "Age 0-4",
          "Age 0-5",
          "Age 0-4",
          "Age 0+",
          "Age 2-5",
          "Age 0-5",
          "Age 3-5",
          "Age 0-3",
          "Age 1-6",
          "Age 2-5",
          "Age 2-6",
          "Age 0-4",
          "Age 2-6",
          "Age 0-4",
          "Age 0-3",
          "Age 0-5",
          "Age 2-5",
          "Age 2-5",
          "Age 3-6",
          "Age 0-4",
          "Age 0-4",
          "Age 0-3",
          "Age 1-5",
          "Age 2-6",
          "Age 0+",
          "Age 0-4",
          "Age 2-6",
          "Age 1-5",
          "Age 3-5",
          "Age 0-6",
          "Age 3-6",
          "Age 0+",
          "Age 0-5",
          "Age 4-7",
          "Age 5-8",
          "Age 5-8",
          "Age 4-7",
          "Age 4+",
          "Age 3+",
          "Age 0+",
          "Age 2-5",
          "Age 4+",
          "Age 1+",
          "Age 3+",
          "Age 5+",
          "Age 2+",
          "Age 4-11",
          "Age 2+",
          "Age 2-4",
          "Age 3+",
          "Age 3+",
          "Age 4-6",
          "Age 2+",
          "Age 4+",
          "Age 3+",
          "Age 3-6",
          "Age 0+",
          "Age 3+",
          "Age 2+",
          "Age 3+",
          "Age 4+",
          "Age 3+",
          "Age 2+",
          "Age 5+",
          "Age 4+",
          "Age 2+",
          "Age 0+",
          "Age 3+",
          "Age 3+",
          "Age 4+",
          "Age 5+",
          "Age 4-5",
          "Age 2+",
          "Age 4+",
          "Age 3-7",
          "Age 4+",
          "Age 4+",
          "Age 3-7",
          "Age 3+",
          "Age 3+",
          "Age 4+",
          "Age 3+",
          "Age 5+",
          "Age 3+",
          "Age 4-8",
          "Age 4-8",
          "Age 3+",
          "Age 1+",
          "Age 0+",
          "Age 4+",
          "Age 3+",
          "Age 3-7",
          "Age 3-7",
          "Age 4+",
          "Age 3+",
          "Age 2+",
          "Age 0+",
          "Age 4+",
          "Age 4+",
          "Age 2+",
          "Age 0+",
          "Age 1-4",
          "Age 6months+",
          "Age 3+",
          "Age 0+",
          "Age 3+",
          "Age 3+",
          "Age 4-8",
          "Age 4+",
          "Age 4+",
          "Age 3+",
          "Age 3+",
          "Age 3+",
          "Age 4-6",
          "Age 3+",
          "Age 3+",
          "Age 0+",
          "Age 3+",
          "Age 3+",
          "Age 5-8",
          "Age 3+",
          "Age 6-8",
          "Age 6-11",
          "Age 8-12",
          "Age 7-10",
          "Age 7-10",
          "Age 7-12",
          "Age 8-12",
          "Age 7+",
          "Age 5-9",
          "Age 6-8",
          "Age 6-11",
          "Age 6+",
          "Age 3+",
          "Age 6+",
          "Age 7+",
          "Age 7-9",
          "Age 8+",
          "Age 5+",
          "Age 5+",
          "Age 7+",
          "Age 8+",
          "Age 7+",
          "Age 5+",
          "Age 6+",
          "Age 4+",
          "Age 6+",
          "Age 6+",
          "Age 5+",
          "Age 7+",
          "Age 6+",
          "Age 6+",
          "Age 7+",
          "Age 8+",
          "Age 7-9",
          "Age 6+",
          "Age 6+",
          "Age 7+",
          "Age 7+",
          "Age 6+",
          "Age 7+",
          "Age 7-11",
          "Age 7+",
          "Age 6-11",
          "Age 6+",
          "Age 7-11",
          "Age 8+",
          "Age 5+",
          "Age 7+",
          "Age 8+",
          "Age 7+",
          "Age 7+",
          "Age 7+",
          "Age 5+",
          "Age 5+",
          "Age 6+",
          "Age 7+",
          "Age 5+",
          "Age 5+",
          "Age 6+",
          "Age 8+",
          "Age 5+",
          "Age 7+",
          "Age 6+",
          "Age 5+",
          "Age 5-9",
          "Age 6+",
          "Age 7+",
          "Age 6+",
          "Age 4+",
          "Age 8+",
          "Age 6+",
          "Age 6+",
          "Age 6-9",
          "Age 8+",
          "Age 5+",
          "Age 6+",
          "Age 5+",
          "Age 8+",
          "Age 7+",
          "Age 4+",
          "Age 7+",
          "Age 6+",
          "Age 9-14",
          "Age 9-11",
          "Age 9+",
          "Age 9-11",
          "Age 9-11",
          "Age 9+",
          "Age 10+",
          "Age 8+",
          "Age 8+",
          "Age 8+",
          "Age 8+",
          "Age 10+",
          "Age 9+",
          "Age 11+",
          "Age 10+",
          "Age 13+",
          "Age 9+",
          "Age 13+",
          "Age 10+",
          "Age 12+",
          "Age 9+",
          "Age 10+",
          "Age 10+",
          "Age 11+",
          "Age 9+",
          "Age ",
          "Age 9+",
          "Age 8+",
          "Age 9+",
          "Age 8+",
          "Age 10+",
          "Age 10+",
          "Age 10+",
          "Age 10+",
          "Age 10+",
          "Age 8+",
          "Age 9+",
          "Age 11+",
          "Age 9+",
          "Age 9+",
          "Age 11+",
          "Age 12+",
          "Age 9+",
          "Age 8+",
          "Age 9+",
          "Age 10+",
          "Age 12+",
          "Age 10+",
          "Age 12+",
          "Age 9+",
          "Age 10+",
          "Age 8+",
          "Age 10+",
          "Age 11+",
          "Age 10+",
          "Age 12+",
          "Age 9+",
          "Age 9+",
          "Age 7+",
          "Age 9+",
          "Age 10+",
          "Age 12+",
          "Age 9-13",
          "Age 9+",
          "Age 11+",
          "Age 10+",
          "Age 11+",
          "Age 9-13",
          "Age 8+",
          "Age 10+",
          "Age 8+",
          "Age 9+",
          "Age 11+",
          "Age 9+",
          "Age 12+",
          "Age 11+",
          "Age 8+",
          "Age 11+",
          "Age 11-14",
          "Age 10+",
          "Age 12+",
          "Age 12+",
          "Age 9+",
          "Age 9+",
          "Age 13+",
          "Age 9+",
          "Age 9+",
          "Age 9+",
          "Age 11+",
          "Age 8+",
          "Age 10+",
          "Age 8+",
          "Age 10+",
          "Age 11+",
          "Age 10+",
          "Age 10+",
          "Age 10-14",
          "Age 11+",
          "Age 10+",
          "Age 11+",
          "Age 9-12",
          "Age 8-12",
          "Age 12+",
          "Age 8-12",
          "Age 8-11",
          "Age 9+",
          "Age 9+",
          "Age ",
          "Age 8+",
          "Age 9+",
          "Age 6+",
          "Age 12+",
          "Age 10+",
          "Age 9+",
          "Age 9+",
          "Age 7+",
          "Age 7+",
          "Age 8+",
          "Age 7+",
          "Age 7+",
          "Age 11+",
          "Age 11+",
          "Age 11+",
          "Age 11-15",
          "Age 7+",
          "Age 9+",
          "Age 7+",
          "Age 7+",
          "Age 12+",
          "Age 7-11",
          "Age 11+",
          "Age 11+",
          "Age 8+",
          "Age 9-12",
          "Age 9+",
          "Age 7-11"
         ],
         "xaxis": "x",
         "yaxis": "y"
        }
       ],
       "layout": {
        "barmode": "stack",
        "legend": {
         "tracegroupgap": 0
        },
        "template": {
         "data": {
          "bar": [
           {
            "error_x": {
             "color": "#2a3f5f"
            },
            "error_y": {
             "color": "#2a3f5f"
            },
            "marker": {
             "line": {
              "color": "#E5ECF6",
              "width": 0.5
             }
            },
            "type": "bar"
           }
          ],
          "barpolar": [
           {
            "marker": {
             "line": {
              "color": "#E5ECF6",
              "width": 0.5
             }
            },
            "type": "barpolar"
           }
          ],
          "carpet": [
           {
            "aaxis": {
             "endlinecolor": "#2a3f5f",
             "gridcolor": "white",
             "linecolor": "white",
             "minorgridcolor": "white",
             "startlinecolor": "#2a3f5f"
            },
            "baxis": {
             "endlinecolor": "#2a3f5f",
             "gridcolor": "white",
             "linecolor": "white",
             "minorgridcolor": "white",
             "startlinecolor": "#2a3f5f"
            },
            "type": "carpet"
           }
          ],
          "choropleth": [
           {
            "colorbar": {
             "outlinewidth": 0,
             "ticks": ""
            },
            "type": "choropleth"
           }
          ],
          "contour": [
           {
            "colorbar": {
             "outlinewidth": 0,
             "ticks": ""
            },
            "colorscale": [
             [
              0,
              "#0d0887"
             ],
             [
              0.1111111111111111,
              "#46039f"
             ],
             [
              0.2222222222222222,
              "#7201a8"
             ],
             [
              0.3333333333333333,
              "#9c179e"
             ],
             [
              0.4444444444444444,
              "#bd3786"
             ],
             [
              0.5555555555555556,
              "#d8576b"
             ],
             [
              0.6666666666666666,
              "#ed7953"
             ],
             [
              0.7777777777777778,
              "#fb9f3a"
             ],
             [
              0.8888888888888888,
              "#fdca26"
             ],
             [
              1,
              "#f0f921"
             ]
            ],
            "type": "contour"
           }
          ],
          "contourcarpet": [
           {
            "colorbar": {
             "outlinewidth": 0,
             "ticks": ""
            },
            "type": "contourcarpet"
           }
          ],
          "heatmap": [
           {
            "colorbar": {
             "outlinewidth": 0,
             "ticks": ""
            },
            "colorscale": [
             [
              0,
              "#0d0887"
             ],
             [
              0.1111111111111111,
              "#46039f"
             ],
             [
              0.2222222222222222,
              "#7201a8"
             ],
             [
              0.3333333333333333,
              "#9c179e"
             ],
             [
              0.4444444444444444,
              "#bd3786"
             ],
             [
              0.5555555555555556,
              "#d8576b"
             ],
             [
              0.6666666666666666,
              "#ed7953"
             ],
             [
              0.7777777777777778,
              "#fb9f3a"
             ],
             [
              0.8888888888888888,
              "#fdca26"
             ],
             [
              1,
              "#f0f921"
             ]
            ],
            "type": "heatmap"
           }
          ],
          "heatmapgl": [
           {
            "colorbar": {
             "outlinewidth": 0,
             "ticks": ""
            },
            "colorscale": [
             [
              0,
              "#0d0887"
             ],
             [
              0.1111111111111111,
              "#46039f"
             ],
             [
              0.2222222222222222,
              "#7201a8"
             ],
             [
              0.3333333333333333,
              "#9c179e"
             ],
             [
              0.4444444444444444,
              "#bd3786"
             ],
             [
              0.5555555555555556,
              "#d8576b"
             ],
             [
              0.6666666666666666,
              "#ed7953"
             ],
             [
              0.7777777777777778,
              "#fb9f3a"
             ],
             [
              0.8888888888888888,
              "#fdca26"
             ],
             [
              1,
              "#f0f921"
             ]
            ],
            "type": "heatmapgl"
           }
          ],
          "histogram": [
           {
            "marker": {
             "colorbar": {
              "outlinewidth": 0,
              "ticks": ""
             }
            },
            "type": "histogram"
           }
          ],
          "histogram2d": [
           {
            "colorbar": {
             "outlinewidth": 0,
             "ticks": ""
            },
            "colorscale": [
             [
              0,
              "#0d0887"
             ],
             [
              0.1111111111111111,
              "#46039f"
             ],
             [
              0.2222222222222222,
              "#7201a8"
             ],
             [
              0.3333333333333333,
              "#9c179e"
             ],
             [
              0.4444444444444444,
              "#bd3786"
             ],
             [
              0.5555555555555556,
              "#d8576b"
             ],
             [
              0.6666666666666666,
              "#ed7953"
             ],
             [
              0.7777777777777778,
              "#fb9f3a"
             ],
             [
              0.8888888888888888,
              "#fdca26"
             ],
             [
              1,
              "#f0f921"
             ]
            ],
            "type": "histogram2d"
           }
          ],
          "histogram2dcontour": [
           {
            "colorbar": {
             "outlinewidth": 0,
             "ticks": ""
            },
            "colorscale": [
             [
              0,
              "#0d0887"
             ],
             [
              0.1111111111111111,
              "#46039f"
             ],
             [
              0.2222222222222222,
              "#7201a8"
             ],
             [
              0.3333333333333333,
              "#9c179e"
             ],
             [
              0.4444444444444444,
              "#bd3786"
             ],
             [
              0.5555555555555556,
              "#d8576b"
             ],
             [
              0.6666666666666666,
              "#ed7953"
             ],
             [
              0.7777777777777778,
              "#fb9f3a"
             ],
             [
              0.8888888888888888,
              "#fdca26"
             ],
             [
              1,
              "#f0f921"
             ]
            ],
            "type": "histogram2dcontour"
           }
          ],
          "mesh3d": [
           {
            "colorbar": {
             "outlinewidth": 0,
             "ticks": ""
            },
            "type": "mesh3d"
           }
          ],
          "parcoords": [
           {
            "line": {
             "colorbar": {
              "outlinewidth": 0,
              "ticks": ""
             }
            },
            "type": "parcoords"
           }
          ],
          "pie": [
           {
            "automargin": true,
            "type": "pie"
           }
          ],
          "scatter": [
           {
            "marker": {
             "colorbar": {
              "outlinewidth": 0,
              "ticks": ""
             }
            },
            "type": "scatter"
           }
          ],
          "scatter3d": [
           {
            "line": {
             "colorbar": {
              "outlinewidth": 0,
              "ticks": ""
             }
            },
            "marker": {
             "colorbar": {
              "outlinewidth": 0,
              "ticks": ""
             }
            },
            "type": "scatter3d"
           }
          ],
          "scattercarpet": [
           {
            "marker": {
             "colorbar": {
              "outlinewidth": 0,
              "ticks": ""
             }
            },
            "type": "scattercarpet"
           }
          ],
          "scattergeo": [
           {
            "marker": {
             "colorbar": {
              "outlinewidth": 0,
              "ticks": ""
             }
            },
            "type": "scattergeo"
           }
          ],
          "scattergl": [
           {
            "marker": {
             "colorbar": {
              "outlinewidth": 0,
              "ticks": ""
             }
            },
            "type": "scattergl"
           }
          ],
          "scattermapbox": [
           {
            "marker": {
             "colorbar": {
              "outlinewidth": 0,
              "ticks": ""
             }
            },
            "type": "scattermapbox"
           }
          ],
          "scatterpolar": [
           {
            "marker": {
             "colorbar": {
              "outlinewidth": 0,
              "ticks": ""
             }
            },
            "type": "scatterpolar"
           }
          ],
          "scatterpolargl": [
           {
            "marker": {
             "colorbar": {
              "outlinewidth": 0,
              "ticks": ""
             }
            },
            "type": "scatterpolargl"
           }
          ],
          "scatterternary": [
           {
            "marker": {
             "colorbar": {
              "outlinewidth": 0,
              "ticks": ""
             }
            },
            "type": "scatterternary"
           }
          ],
          "surface": [
           {
            "colorbar": {
             "outlinewidth": 0,
             "ticks": ""
            },
            "colorscale": [
             [
              0,
              "#0d0887"
             ],
             [
              0.1111111111111111,
              "#46039f"
             ],
             [
              0.2222222222222222,
              "#7201a8"
             ],
             [
              0.3333333333333333,
              "#9c179e"
             ],
             [
              0.4444444444444444,
              "#bd3786"
             ],
             [
              0.5555555555555556,
              "#d8576b"
             ],
             [
              0.6666666666666666,
              "#ed7953"
             ],
             [
              0.7777777777777778,
              "#fb9f3a"
             ],
             [
              0.8888888888888888,
              "#fdca26"
             ],
             [
              1,
              "#f0f921"
             ]
            ],
            "type": "surface"
           }
          ],
          "table": [
           {
            "cells": {
             "fill": {
              "color": "#EBF0F8"
             },
             "line": {
              "color": "white"
             }
            },
            "header": {
             "fill": {
              "color": "#C8D4E3"
             },
             "line": {
              "color": "white"
             }
            },
            "type": "table"
           }
          ]
         },
         "layout": {
          "annotationdefaults": {
           "arrowcolor": "#2a3f5f",
           "arrowhead": 0,
           "arrowwidth": 1
          },
          "coloraxis": {
           "colorbar": {
            "outlinewidth": 0,
            "ticks": ""
           }
          },
          "colorscale": {
           "diverging": [
            [
             0,
             "#8e0152"
            ],
            [
             0.1,
             "#c51b7d"
            ],
            [
             0.2,
             "#de77ae"
            ],
            [
             0.3,
             "#f1b6da"
            ],
            [
             0.4,
             "#fde0ef"
            ],
            [
             0.5,
             "#f7f7f7"
            ],
            [
             0.6,
             "#e6f5d0"
            ],
            [
             0.7,
             "#b8e186"
            ],
            [
             0.8,
             "#7fbc41"
            ],
            [
             0.9,
             "#4d9221"
            ],
            [
             1,
             "#276419"
            ]
           ],
           "sequential": [
            [
             0,
             "#0d0887"
            ],
            [
             0.1111111111111111,
             "#46039f"
            ],
            [
             0.2222222222222222,
             "#7201a8"
            ],
            [
             0.3333333333333333,
             "#9c179e"
            ],
            [
             0.4444444444444444,
             "#bd3786"
            ],
            [
             0.5555555555555556,
             "#d8576b"
            ],
            [
             0.6666666666666666,
             "#ed7953"
            ],
            [
             0.7777777777777778,
             "#fb9f3a"
            ],
            [
             0.8888888888888888,
             "#fdca26"
            ],
            [
             1,
             "#f0f921"
            ]
           ],
           "sequentialminus": [
            [
             0,
             "#0d0887"
            ],
            [
             0.1111111111111111,
             "#46039f"
            ],
            [
             0.2222222222222222,
             "#7201a8"
            ],
            [
             0.3333333333333333,
             "#9c179e"
            ],
            [
             0.4444444444444444,
             "#bd3786"
            ],
            [
             0.5555555555555556,
             "#d8576b"
            ],
            [
             0.6666666666666666,
             "#ed7953"
            ],
            [
             0.7777777777777778,
             "#fb9f3a"
            ],
            [
             0.8888888888888888,
             "#fdca26"
            ],
            [
             1,
             "#f0f921"
            ]
           ]
          },
          "colorway": [
           "#636efa",
           "#EF553B",
           "#00cc96",
           "#ab63fa",
           "#FFA15A",
           "#19d3f3",
           "#FF6692",
           "#B6E880",
           "#FF97FF",
           "#FECB52"
          ],
          "font": {
           "color": "#2a3f5f"
          },
          "geo": {
           "bgcolor": "white",
           "lakecolor": "white",
           "landcolor": "#E5ECF6",
           "showlakes": true,
           "showland": true,
           "subunitcolor": "white"
          },
          "hoverlabel": {
           "align": "left"
          },
          "hovermode": "closest",
          "mapbox": {
           "style": "light"
          },
          "paper_bgcolor": "white",
          "plot_bgcolor": "#E5ECF6",
          "polar": {
           "angularaxis": {
            "gridcolor": "white",
            "linecolor": "white",
            "ticks": ""
           },
           "bgcolor": "#E5ECF6",
           "radialaxis": {
            "gridcolor": "white",
            "linecolor": "white",
            "ticks": ""
           }
          },
          "scene": {
           "xaxis": {
            "backgroundcolor": "#E5ECF6",
            "gridcolor": "white",
            "gridwidth": 2,
            "linecolor": "white",
            "showbackground": true,
            "ticks": "",
            "zerolinecolor": "white"
           },
           "yaxis": {
            "backgroundcolor": "#E5ECF6",
            "gridcolor": "white",
            "gridwidth": 2,
            "linecolor": "white",
            "showbackground": true,
            "ticks": "",
            "zerolinecolor": "white"
           },
           "zaxis": {
            "backgroundcolor": "#E5ECF6",
            "gridcolor": "white",
            "gridwidth": 2,
            "linecolor": "white",
            "showbackground": true,
            "ticks": "",
            "zerolinecolor": "white"
           }
          },
          "shapedefaults": {
           "line": {
            "color": "#2a3f5f"
           }
          },
          "ternary": {
           "aaxis": {
            "gridcolor": "white",
            "linecolor": "white",
            "ticks": ""
           },
           "baxis": {
            "gridcolor": "white",
            "linecolor": "white",
            "ticks": ""
           },
           "bgcolor": "#E5ECF6",
           "caxis": {
            "gridcolor": "white",
            "linecolor": "white",
            "ticks": ""
           }
          },
          "title": {
           "x": 0.05
          },
          "xaxis": {
           "automargin": true,
           "gridcolor": "white",
           "linecolor": "white",
           "ticks": "",
           "title": {
            "standoff": 15
           },
           "zerolinecolor": "white",
           "zerolinewidth": 2
          },
          "yaxis": {
           "automargin": true,
           "gridcolor": "white",
           "linecolor": "white",
           "ticks": "",
           "title": {
            "standoff": 15
           },
           "zerolinecolor": "white",
           "zerolinewidth": 2
          }
         }
        },
        "title": {
         "text": "Age Distribution"
        },
        "xaxis": {
         "anchor": "y",
         "categoryorder": "category ascending",
         "domain": [
          0,
          1
         ],
         "title": {
          "text": "age"
         }
        },
        "yaxis": {
         "anchor": "x",
         "domain": [
          0,
          1
         ],
         "title": {
          "text": "count"
         }
        }
       }
      },
      "text/html": [
       "<div>                            <div id=\"d366b0e0-caf1-401b-aa1c-180ad52c1672\" class=\"plotly-graph-div\" style=\"height:525px; width:100%;\"></div>            <script type=\"text/javascript\">                require([\"plotly\"], function(Plotly) {                    window.PLOTLYENV=window.PLOTLYENV || {};                                    if (document.getElementById(\"d366b0e0-caf1-401b-aa1c-180ad52c1672\")) {                    Plotly.newPlot(                        \"d366b0e0-caf1-401b-aa1c-180ad52c1672\",                        [{\"alignmentgroup\": \"True\", \"bingroup\": \"x\", \"hovertemplate\": \"age=%{x}<br>count=%{y}<extra></extra>\", \"legendgroup\": \"\", \"marker\": {\"color\": \"#636efa\"}, \"name\": \"\", \"offsetgroup\": \"\", \"orientation\": \"v\", \"showlegend\": false, \"type\": \"histogram\", \"x\": [\"Age 2-9\", \"Age 2-9\", \"Age 2-9\", \"Age 2-9\", \"Age 2-9\", \"Age 2-9\", \"Age 2-9\", \"Age 2-9\", \"Age 2-9\", \"Age 2-9\", \"Age 2-9\", \"Age 2-9\", \"Age 2-9\", \"Age 2-9\", \"Age 2-9\", \"Age 2-9\", \"Age 2-9\", \"Age 2-9\", \"Age 2-9\", \"Age 2-9\", \"Age 1-2\", \"Age 1-3\", \"Age 0-2\", \"Age 1-3\", \"Age  0-3\", \"Age 0-3\", \"Age 0-2\", \"Age 1-3\", \"Age 3-5\", \"Age 0-3\", \"Age 0+\", \"Age 1-5\", \"Age 1-4\", \"Age 1-5\", \"Age 2-6\", \"Age 0-3\", \"Age 1-3\", \"Age 2-7\", \"Age 2-6\", \"Age 2-6\", \"Age 3-6\", \"Age 0-4\", \"Age 0-3\", \"Age 3-6\", \"Age 2-5\", \"Age 0+\", \"Age 4-6\", \"Age 1-4\", \"Age 3-6\", \"Age 2-6\", \"Age 3-6\", \"Age 2-5\", \"Age 1-4\", \"Age 0-4\", \"Age 0-3\", \"Age 3-5\", \"Age 2-6\", \"Age 2-6\", \"Age 0-3\", \"Age 3-5\", \"Age 3-6\", \"Age 0-5\", \"Age 2+\", \"Age 2-5\", \"Age 3-5\", \"Age 0-4\", \"Age 1-3\", \"Age 0-4\", \"Age 4+\", \"Age 3+\", \"Age 3-7\", \"Age 0-3\", \"Age 2+\", \"Age 0-5\", \"Age 2-5\", \"Age 0-5\", \"Age 2+\", \"Age 0-4\", \"Age 1-5\", \"Age 0-3\", \"Age 0-4\", \"Age 3+\", \"Age 0-4\", \"Age 1-3\", \"Age 0-5\", \"Age 3+\", \"Age 3-6\", \"Age 0-4\", \"Age 3-4\", \"Age 0-4\", \"Age 3-5\", \"Age 0-4\", \"Age 0-5\", \"Age 0-4\", \"Age 0+\", \"Age 2-5\", \"Age 0-5\", \"Age 3-5\", \"Age 0-3\", \"Age 1-6\", \"Age 2-5\", \"Age 2-6\", \"Age 0-4\", \"Age 2-6\", \"Age 0-4\", \"Age 0-3\", \"Age 0-5\", \"Age 2-5\", \"Age 2-5\", \"Age 3-6\", \"Age 0-4\", \"Age 0-4\", \"Age 0-3\", \"Age 1-5\", \"Age 2-6\", \"Age 0+\", \"Age 0-4\", \"Age 2-6\", \"Age 1-5\", \"Age 3-5\", \"Age 0-6\", \"Age 3-6\", \"Age 0+\", \"Age 0-5\", \"Age 4-7\", \"Age 5-8\", \"Age 5-8\", \"Age 4-7\", \"Age 4+\", \"Age 3+\", \"Age 0+\", \"Age 2-5\", \"Age 4+\", \"Age 1+\", \"Age 3+\", \"Age 5+\", \"Age 2+\", \"Age 4-11\", \"Age 2+\", \"Age 2-4\", \"Age 3+\", \"Age 3+\", \"Age 4-6\", \"Age 2+\", \"Age 4+\", \"Age 3+\", \"Age 3-6\", \"Age 0+\", \"Age 3+\", \"Age 2+\", \"Age 3+\", \"Age 4+\", \"Age 3+\", \"Age 2+\", \"Age 5+\", \"Age 4+\", \"Age 2+\", \"Age 0+\", \"Age 3+\", \"Age 3+\", \"Age 4+\", \"Age 5+\", \"Age 4-5\", \"Age 2+\", \"Age 4+\", \"Age 3-7\", \"Age 4+\", \"Age 4+\", \"Age 3-7\", \"Age 3+\", \"Age 3+\", \"Age 4+\", \"Age 3+\", \"Age 5+\", \"Age 3+\", \"Age 4-8\", \"Age 4-8\", \"Age 3+\", \"Age 1+\", \"Age 0+\", \"Age 4+\", \"Age 3+\", \"Age 3-7\", \"Age 3-7\", \"Age 4+\", \"Age 3+\", \"Age 2+\", \"Age 0+\", \"Age 4+\", \"Age 4+\", \"Age 2+\", \"Age 0+\", \"Age 1-4\", \"Age 6months+\", \"Age 3+\", \"Age 0+\", \"Age 3+\", \"Age 3+\", \"Age 4-8\", \"Age 4+\", \"Age 4+\", \"Age 3+\", \"Age 3+\", \"Age 3+\", \"Age 4-6\", \"Age 3+\", \"Age 3+\", \"Age 0+\", \"Age 3+\", \"Age 3+\", \"Age 5-8\", \"Age 3+\", \"Age 6-8\", \"Age 6-11\", \"Age 8-12\", \"Age 7-10\", \"Age 7-10\", \"Age 7-12\", \"Age 8-12\", \"Age 7+\", \"Age 5-9\", \"Age 6-8\", \"Age 6-11\", \"Age 6+\", \"Age 3+\", \"Age 6+\", \"Age 7+\", \"Age 7-9\", \"Age 8+\", \"Age 5+\", \"Age 5+\", \"Age 7+\", \"Age 8+\", \"Age 7+\", \"Age 5+\", \"Age 6+\", \"Age 4+\", \"Age 6+\", \"Age 6+\", \"Age 5+\", \"Age 7+\", \"Age 6+\", \"Age 6+\", \"Age 7+\", \"Age 8+\", \"Age 7-9\", \"Age 6+\", \"Age 6+\", \"Age 7+\", \"Age 7+\", \"Age 6+\", \"Age 7+\", \"Age 7-11\", \"Age 7+\", \"Age 6-11\", \"Age 6+\", \"Age 7-11\", \"Age 8+\", \"Age 5+\", \"Age 7+\", \"Age 8+\", \"Age 7+\", \"Age 7+\", \"Age 7+\", \"Age 5+\", \"Age 5+\", \"Age 6+\", \"Age 7+\", \"Age 5+\", \"Age 5+\", \"Age 6+\", \"Age 8+\", \"Age 5+\", \"Age 7+\", \"Age 6+\", \"Age 5+\", \"Age 5-9\", \"Age 6+\", \"Age 7+\", \"Age 6+\", \"Age 4+\", \"Age 8+\", \"Age 6+\", \"Age 6+\", \"Age 6-9\", \"Age 8+\", \"Age 5+\", \"Age 6+\", \"Age 5+\", \"Age 8+\", \"Age 7+\", \"Age 4+\", \"Age 7+\", \"Age 6+\", \"Age 9-14\", \"Age 9-11\", \"Age 9+\", \"Age 9-11\", \"Age 9-11\", \"Age 9+\", \"Age 10+\", \"Age 8+\", \"Age 8+\", \"Age 8+\", \"Age 8+\", \"Age 10+\", \"Age 9+\", \"Age 11+\", \"Age 10+\", \"Age 13+\", \"Age 9+\", \"Age 13+\", \"Age 10+\", \"Age 12+\", \"Age 9+\", \"Age 10+\", \"Age 10+\", \"Age 11+\", \"Age 9+\", \"Age \", \"Age 9+\", \"Age 8+\", \"Age 9+\", \"Age 8+\", \"Age 10+\", \"Age 10+\", \"Age 10+\", \"Age 10+\", \"Age 10+\", \"Age 8+\", \"Age 9+\", \"Age 11+\", \"Age 9+\", \"Age 9+\", \"Age 11+\", \"Age 12+\", \"Age 9+\", \"Age 8+\", \"Age 9+\", \"Age 10+\", \"Age 12+\", \"Age 10+\", \"Age 12+\", \"Age 9+\", \"Age 10+\", \"Age 8+\", \"Age 10+\", \"Age 11+\", \"Age 10+\", \"Age 12+\", \"Age 9+\", \"Age 9+\", \"Age 7+\", \"Age 9+\", \"Age 10+\", \"Age 12+\", \"Age 9-13\", \"Age 9+\", \"Age 11+\", \"Age 10+\", \"Age 11+\", \"Age 9-13\", \"Age 8+\", \"Age 10+\", \"Age 8+\", \"Age 9+\", \"Age 11+\", \"Age 9+\", \"Age 12+\", \"Age 11+\", \"Age 8+\", \"Age 11+\", \"Age 11-14\", \"Age 10+\", \"Age 12+\", \"Age 12+\", \"Age 9+\", \"Age 9+\", \"Age 13+\", \"Age 9+\", \"Age 9+\", \"Age 9+\", \"Age 11+\", \"Age 8+\", \"Age 10+\", \"Age 8+\", \"Age 10+\", \"Age 11+\", \"Age 10+\", \"Age 10+\", \"Age 10-14\", \"Age 11+\", \"Age 10+\", \"Age 11+\", \"Age 9-12\", \"Age 8-12\", \"Age 12+\", \"Age 8-12\", \"Age 8-11\", \"Age 9+\", \"Age 9+\", \"Age \", \"Age 8+\", \"Age 9+\", \"Age 6+\", \"Age 12+\", \"Age 10+\", \"Age 9+\", \"Age 9+\", \"Age 7+\", \"Age 7+\", \"Age 8+\", \"Age 7+\", \"Age 7+\", \"Age 11+\", \"Age 11+\", \"Age 11+\", \"Age 11-15\", \"Age 7+\", \"Age 9+\", \"Age 7+\", \"Age 7+\", \"Age 12+\", \"Age 7-11\", \"Age 11+\", \"Age 11+\", \"Age 8+\", \"Age 9-12\", \"Age 9+\", \"Age 7-11\"], \"xaxis\": \"x\", \"yaxis\": \"y\"}],                        {\"barmode\": \"stack\", \"legend\": {\"tracegroupgap\": 0}, \"template\": {\"data\": {\"bar\": [{\"error_x\": {\"color\": \"#2a3f5f\"}, \"error_y\": {\"color\": \"#2a3f5f\"}, \"marker\": {\"line\": {\"color\": \"#E5ECF6\", \"width\": 0.5}}, \"type\": \"bar\"}], \"barpolar\": [{\"marker\": {\"line\": {\"color\": \"#E5ECF6\", \"width\": 0.5}}, \"type\": \"barpolar\"}], \"carpet\": [{\"aaxis\": {\"endlinecolor\": \"#2a3f5f\", \"gridcolor\": \"white\", \"linecolor\": \"white\", \"minorgridcolor\": \"white\", \"startlinecolor\": \"#2a3f5f\"}, \"baxis\": {\"endlinecolor\": \"#2a3f5f\", \"gridcolor\": \"white\", \"linecolor\": \"white\", \"minorgridcolor\": \"white\", \"startlinecolor\": \"#2a3f5f\"}, \"type\": \"carpet\"}], \"choropleth\": [{\"colorbar\": {\"outlinewidth\": 0, \"ticks\": \"\"}, \"type\": \"choropleth\"}], \"contour\": [{\"colorbar\": {\"outlinewidth\": 0, \"ticks\": \"\"}, \"colorscale\": [[0.0, \"#0d0887\"], [0.1111111111111111, \"#46039f\"], [0.2222222222222222, \"#7201a8\"], [0.3333333333333333, \"#9c179e\"], [0.4444444444444444, \"#bd3786\"], [0.5555555555555556, \"#d8576b\"], [0.6666666666666666, \"#ed7953\"], [0.7777777777777778, \"#fb9f3a\"], [0.8888888888888888, \"#fdca26\"], [1.0, \"#f0f921\"]], \"type\": \"contour\"}], \"contourcarpet\": [{\"colorbar\": {\"outlinewidth\": 0, \"ticks\": \"\"}, \"type\": \"contourcarpet\"}], \"heatmap\": [{\"colorbar\": {\"outlinewidth\": 0, \"ticks\": \"\"}, \"colorscale\": [[0.0, \"#0d0887\"], [0.1111111111111111, \"#46039f\"], [0.2222222222222222, \"#7201a8\"], [0.3333333333333333, \"#9c179e\"], [0.4444444444444444, \"#bd3786\"], [0.5555555555555556, \"#d8576b\"], [0.6666666666666666, \"#ed7953\"], [0.7777777777777778, \"#fb9f3a\"], [0.8888888888888888, \"#fdca26\"], [1.0, \"#f0f921\"]], \"type\": \"heatmap\"}], \"heatmapgl\": [{\"colorbar\": {\"outlinewidth\": 0, \"ticks\": \"\"}, \"colorscale\": [[0.0, \"#0d0887\"], [0.1111111111111111, \"#46039f\"], [0.2222222222222222, \"#7201a8\"], [0.3333333333333333, \"#9c179e\"], [0.4444444444444444, \"#bd3786\"], [0.5555555555555556, \"#d8576b\"], [0.6666666666666666, \"#ed7953\"], [0.7777777777777778, \"#fb9f3a\"], [0.8888888888888888, \"#fdca26\"], [1.0, \"#f0f921\"]], \"type\": \"heatmapgl\"}], \"histogram\": [{\"marker\": {\"colorbar\": {\"outlinewidth\": 0, \"ticks\": \"\"}}, \"type\": \"histogram\"}], \"histogram2d\": [{\"colorbar\": {\"outlinewidth\": 0, \"ticks\": \"\"}, \"colorscale\": [[0.0, \"#0d0887\"], [0.1111111111111111, \"#46039f\"], [0.2222222222222222, \"#7201a8\"], [0.3333333333333333, \"#9c179e\"], [0.4444444444444444, \"#bd3786\"], [0.5555555555555556, \"#d8576b\"], [0.6666666666666666, \"#ed7953\"], [0.7777777777777778, \"#fb9f3a\"], [0.8888888888888888, \"#fdca26\"], [1.0, \"#f0f921\"]], \"type\": \"histogram2d\"}], \"histogram2dcontour\": [{\"colorbar\": {\"outlinewidth\": 0, \"ticks\": \"\"}, \"colorscale\": [[0.0, \"#0d0887\"], [0.1111111111111111, \"#46039f\"], [0.2222222222222222, \"#7201a8\"], [0.3333333333333333, \"#9c179e\"], [0.4444444444444444, \"#bd3786\"], [0.5555555555555556, \"#d8576b\"], [0.6666666666666666, \"#ed7953\"], [0.7777777777777778, \"#fb9f3a\"], [0.8888888888888888, \"#fdca26\"], [1.0, \"#f0f921\"]], \"type\": \"histogram2dcontour\"}], \"mesh3d\": [{\"colorbar\": {\"outlinewidth\": 0, \"ticks\": \"\"}, \"type\": \"mesh3d\"}], \"parcoords\": [{\"line\": {\"colorbar\": {\"outlinewidth\": 0, \"ticks\": \"\"}}, \"type\": \"parcoords\"}], \"pie\": [{\"automargin\": true, \"type\": \"pie\"}], \"scatter\": [{\"marker\": {\"colorbar\": {\"outlinewidth\": 0, \"ticks\": \"\"}}, \"type\": \"scatter\"}], \"scatter3d\": [{\"line\": {\"colorbar\": {\"outlinewidth\": 0, \"ticks\": \"\"}}, \"marker\": {\"colorbar\": {\"outlinewidth\": 0, \"ticks\": \"\"}}, \"type\": \"scatter3d\"}], \"scattercarpet\": [{\"marker\": {\"colorbar\": {\"outlinewidth\": 0, \"ticks\": \"\"}}, \"type\": \"scattercarpet\"}], \"scattergeo\": [{\"marker\": {\"colorbar\": {\"outlinewidth\": 0, \"ticks\": \"\"}}, \"type\": \"scattergeo\"}], \"scattergl\": [{\"marker\": {\"colorbar\": {\"outlinewidth\": 0, \"ticks\": \"\"}}, \"type\": \"scattergl\"}], \"scattermapbox\": [{\"marker\": {\"colorbar\": {\"outlinewidth\": 0, \"ticks\": \"\"}}, \"type\": \"scattermapbox\"}], \"scatterpolar\": [{\"marker\": {\"colorbar\": {\"outlinewidth\": 0, \"ticks\": \"\"}}, \"type\": \"scatterpolar\"}], \"scatterpolargl\": [{\"marker\": {\"colorbar\": {\"outlinewidth\": 0, \"ticks\": \"\"}}, \"type\": \"scatterpolargl\"}], \"scatterternary\": [{\"marker\": {\"colorbar\": {\"outlinewidth\": 0, \"ticks\": \"\"}}, \"type\": \"scatterternary\"}], \"surface\": [{\"colorbar\": {\"outlinewidth\": 0, \"ticks\": \"\"}, \"colorscale\": [[0.0, \"#0d0887\"], [0.1111111111111111, \"#46039f\"], [0.2222222222222222, \"#7201a8\"], [0.3333333333333333, \"#9c179e\"], [0.4444444444444444, \"#bd3786\"], [0.5555555555555556, \"#d8576b\"], [0.6666666666666666, \"#ed7953\"], [0.7777777777777778, \"#fb9f3a\"], [0.8888888888888888, \"#fdca26\"], [1.0, \"#f0f921\"]], \"type\": \"surface\"}], \"table\": [{\"cells\": {\"fill\": {\"color\": \"#EBF0F8\"}, \"line\": {\"color\": \"white\"}}, \"header\": {\"fill\": {\"color\": \"#C8D4E3\"}, \"line\": {\"color\": \"white\"}}, \"type\": \"table\"}]}, \"layout\": {\"annotationdefaults\": {\"arrowcolor\": \"#2a3f5f\", \"arrowhead\": 0, \"arrowwidth\": 1}, \"coloraxis\": {\"colorbar\": {\"outlinewidth\": 0, \"ticks\": \"\"}}, \"colorscale\": {\"diverging\": [[0, \"#8e0152\"], [0.1, \"#c51b7d\"], [0.2, \"#de77ae\"], [0.3, \"#f1b6da\"], [0.4, \"#fde0ef\"], [0.5, \"#f7f7f7\"], [0.6, \"#e6f5d0\"], [0.7, \"#b8e186\"], [0.8, \"#7fbc41\"], [0.9, \"#4d9221\"], [1, \"#276419\"]], \"sequential\": [[0.0, \"#0d0887\"], [0.1111111111111111, \"#46039f\"], [0.2222222222222222, \"#7201a8\"], [0.3333333333333333, \"#9c179e\"], [0.4444444444444444, \"#bd3786\"], [0.5555555555555556, \"#d8576b\"], [0.6666666666666666, \"#ed7953\"], [0.7777777777777778, \"#fb9f3a\"], [0.8888888888888888, \"#fdca26\"], [1.0, \"#f0f921\"]], \"sequentialminus\": [[0.0, \"#0d0887\"], [0.1111111111111111, \"#46039f\"], [0.2222222222222222, \"#7201a8\"], [0.3333333333333333, \"#9c179e\"], [0.4444444444444444, \"#bd3786\"], [0.5555555555555556, \"#d8576b\"], [0.6666666666666666, \"#ed7953\"], [0.7777777777777778, \"#fb9f3a\"], [0.8888888888888888, \"#fdca26\"], [1.0, \"#f0f921\"]]}, \"colorway\": [\"#636efa\", \"#EF553B\", \"#00cc96\", \"#ab63fa\", \"#FFA15A\", \"#19d3f3\", \"#FF6692\", \"#B6E880\", \"#FF97FF\", \"#FECB52\"], \"font\": {\"color\": \"#2a3f5f\"}, \"geo\": {\"bgcolor\": \"white\", \"lakecolor\": \"white\", \"landcolor\": \"#E5ECF6\", \"showlakes\": true, \"showland\": true, \"subunitcolor\": \"white\"}, \"hoverlabel\": {\"align\": \"left\"}, \"hovermode\": \"closest\", \"mapbox\": {\"style\": \"light\"}, \"paper_bgcolor\": \"white\", \"plot_bgcolor\": \"#E5ECF6\", \"polar\": {\"angularaxis\": {\"gridcolor\": \"white\", \"linecolor\": \"white\", \"ticks\": \"\"}, \"bgcolor\": \"#E5ECF6\", \"radialaxis\": {\"gridcolor\": \"white\", \"linecolor\": \"white\", \"ticks\": \"\"}}, \"scene\": {\"xaxis\": {\"backgroundcolor\": \"#E5ECF6\", \"gridcolor\": \"white\", \"gridwidth\": 2, \"linecolor\": \"white\", \"showbackground\": true, \"ticks\": \"\", \"zerolinecolor\": \"white\"}, \"yaxis\": {\"backgroundcolor\": \"#E5ECF6\", \"gridcolor\": \"white\", \"gridwidth\": 2, \"linecolor\": \"white\", \"showbackground\": true, \"ticks\": \"\", \"zerolinecolor\": \"white\"}, \"zaxis\": {\"backgroundcolor\": \"#E5ECF6\", \"gridcolor\": \"white\", \"gridwidth\": 2, \"linecolor\": \"white\", \"showbackground\": true, \"ticks\": \"\", \"zerolinecolor\": \"white\"}}, \"shapedefaults\": {\"line\": {\"color\": \"#2a3f5f\"}}, \"ternary\": {\"aaxis\": {\"gridcolor\": \"white\", \"linecolor\": \"white\", \"ticks\": \"\"}, \"baxis\": {\"gridcolor\": \"white\", \"linecolor\": \"white\", \"ticks\": \"\"}, \"bgcolor\": \"#E5ECF6\", \"caxis\": {\"gridcolor\": \"white\", \"linecolor\": \"white\", \"ticks\": \"\"}}, \"title\": {\"x\": 0.05}, \"xaxis\": {\"automargin\": true, \"gridcolor\": \"white\", \"linecolor\": \"white\", \"ticks\": \"\", \"title\": {\"standoff\": 15}, \"zerolinecolor\": \"white\", \"zerolinewidth\": 2}, \"yaxis\": {\"automargin\": true, \"gridcolor\": \"white\", \"linecolor\": \"white\", \"ticks\": \"\", \"title\": {\"standoff\": 15}, \"zerolinecolor\": \"white\", \"zerolinewidth\": 2}}}, \"title\": {\"text\": \"Age Distribution\"}, \"xaxis\": {\"anchor\": \"y\", \"categoryorder\": \"category ascending\", \"domain\": [0.0, 1.0], \"title\": {\"text\": \"age\"}}, \"yaxis\": {\"anchor\": \"x\", \"domain\": [0.0, 1.0], \"title\": {\"text\": \"count\"}}},                        {\"responsive\": true}                    ).then(function(){\n",
       "                            \n",
       "var gd = document.getElementById('d366b0e0-caf1-401b-aa1c-180ad52c1672');\n",
       "var x = new MutationObserver(function (mutations, observer) {{\n",
       "        var display = window.getComputedStyle(gd).display;\n",
       "        if (!display || display === 'none') {{\n",
       "            console.log([gd, 'removed!']);\n",
       "            Plotly.purge(gd);\n",
       "            observer.disconnect();\n",
       "        }}\n",
       "}});\n",
       "\n",
       "// Listen for the removal of the full notebook cells\n",
       "var notebookContainer = gd.closest('#notebook-container');\n",
       "if (notebookContainer) {{\n",
       "    x.observe(notebookContainer, {childList: true});\n",
       "}}\n",
       "\n",
       "// Listen for the clearing of the current output cell\n",
       "var outputEl = gd.closest('.output');\n",
       "if (outputEl) {{\n",
       "    x.observe(outputEl, {childList: true});\n",
       "}}\n",
       "\n",
       "                        })                };                });            </script>        </div>"
      ]
     },
     "metadata": {},
     "output_type": "display_data"
    }
   ],
   "source": [
    "fig = px.histogram(df, x=\"cats\", title=\"Age Distribution\", labels={'cats':'age'})\n",
    "fig.update_layout(barmode='stack', xaxis={'categoryorder':'category ascending'})\n",
    "fig.show()"
   ]
  },
  {
   "cell_type": "markdown",
   "metadata": {},
   "source": [
    "<h2> Tokenization from Udacity <h2>"
   ]
  },
  {
   "cell_type": "code",
   "execution_count": 421,
   "metadata": {},
   "outputs": [],
   "source": [
    "X = df.desc.values\n",
    "y = df.min_age.values\n",
    "def tokenize(desc):\n",
    "    \n",
    "    stop_words = set(stopwords.words('english'))\n",
    "    tokens = word_tokenize(desc)\n",
    "    lemmatizer = WordNetLemmatizer()\n",
    "\n",
    "    filtered = [w for w in tokens if not w in stop_words]\n",
    "    filtered = []\n",
    "    for tok in tokens:\n",
    "        if tok not in stop_words:\n",
    "            clean_tok = lemmatizer.lemmatize(tok).lower().strip()\n",
    "            filtered.append(clean_tok)\n",
    "   \n",
    "    print(filtered[:10])\n",
    "    return filtered"
   ]
  },
  {
   "cell_type": "markdown",
   "metadata": {},
   "source": [
    "<h2> Machine learning from Udacity <h2>"
   ]
  },
  {
   "cell_type": "code",
   "execution_count": 422,
   "metadata": {},
   "outputs": [],
   "source": [
    "def display_results(y_test, y_pred):\n",
    "    accuracy = (y_pred == y_test).mean()\n",
    "\n",
    "    print(\"Accuracy:\", accuracy)"
   ]
  },
  {
   "cell_type": "code",
   "execution_count": 423,
   "metadata": {},
   "outputs": [
    {
     "name": "stdout",
     "output_type": "stream",
     "text": [
      "['morpurgo', 'elaborates', 'traditional', '13th', 'century', 'tale', 'pied', 'piper', 'denied', 'payment']\n",
      "['based', 'research', 'benefit', 'massage', 'baby', 'exercise', 'book', 'stimulates', 'babyâ', 'sens']\n",
      "['exuberant', 'character', 'include', 'child', 'supported', 'mat', 'child', 'leg', 'spli']\n",
      "['originally', 'published', '40', 'year', 'ago', 'blake', 'patrick', 'remains', 'entertaining', 'endearing']\n",
      "['follow', 'father', 'family', 'go', 'search', 'bear', 'wade', 'grass', 'splash', 'river']\n",
      "['meet', 'bella', 'george', 'theyâ', 'happy', 'couple', 'away', 'day', 'dusting', 'eating']\n",
      "['homerâ', 'classic', 'greek', 'tale', 'odyssey', 'retold', 'contemporary', 'audience', 'thrilling', 'picture']\n",
      "['hour', 'late', 'mr', 'bear', 'tired', 'sleep', 'however', 'hard', 'try', 'hear']\n",
      "['happened', 'rapunzel', 'freed', 'tower', 'rumpelstiltskin', 'end', 'striking', 'notorious', 'deal', 'truth']\n",
      "['different', 'bear', 'introduced', 'page', 'colourful', 'board', 'book', 'something', 'quite', 'right']\n",
      "['dream', 'last', 'night', 'large', 'enough', 'fill', 'rest', 'life', 'retelling', 'john']\n",
      "['â', 'big', 'collection', 'forty', 'rhyme', 'enjoy', 'together', 'â', 'itâ', 'great']\n",
      "['zany', 'rhyming', 'text', 'complement', 'lively', 'humorous', 'illustration', 'wonderful', 'abc', 'book']\n",
      "['first', 'book', 'adrian', 'mole', 'series', 'publishing', 'sensation', 'back', '1980s', 'still']\n",
      "['ancient', 'feud', 'giant', 'magic', 'spell', 'dramatic', 'landscape', 'revenge', 'betrayal', 'plethora']\n",
      "['willy', 'dream', 'film', 'star', 'sumo', 'wrestler', 'even', 'ballet', 'dancer', 'willy']\n",
      "['family', 'come', 'much', 'stranger', 'saffron', 'child', 'named', 'paint', 'colour', 'chart']\n",
      "['child', 'library', 'could', 'complete', 'without', 'milne', 'story', 'pooh', 'christopher', 'robin']\n",
      "['wait', 'cat', 'look', 'another', 'shark', 'phew', 'crow', 'next', 'time', 'dad']\n",
      "['princess', 'smartypants', 'want', 'get', 'married', 'enjoys', 'm', 'rich', 'pretty', 'princess']\n",
      "['elliot', 'wish', 'mum', 'interesting', 'everyone', 'elseâ', 'parent', 'exciting', 'thing', 'like']\n",
      "['firefighter', 'bear', 'going', 'work', 'fire', 'truck', 'zoom', 'street', 'truck', 'go']\n",
      "['classic', 'tale', 'dylan', 'learns', 'make', 'friend', 'despite', 'obstacle', 'happily', 'ever']\n",
      "['stanley', 'lambchop', 'wake', 'one', 'morning', 'find', 'notice', 'board', 'dropped', 'night']\n",
      "['small', 'bear', 'darkest', 'peru', 'still', 'keep', 'marmalade', 'sandwich', 'hat', 'use']\n",
      "['sad', 'lonely', 'penguin', 'appeared', 'door', 'young', 'boy', 'boy', 'decided', 'must']\n",
      "['andrew', 'macdhui', 'vet', 'known', 'bit', 'hard', 'hearted', 'â', 'except', 'come']\n",
      "['two', 'former', 'childrenâ', 'laureate', 'join', 'force', 'brilliantly', 'entertaining', 'poetry', 'collection']\n",
      "['new', 'edition', 'much', 'loved', 'classic', 'immensely', 'popular', 'joan', 'aiken', 'arabelâ']\n",
      "['follow', 'father', 'family', 'go', 'search', 'bear', 'wade', 'grass', 'splash', 'river']\n",
      "['fourteen', 'year', 'old', 'mi6', 'agent', 'alex', 'rider', 'fourth', 'case', 'plunge']\n",
      "['beautiful', 'strong', 'board', 'book', 'part', 'series', 'introducing', 'well', 'loved', 'game']\n",
      "['new', 'york', 'apartment', 'catherine', 'watch', 'small', 'girl', 'removing', 'glass', 'preparing']\n",
      "['shola', 'small', 'white', 'dog', 'life', 'devoted', 'owner', 'senor', 'grogo', 'senor']\n",
      "['baby', 'elephant', 'loses', 'teddy', 'sleep', 'elmer', 'lends', 'promising', 'help', 'find']\n",
      "['follow', 'mog', 'little', 'boy', 'busy', 'day', 'wake', 'morning', 'big', 'stretch']\n",
      "['little', 'beauty', 'inspired', 'many', 'story', 'oh', 'get', 'name', 'called', 'ladybug']\n",
      "['one', 'day', 'kipper', 'dog', 'find', 'canâ', 'get', 'comfortable', 'basket', 'take']\n",
      "['one', 'sunny', 'day', 'alfie', 'decides', 'explore', 'bottom', 'garden', 'looking', 'peace']\n",
      "['king', 'want', 'magician', 'melric', 'make', 'powerful', 'melric', 'keep', 'telling', 'power']\n",
      "['new', 'school', 'rafaella', 'suffers', 'daily', 'name', 'calling', 'peer', 'lucy', 'feel']\n",
      "['dad', 'everything', 'well', 'running', 'like', 'cheetah', 'singing', 'like', 'pop', 'star']\n",
      "['shirley', 'hughes', 'much', 'loved', 'alfie', 'go', 'first', 'birthday', 'party', 'lovely']\n",
      "['affectionate', 'portrait', 'family', 'life', 'story', 'naughty', 'three', 'year', 'old', 'sister']\n",
      "['else', 'babette', 'cole', 'would', 'audacity', 'tackle', 'puberty', 'picture', 'book', 'comic']\n",
      "['emily', 'toy', 'rabbit', 'stanley', 'love', 'go', 'adventure', 'together', 'one', 'day']\n",
      "['welcome', 'republication', 'anthony', 'browne', 'classic', '1977', 'two', 'child', 'different', 'background']\n",
      "['follow', 'ahlbergs', 'classic', 'jolly', 'postman', 'people', 'letter', 'follow', 'happy', 'postman']\n",
      "['jade', 'devastated', 'best', 'friend', 'killed', 'car', 'wonder', 'manage', 'without', 'initially']\n",
      "['james', 'build', 'snowman', 'garden', 'wake', 'night', 'find', 'come', 'life', 'show']\n",
      "['hilarious', 'collection', 'well', 'loved', 'fairy', 'tale', 'cleverly', 'reinvented', 'roald', 'dahl']\n",
      "['life', 'toilet', 'attendant', 'jim', 'bloggs', 'pretty', 'dreary', 'great', 'wish', 'escape']\n",
      "['december', '24th', 'poor', 'father', 'christmas', 'mean', 'hardest', 'night', 'work', 'ahead']\n",
      "['alfie', 'decides', 'enter', 'painting', 'competition', 'big', 'school', 'harvest', 'fair', 'judge']\n",
      "['tibble', 'reporter', 'sacked', 'newspaper', 'story', 'cat', 'young', 'woman', 'chased', 'tree']\n",
      "['little', 'mermaid', 'life', 'happily', 'sea', 'older', 'sister', 'tale', 'see', 'surface']\n",
      "['shape', 'game', 'emerged', 'result', 'anthony', 'browne', 'experience', 'illustrator', 'residence', 'tate']\n",
      "['cat', 'determined', 'find', 'somewhere', 'comfortable', 'quiet', 'sleep', 'one', 'four', 'simple']\n",
      "['jansson', 'moomins', 'entertained', 'young', 'reader', 'sixty', 'five', 'year', 'puffin', 'celebrating']\n",
      "['tom', 'sent', 'away', 'stay', 'aunt', 'uncle', 'summer', 'holiday', 'garden', 'child']\n",
      "['iron', 'man', 'fearsome', 'figure', 'wreaking', 'terrible', 'destruction', 'wherever', 'go', 'stopped']\n",
      "['set', '1947', 'story', 'open', '12', 'year', 'old', 'elsie', 'misfit', 'scholarship']\n",
      "['alphabet', 'book', 'difference', 'unexpected', 'juxtaposed', 'everyday', 'sometimes', 'surreal', 'effect', 'amusing']\n",
      "['evocative', 'collection', 'short', 'story', 'give', 'clear', 'insight', 'experience', 'lie', 'behind']\n",
      "['part', 'sign', 'singalong', 'series', 'bright', 'colourful', 'book', 'featuring', 'child', 'showing']\n",
      "['satisfyingly', 'old', 'fashioned', 'story', 'set', 'early', '1900s', 'orphan', 'maia', 'thrilled']\n",
      "['beginning', 'summary', 'dickens', 'famous', 'story', 'search', 'find', 'book', 'take', 'reader']\n",
      "['welcome', 'republication', 'thirty', 'year', 'old', 'modern', 'classic', 'prolific', 'author', 'illustrator']\n",
      "['charles', 'wallace', 'murry', 'go', 'searching', 'wrinkle', 'time', 'lost', 'father', 'find']\n",
      "['five', 'sibling', 'cyril', 'anthea', 'robert', 'jane', 'baby', 'brother', 'lamb', 'discover']\n",
      "['escaped', 'old', 'possum', 'book', 'practical', 'cat', 'macavity', 'star', 'picture', 'book']\n",
      "['anna', 'russian', 'countess', 'brought', 'amidst', 'opulent', 'luxury', 'doted', 'parent', 'governess']\n",
      "['highly', 'amusing', 'tale', 'reverend', 'lee', 'realise', 'dyslexia', 'affecting', 'sermon', 'parishioner']\n",
      "['end', 'edward', 'lear', 'much', 'loved', 'poem', 'happily', 'married', 'owl', 'pussy']\n",
      "['dusty', 'dog', 'bored', 'want', 'go', 'walk', 'head', 'circuit', 'town', 'visit']\n",
      "['bad', 'beginning', 'first', '13', 'volume', 'appropriately', 'named', 'collection', 'series', 'unfortunate']\n",
      "['great', 'book', 'especially', 'boy', 'huge', 'digger', 'truck', 'love', 'picture', 'attract']\n",
      "['old', 'green', 'fordson', 'tractor', 'back', 'grandpa', 'barn', 'always', 'covered', 'cornsacks']\n",
      "['ellie', 'ever', 'thought', 'much', 'size', 'much', 'weighs', 'nadine', 'chance', 'become']\n",
      "['gentle', 'beautiful', 'picture', 'book', 'three', 'baby', 'bear', 'playing', 'snow', 'mummy']\n",
      "['helen', 'johnston', 'rush', 'registration', 'tear', 'kitty', 'killin', 'sent', 'kitty', 'great']\n",
      "['large', 'format', 'picture', 'book', 'strong', 'page', 'peep', 'hole', 'taking', 'u']\n",
      "['miserable', 'school', 'trip', 'harwick', 'hall', 'livened', 'five', 'student', 'discovery', 'secret']\n",
      "['castle', 'inside', 'come', 'lorinaâ', 'head', 'moment', 'mr', 'blair', 'set', 'school']\n",
      "['za', 'za', 'mum', 'baby', 'hard', 'za', 'za', 'feel', 'left', 'baby']\n",
      "['bold', 'colourful', 'great', 'fun', 'simple', 'striking', 'book', 'humorous', 'depiction', 'one']\n",
      "['willie', 'beech', 'evacuated', 'tiny', 'english', 'village', 'country', 'outbreak', 'world', 'war']\n",
      "['mr', 'pepperpot', 'unfortunate', 'problem', 'shrink', 'unexpected', 'moment', 'one', 'moment', 'come']\n",
      "['sloth', 'life', 'rainforest', 'puma', 'bat', 'monkey', 'many', 'animal', 'sloth', 'fellow']\n",
      "['executed', 'lively', 'comic', 'book', 'form', 'series', 'everyday', 'yet', 'unlikely', 'adventure']\n",
      "['whole', 'new', 'generation', 'child', 'enjoy', 'classic', 'story', 'finding', 'perfect', 'family']\n",
      "['alex', 'rider', 'plucked', 'life', 'average', 'schoolboy', 'pit', 'wit', 'spy', 'mi6']\n",
      "['mr', 'wolf', 'dig', 'enormous', 'turnip', 'garden', 'stew', 'frog', 'demand', 'assistance']\n",
      "['sun', 'shine', 'wet', 'play', 'begin', 'favourite', 'story', 'classic', 'child', 'author']\n",
      "['rosie', 'unflappable', 'hen', 'introduces', 'young', 'child', 'reading', 'picture', 'finding', 'tell']\n",
      "['creator', 'miffy', 'come', 'beautiful', 'edition', 'dick', 'bruna', 'charming', 'christmas', 'book']\n",
      "['enjoyable', 'collection', 'popular', 'childrenâ', 'poet', 'tony', 'mitton', 'brings', 'together', 'wide']\n",
      "['ned', 'always', 'look', 'forward', 'friday', 'get', 'chance', 'play', 'joybaloo', 'find']\n",
      "['melric', 'kingâ', 'magician', 'us', 'magic', 'help', 'everyone', 'kingdom', 'everything', 'watering']\n",
      "['discover', 'collection', 'extraordinary', 'letter', 'magical', 'new', 'volume', 'short', 'story', 'letter']\n",
      "['major', 'film', 'horton', 'hears', 'hilarious', 'picture', 'book', 'verse', 'world', 'famous']\n",
      "['last', 'bubble', 'popped', 'gone', 'piece', 'paper', 'lay', 'ground', 'written', 'â']\n",
      "['little', 'princess', 'hate', 'nappy', 'think', 'must', 'something', 'better', 'first', 'think']\n",
      "['marcia', 'williamsâ', 'brilliant', 'wheeze', 'depicting', 'classic', 'myth', 'legend', 'humorous', 'comic']\n",
      "['story', 'wooden', 'puppet', 'learns', 'goodness', 'becomes', 'real', 'boy', 'famous', 'world']\n",
      "['christmas', 'eve', 'wealthy', 'ben', 'mouse', 'settle', 'sleep', 'warm', 'bed', 'comfortable']\n",
      "['bind', 'three', 'book', 'deadly', 'dare', 'computer', 'ghost', 'lie', 'detective', 'featuring']\n",
      "['journey', 'back', 'time', 'era', 'ancient', 'egyptian', 'religion', 'ritual', 'central', 'people']\n",
      "['deep', 'forest', 'life', 'beautiful', 'little', 'fir', 'tree', 'though', 'heâ', 'surrounded']\n",
      "['lucy', 'tom', 'getting', 'ready', 'christmas', 'mass', 'pudding', 'stir', 'card', 'make']\n",
      "['prospect', 'second', 'world', 'war', 'loom', 'europe', 'london', 'ellen', 'carr', 'prepares']\n",
      "['james', 'build', 'snowman', 'garden', 'wake', 'night', 'find', 'come', 'life', 'show']\n",
      "['anne', 'shirley', 'opinionated', 'decidedly', 'red', 'haired', '11', 'year', 'old', 'orphan']\n",
      "['story', 'naughty', 'character', 'told', 'century', 'horrid', 'henry', 'modern', 'day', 'rogue']\n",
      "['fly', 'pie', 'sham', 'rubbish', 'picker', 'go', 'tip', 'every', 'day', 'pick']\n",
      "['twig', 'always', 'felt', 'little', 'bit', 'different', 'rest', 'family', 'friend', 'warned']\n",
      "['belle', 'sã', 'bastien', 'born', 'snowy', 'day', 'sã', 'bastien', 'whose', 'mother']\n",
      "['heart', 'two', 'size', 'small', 'grinch', 'meanest', 'creature', 'ever', 'meet', 'hate']\n",
      "['war', 'force', 'omar', 'flee', 'home', 'afghanistan', 'dad', 'killed', 'omar', 'lovely']\n",
      "['alison', 'family', 'spending', 'holiday', 'wale', 'bed', 'breakfast', 'run', 'gwyn', 'mother']\n",
      "['simple', 'board', 'book', 'featuring', 'well', 'known', 'nursery', 'rhyme', 'interactive', 'text']\n",
      "['ever', 'wondered', 'might', 'rise', 'toilet', 'lift', 'lid', 'billy', 'barnes', 'case']\n",
      "['sometimes', 'day', 'begin', 'nothing', 'look', 'forward', 'follow', 'young', 'person', 'go']\n",
      "['sudden', 'death', 'father', 'sally', 'lockhart', 'forced', 'go', 'live', 'london', 'obnoxious']\n",
      "['peach', 'pear', 'plum', 'spy', 'tom', 'thumb', 'classic', 'book', 'author', 'illustrator']\n",
      "['sally', 'learns', 'difference', 'make', 'world', 'happier', 'place', 'live', 'world', 'would']\n",
      "['grace', 'love', 'act', 'story', 'sometimes', 'play', 'leading', 'part', 'sometimes', 'cast']\n",
      "['one', 'growing', 'series', 'touch', 'feel', 'board', 'book', 'interesting', 'texture', 'shape']\n",
      "['trevorâ', 'mother', 'offer', 'â', '30', 'heâ', 'walk', 'dog', 'every', 'day']\n",
      "['lonely', 'artist', 'set', 'home', 'isolated', 'lighthouse', 'seabird', 'boating', 'painting', 'distraction']\n",
      "['join', 'elmer', 'beloved', 'patchwork', 'elephant', 'go', 'day', 'meet', 'eat', 'playful']\n",
      "['way', 'visit', 'grandmother', 'little', 'red', 'riding', 'hood', 'meet', 'big', 'bad']\n",
      "['modern', 'fantasy', 'fairytale', 'jackie', 'mum', 'live', 'estate', 'surrounded', 'tower', 'block']\n",
      "['although', 'lizzie', 'moving', 'new', 'home', 'new', 'stepdad', 'two', 'step', 'brother']\n",
      "['mary', 'lennox', 'sallow', 'bad', 'tempered', 'orphan', 'heroine', 'secret', 'garden', 'grown']\n",
      "['sophisticated', 'cartoon', 'strip', 'picture', 'book', 'older', 'child', 'follows', 'one', 'day']\n",
      "['unfortunate', 'baudelaire', 'child', 'enrolled', 'prufrock', 'preparatory', 'school', 'safe', 'keeping', 'vice']\n",
      "['bold', 'colourful', 'great', 'fun', 'simple', 'striking', 'book', 'humorous', 'depiction', 'one']\n",
      "['jack', 'nancy', 'want', 'adventure', 'live', 'beside', 'sea', 'bedroom', 'window', 'see']\n",
      "['first', 'met', 'wombles', '40', 'year', 'ago', 'since', 'theyâ', 'appeared', 'many']\n",
      "['pleasure', 'parent', 'child', 'activity', 'like', 'storytelling', 'playing', 'hide', 'seek', 'bathtime']\n",
      "['without', 'beloved', 'father', 'mile', 'home', 'hard', 'sara', 'crewe', 'like', 'new']\n",
      "['za', 'za', 'mum', 'baby', 'hard', 'za', 'za', 'feel', 'left', 'baby']\n",
      "['toby', 'fed', 'feel', 'like', 'anything', 'imagine', 'amazement', 'whole', 'new', 'world']\n",
      "['one', 'day', 'hogarth', 'child', 'sight', 'giant', 'made', 'metal', 'afar', 'run']\n",
      "['baby', 'may', 'born', 'different', 'country', 'look', 'little', 'different', 'different', 'need']\n",
      "['nearly', '100', 'year', 'old', 'story', 'center', 'life', 'three', 'child', 'whose']\n",
      "['mia', 'hide', 'real', 'feeling', 'take', 'care', 'disastrously', 'disorganised', 'mother', 'absent']\n",
      "['detective', 'peterson', 'trying', 'find', 'sally', 'sue', 'lost', 'beautiful', 'smile', 'find']\n",
      "['one', 'day', 'elephant', 'offer', 'baby', 'ride', 'town', 'set', 'great', 'adventure']\n",
      "['based', 'rime', 'ancient', 'mariner', 'offering', 'consistently', 'fabulous', 'chris', 'priestley', 'revives']\n",
      "['spoilt', 'bad', 'tempered', 'mary', 'orphaned', 'age', 'ten', 'sent', 'india', 'live']\n",
      "['mark', '40th', 'anniversary', 'raymond', 'briggs', 'much', 'loved', 'picture', 'book', 'michael']\n",
      "['eric', 'carle', 'hungry', 'caterpillar', 'deserves', 'reputation', 'much', 'loved', 'classic', 'full']\n",
      "['stanley', 'yelnats', 'family', 'history', 'bad', 'luck', 'entirely', 'surprised', 'miscarriage', 'justice']\n",
      "['fifth', 'alex', 'rider', 'adventure', 'see', 'teenage', 'spy', 'venice', 'infiltrates', 'scorpia']\n",
      "['paddington', 'brown', 'bear', 'darkest', 'peru', 'found', 'brown', 'family', 'paddington', 'station']\n",
      "['pevensie', 'child', 'peter', 'susan', 'edmund', 'lucy', 'step', 'wardrobe', 'door', 'strange']\n",
      "['archetypal', 'school', 'story', 'take', 'following', 'heroine', 'starting', 'first', 'term', 'boarding']\n",
      "['mr', 'wobble', 'waitress', 'love', 'job', 'customer', 'like', 'trouble', 'wobble', 'spilling']\n",
      "['â', 'big', 'collection', 'forty', 'rhyme', 'enjoy', 'together', 'â', 'itâ', 'great']\n",
      "['sneaked', 'rabbit', 'hole', 'slightest', 'inkling', 'danger', 'always', 'wore', 'air', 'caution']\n",
      "['little', 'hare', 'daddy', 'compare', 'much', 'love', 'little', 'hare', 'love', 'daddy']\n",
      "['bfg', 'stand', 'big', 'friendly', 'giant', 'unexpectedly', 'spirit', 'little', 'girl', 'named']\n",
      "['jo', 'saved', 'pocket', 'money', 'tempted', 'spend', 'local', 'shop', 'instead', 'decides']\n",
      "['tiny', 'tom', 'thumb', 'larger', 'father', 'thumb', 'always', 'getting', 'trouble', 'traditional']\n",
      "['happy', 'book', 'baby', 'toddler', 'one', 'one', 'able', 'listen', 'remain', 'sitting']\n",
      "['jade', 'start', 'receive', 'e', 'mail', 'message', 'father', 'two', 'month', 'death']\n",
      "['bumper', 'edition', 'contains', 'four', 'story', 'illustration', 'award', 'winning', 'tony', 'ross']\n",
      "['melric', 'kingâ', 'magician', 'us', 'magic', 'help', 'everyone', 'kingdom', 'everything', 'watering']\n",
      "['celebrates', 'love', 'warmth', 'surround', 'cherished', 'infant', 'beautifully', 'illustrated', 'retelling', 'traditional']\n",
      "['welcome', 'republication', 'thirty', 'year', 'old', 'modern', 'classic', 'prolific', 'author', 'illustrator']\n",
      "['mouse', 'piano', 'rabbit', 'pantry', 'hedgehog', 'cellar', 'welcome', 'home', 'dr', 'dolittle']\n",
      "['borrower', 'tiny', 'people', 'live', 'secret', 'place', 'old', 'house', 'behind', 'mantlepiece']\n",
      "['flight', 'fascinating', 'especially', 'â', 'child', 'balloon', 'bird', 'rocket', 'butterfly', 'list']\n",
      "['jamal', 'made', 'case', 'next', 'open', 'house', 'mattered', 'much', 'download', 'free']\n",
      "['dr', 'zobâ', 'evil', 'plan', 'failed', 'thanks', 'wonder', 'dog', 'winston', 'princess']\n",
      "['bear', 'set', 'search', 'missing', 'hat', 'along', 'way', 'asks', 'animal', 'meet']\n",
      "['megan', '15', 'realises', 'pregnant', 'gcseâ', 'imminent', 'babyâ', 'father', 'seems', 'disinterested']\n",
      "['matilda', 'yet', 'five', 'year', 'old', 'already', 'unusual', 'child', 'teaching', 'read']\n",
      "['abe', 'real', 'service', 'dog', 'dedicated', 'life', 'assisting', 'bj', 'good', 'family']\n",
      "['another', 'game', 'hide', 'seek', 'first', 'fell', 'deep', 'dark', 'hole', 'ground']\n",
      "['angst', 'ridden', 'teenage', 'heroine', 'georgia', 'nicolson', 'hilariously', 'reflects', 'trial', 'tribulation']\n",
      "['utterly', 'relentless', 'gripping', 'page', 'turning', 'thriller', 'ride', 'skeleton', 'key', 'third']\n",
      "['colourful', 'board', 'book', 'ever', 'popular', 'elmer', 'elephant', 'praise', 'friend', 'different']\n",
      "['major', 'film', 'horton', 'hears', 'hilarious', 'picture', 'book', 'verse', 'world', 'famous']\n",
      "['clarice', 'bean', 'find', 'family', 'life', 'exhausting', 'exasperating', 'school', 'better', 'particularly']\n",
      "['leaving', 'spring', 'cleaning', 'behind', 'timid', 'mole', 'venture', 'beyond', 'familiar', 'comfort']\n",
      "['telling', 'traditional', 'story', 'take', 'another', 'world', 'irresistible', 'african', 'version', 'great']\n",
      "['magic', 'trick', 'incredible', 'illusion', 'astonishing', 'spectacle', 'old', 'new', 'fan', 'adore']\n",
      "['arch', 'back', 'like', 'cat', 'clap', 'hand', 'like', 'seal', 'wave', 'arm']\n",
      "['three', 'baby', 'owl', 'wake', 'find', 'mother', 'gone', 'feel', 'scared', 'vulnerable']\n",
      "['celebrates', 'love', 'warmth', 'surround', 'cherished', 'infant', 'beautifully', 'illustrated', 'retelling', 'traditional']\n",
      "['ginger', 'perfect', 'cat', 'life', 'fed', 'warm', 'cared', 'know', 'made', 'feel']\n",
      "['everyone', 'know', 'song', 'five', 'little', 'duck', 'go', 'swimming', 'one', 'day']\n",
      "['fifteen', 'year', 'old', 'morag', 'narmo', 'want', 'go', 'school', 'rabble', 'younger']\n",
      "['cornelia', 'funke', 'magical', 'fantasy', 'adventure', 'fulfils', 'promise', 'prize', 'winning', 'predecessor']\n",
      "['want', 'friend', 'asked', 'simple', 'question', 'start', 'little', 'mouse', 'journey', 'almost']\n",
      "['james', 'choke', 'come', 'dysfunctional', 'family', 'often', 'trouble', 'school', 'mother', 'dy']\n",
      "['jimmy', 'bullied', 'mercilessly', 'school', 'especially', 'sport', 'field', 'home', 'share', 'secret']\n",
      "['tove', 'jansson', 'best', 'known', 'moomin', 'book', 'unique', 'special', 'way', 'introducing']\n",
      "['wonderful', 'story', 'weave', 'magic', 'childâ', 'imagination', 'even', 'imparting', 'invaluable', 'lesson']\n",
      "['one', 'morning', 'josephâ', 'dad', 'go', 'fetch', 'josephâ', 'mother', 'leaving', 'say']\n",
      "['large', 'board', 'book', '20', 'nursery', 'rhyme', 'including', 'hey', 'diddle', 'diddle']\n",
      "['alice', 'walk', 'mirror', 'fireplace', 'topsy', 'turvy', 'looking', 'glass', 'kingdom', 'glorious']\n",
      "['nova', 'bored', 'discontented', 'largely', 'ignored', 'harrassed', 'overworked', 'parent', 'jealous', 'older']\n",
      "['mary', 'poppins', 'arrives', 'east', 'wind', 'number', 'seventeen', 'cherry', 'tree', 'lane']\n",
      "['fourteen', 'year', 'old', 'alex', 'rider', 'find', 'life', 'turned', 'upside', 'discovering']\n",
      "['apprentice', 'clock', 'maker', 'karl', 'must', 'craft', 'new', 'figure', 'great', 'clock']\n",
      "['right', 'start', '1922', 'velveteen', 'rabbit', 'grabbed', 'heart', 'family', 'everywhere', 'story']\n",
      "['london', 'move', 'traction', 'city', 'trawl', 'world', 'wheel', 'capturing', 'eating', 'smaller']\n",
      "['use', 'book', 'without', 'picture', 'conversation', 'think', 'drowsy', 'alice', 'sits', 'beside']\n",
      "['tilly', 'page', 'love', 'book', 'surprising', 'ever', 'since', 'mum', 'disappeared', 'little']\n",
      "['captivating', 'story', 'wolf', 'dinner', 'mind', 'wolf', 'finger', 'puppet', 'attached', 'book']\n",
      "['jimmy', 'tammy', 'bring', 'home', 'unusual', 'pet', 'thought', 'fine', 'struck', 'pet']\n",
      "['want', 'friend', 'asked', 'simple', 'question', 'start', 'little', 'mouse', 'journey', 'almost']\n",
      "['great', 'green', 'room', 'little', 'bunny', 'tucked', 'snugly', 'safely', 'bed', 'getting']\n",
      "['mr', 'wobble', 'waitress', 'love', 'job', 'customer', 'like', 'trouble', 'wobble', 'spilling']\n",
      "['jo', 'ill', 'stay', 'bed', 'day', 'mum', 'promise', 'bring', 'home', 'surprise']\n",
      "['five', 'year', 'old', 'tim', 'life', 'sea', 'longs', 'sailor', 'although', 'parent']\n",
      "['fish', 'listened', 'kroaker', 'little', 'wiser', 'brave', 'let', 'good', 'moral', 'book']\n",
      "['second', 'book', 'continuing', 'diary', 'georgia', 'nicolson', 'account', 'life', 'friend', 'family']\n",
      "['bitterly', 'unhappy', 'fed', 'teased', 'school', 'mandy', 'white', 'need', 'friend', 'however']\n",
      "['classic', 'story', 'bernard', 'whose', 'distracted', 'parent', 'fail', 'notice', 'eaten', 'replaced']\n",
      "['bright', 'meadow', 'full', 'fruit', 'flower', 'boy', 'play', 'flute', 'beautiful', 'multi']\n",
      "['exceptional', 'conclusion', 'trilogy', 'pullman', 'effectively', 'woven', 'together', 'disparate', 'strand', 'northern']\n",
      "['parent', 'unceremoniously', 'eaten', 'rhinoceros', 'escape', 'london', 'zoo', 'james', 'forced', 'go']\n",
      "['end', 'grace', 'imagination', 'school', 'holiday', 'friend', 'spend', 'time', 'playing', 'everything']\n",
      "['ad', '117ad', 'ninth', 'legion', 'marched', 'mist', 'northern', 'britain', 'never', 'seen']\n",
      "['barney', 'solitary', 'little', 'boy', 'often', 'wanders', 'countryside', 'exploring', 'old', 'chalk']\n",
      "['collection', 'short', 'lesser', 'known', 'nursery', 'rhyme', '1950s', 'introduces', 'child', 'handy']\n",
      "['climb', 'bed', 'let', 'give', 'hug', 'settle', 'little', 'bunny', 'safe', 'snug']\n",
      "['third', 'collaboration', 'bradman', 'browne', 'inventor', 'wonderful', 'handa', 'surprise', 'introduces', 'u']\n",
      "['ten', 'year', 'old', 'emil', 'excited', 'taking', 'train', 'berlin', 'first', 'time']\n",
      "['noel', 'langley', 'pantomime', 'esque', 'adventure', 'story', 'reprinted', 'much', 'celebrated', 'longer']\n",
      "['grunt', 'back', 'disgusting', 'ever', 'time', 'take', 'pogi', 'person', 'great', 'importance']\n",
      "['king', 'arthur', 'pulled', 'sword', 'stone', 'round', 'table', 'went', 'search', 'holy']\n",
      "['captivating', 'story', 'wolf', 'dinner', 'mind', 'wolf', 'finger', 'puppet', 'attached', 'book']\n",
      "['stunningly', 'original', 'fantasy', 'set', 'mythical', 'city', 'aramanth', 'every', 'hosehold', 'judged']\n",
      "['hiccup', 'horrendous', 'haddock', 'iii', 'incredible', 'sword', 'fighter', 'dragon', 'whisperer', 'greatest']\n",
      "['spot', 'birthday', 'party', 'first', 'game', 'want', 'play', 'hide', 'seek', 'friend']\n",
      "['portly', 'pig', 'worried', 'clean', 'grass', 'pristine', 'flower', 'tree', 'altogether', 'neat']\n",
      "['time', 'favourite', 'introduces', 'different', 'colour', 'simple', 'text', 'presented', 'satisfyingly', 'repetitive']\n",
      "['arthurian', 'tale', 'set', 'scilly', 'isle', 'story', 'within', 'story', 'ten', 'year']\n",
      "['december', '24th', 'poor', 'father', 'christmas', 'mean', 'hardest', 'night', 'work', 'ahead']\n",
      "['zany', 'rhyming', 'text', 'complement', 'lively', 'humorous', 'illustration', 'wonderful', 'abc', 'book']\n",
      "['rapunzel', 'trapped', 'alone', 'tall', 'tower', 'visitor', 'wicked', 'witch', 'rain', 'catastrophic']\n",
      "['book', 'absolute', 'winner', 'soon', 'toddler', 'joining', 'rhyming', 'word', 'admiring', 'fabulous']\n",
      "['autumn', 'flower', 'seed', 'blown', 'air', 'across', 'land', 'seed', 'burned', 'sun']\n",
      "['beautiful', 'strong', 'board', 'book', 'part', 'series', 'introducing', 'well', 'loved', 'game']\n",
      "['three', 'baby', 'owl', 'wake', 'find', 'mother', 'gone', 'feel', 'scared', 'vulnerable']\n",
      "['oscar', 'winning', 'actress', 'screenwriter', 'emma', 'thompson', 'turned', 'hand', 'child', 'book']\n",
      "['house', 'full', 'strange', 'bustling', 'new', 'noise', 'new', 'smell', 'tree', 'going']\n",
      "['one', 'sunny', 'day', 'alfie', 'decides', 'explore', 'bottom', 'garden', 'looking', 'peace']\n",
      "['cameron', 'desperately', 'need', 'new', 'heart', 'offered', 'opportunity', 'take', 'part', 'radical']\n",
      "['fantasy', 'adventure', 'story', 'determined', 'girl', 'called', 'lila', 'help', 'friend', 'chulak']\n",
      "['milo', 'bored', 'canâ', 'see', 'point', 'anything', 'particularly', 'school', 'mysterious', 'tollbooth']\n",
      "['familiar', 'tale', 'absolute', 'classic', 'â', 'beautifully', 'packaged', 'hardback', 'pop', 'edition']\n",
      "['midwinter', 'eve', 'night', 'eleventh', 'birthday', 'atmosphere', 'fear', 'familiar', 'countryside', 'around']\n",
      "['alphabet', 'book', 'difference', 'unexpected', 'juxtaposed', 'everyday', 'sometimes', 'surreal', 'effect', 'amusing']\n",
      "['salutary', 'funny', 'tale', 'giving', 'jacqueline', 'wilson', 'climbing', 'abseiling', 'canoeing', 'crazy']\n",
      "['holiday', 'cornwall', 'simon', 'jane', 'barney', 'discover', 'ancient', 'map', 'attic', 'grey']\n",
      "['brollachan', 'ancient', 'evil', 'threatening', 'elf', 'ask', 'borrow', 'susanâ', 'magic', 'bracelet']\n",
      "['book', 'packed', 'lot', 'baby', 'picture', 'baby', 'item', 'great', 'learning', 'making']\n",
      "['maya', 'angelouâ', 'seminal', 'poem', 'life', 'doesnâ', 'frighten', 'published', 'special', '25th']\n",
      "['spot', 'lift', 'flap', 'find', 'hide', 'around', 'house', 'favourite', 'story', 'one']\n",
      "['mr', 'biff', 'mr', 'bop', 'boxer', 'soon', 'time', 'annual', 'charity', 'boxing']\n",
      "['former', 'child', 'laureate', 'julia', 'donaldson', 'longtime', 'collaborator', 'axel', 'scheffler', 'come']\n",
      "['one', 'morning', 'sid', 'dog', 'filled', 'overwhelming', 'feeling', 'happiness', 'â', 'utter']\n",
      "['mr', 'fox', 'lost', 'sock', 'could', 'along', 'helpful', 'little', 'mouse', 'start']\n",
      "['little', 'princess', 'hate', 'nappy', 'think', 'must', 'something', 'better', 'first', 'think']\n",
      "['mother', 'baby', 'look', 'together', 'view', 'window', 'scene', 'wilderness', 'sky', 'page']\n",
      "['set', 'world', 'war', 'private', 'peaceful', 'chart', 'eight', 'hour', 'life', 'tommo']\n",
      "['every', 'day', 'charlie', 'bucket', 'walk', 'past', 'wonka', 'mysterious', 'chocolate', 'factory']\n",
      "['book', 'signing', 'singing', 'along', 'clear', 'hand', 'movement', 'encourage', 'signing', 'well']\n",
      "['nearly', 'forty', 'year', 'original', 'appearance', 'shameful', 'foremanâ', 'innovative', 'classic', 'co']\n",
      "['classic', 'story', 'bilbo', 'baggins', 'home', 'loving', 'hobbit', 'enjoys', 'quiet', 'contented']\n",
      "['princess', 'kissed', 'frog', 'turned', 'handsome', 'prince', 'lived', 'happily', 'ever', 'afterâ']\n",
      "['amir', 'doesnâ', 'want', 'go', 'bed', 'scared', 'dark', 'afraid', 'might', 'monster']\n",
      "['well', 'deserved', 'republication', 'durant', '1992', 'novel', 'murder', 'mystery', 'go', 'beyond']\n",
      "['novel', 'set', '1890s', 'oklahoma', 'cissy', 'family', 'buy', 'plot', 'land', 'florence']\n",
      "['part', 'sign', 'singalong', 'series', 'bright', 'colourful', 'book', 'featuring', 'child', 'showing']\n",
      "['define', 'poem', 'song', 'lyric', 'performance', 'piece', 'blank', 'verse', 'shakespearean', 'speech']\n",
      "['distraught', 'parent', 'divorce', 'andy', 'decide', 'want', 'live', 'spends', 'one', 'week']\n",
      "['hilarious', 'rhyming', 'story', 'follows', 'hairy', 'maclary', 'donaldson', 'dairy', 'set', 'walk']\n",
      "['twas', 'night', 'christmas', 'opening', 'line', 'classic', 'well', 'known', 'poem', 'first']\n",
      "['mr', 'mr', 'twit', 'extremely', 'nasty', 'muggle', 'wump', 'monkey', 'roly', 'poly']\n",
      "['class', 'took', 'little', 'train', 'went', 'deep', 'wood', 'first', 'school', 'trip']\n",
      "['move', 'new', 'house', 'coincides', 'baby', 'sister', 'illness', 'michael', 'world', 'seems']\n",
      "['sweet', 'innocent', 'child', 'grow', 'bitter', 'twisted', 'prepared', 'kill', 'considers', 'enemy']\n",
      "['snow', 'white', 'fairy', 'tale', 'receives', '1920s', 'art', 'deco', 'treatment', 'beautiful']\n",
      "['simple', 'yet', 'haunting', 'book', 'tell', 'story', 'first', 'world', 'war', 'point']\n",
      "['someone', 'digging', 'private', 'garden', 'square', 'taking', 'earth', 'away', 'miss', 'angela']\n",
      "['lauren', 'child', 'highly', 'imaginative', 'retelling', 'well', 'known', 'fairy', 'tale', 'sure']\n",
      "['colourful', 'board', 'book', 'ever', 'popular', 'elmer', 'elephant', 'praise', 'friend', 'different']\n",
      "['walk', 'goldilocks', 'come', 'across', 'lovely', 'cottage', 'wood', 'let', 'make', 'home']\n",
      "['sturdy', 'board', 'book', 'featuring', 'ever', 'popular', 'character', 'maisy', 'mouse', 'young']\n",
      "['prince', 'cinder', 'lead', 'hard', 'life', 'bullied', 'three', 'big', 'hairy', 'brother']\n",
      "['little', 'ross', 'sad', 'didnâ', 'nice', 'new', 'tricycle', 'like', 'child', 'old']\n",
      "['could', 'moving', 'remote', 'ramshackle', 'cottage', 'middle', 'nowhere', 'really', 'mark', 'start']\n",
      "['predator', 'gold', 'sequel', 'reeve', 'breathlessly', 'exciting', 'mortal', 'engine', 'every', 'bit']\n",
      "['kai', 'gerda', 'neighbour', 'best', 'friend', 'love', 'looking', 'book', 'together', 'one']\n",
      "['inclusive', 'isnâ', 'featuring', 'disabled', 'character', 'hero', 'protagonist', 'also', 'simply', 'including']\n",
      "['everyone', 'know', 'lion', 'fierce', 'lion', 'smartly', 'dressed', 'skip', 'street', 'singing']\n",
      "['many', 'christmas', 'classic', 'gathered', 'together', 'single', 'volume', 'night', 'christmas', 'ideal']\n",
      "['hugely', 'enjoyable', 'sequel', 'cliffhanger', 'child', 'tim', 'fun', 'friend', 'biscuit', 'join']\n",
      "['blend', 'rhyme', 'repetition', 'alliteration', 'recipe', 'almost', 'guaranteed', 'attract', 'toddler', 'especially']\n",
      "['reformatted', 'reissued', 'mog', 'forgetful', 'cat', 'lost', 'none', 'gentle', 'charm', 'mog']\n",
      "['old', 'peter', 'russian', 'tale', 'collection', 'russian', 'folk', 'tale', 'retold', 'collected']\n",
      "['story', 'lear', 'old', 'chieftain', 'divide', 'kingdom', 'among', 'three', 'daughter', 'terrifying']\n",
      "['new', 'interactive', 'computer', 'program', 'work', 'well', 'jiggy', 'mccue', 'friend', 'angie']\n",
      "['one', 'day', 'kipper', 'dog', 'find', 'canâ', 'get', 'comfortable', 'basket', 'take']\n",
      "['irina', 'parent', 'understand', 'want', 'moth', 'eaten', 'old', 'rocking', 'horse', 'christmas']\n",
      "['jennie', 'bored', 'bored', 'everything', 'dog', 'need', 'pack', 'black', 'leather', 'bag']\n",
      "['twelve', 'year', 'old', 'criminal', 'mastermind', 'artemis', 'fowl', 'hatch', 'ingenious', 'plot']\n",
      "['miss', 'kitty', 'elegant', 'graceful', 'house', 'cat', 'well', 'behaved', 'doted', 'owner']\n",
      "['lyra', 'animal', 'daemon', 'live', 'carefree', 'life', 'amongst', 'scholar', 'jordan', 'college']\n",
      "['shahnameh', 'ancient', 'persian', 'poem', 'comprising', 'collection', 'story', 'myth', 'legend', 'retold']\n",
      "['read', 'warm', 'tale', 'camaraderie', 'affection', 'set', 'wild', 'beautiful', 'savannah', 'free']\n",
      "['helping', 'sort', 'old', 'toy', 'artifact', 'attic', 'historic', 'house', 'two', 'youngster']\n",
      "['patient', 'older', 'brother', 'charlie', 'cleverly', 'trick', 'younger', 'sister', 'lola', 'extremely']\n",
      "['combining', 'greek', 'mythology', 'modern', 'technology', 'alan', 'gibbon', 'creates', 'exciting', 'fantasy']\n",
      "['resourceful', 'junior', 'reporter', 'tintin', 'embarks', 'series', 'exciting', 'international', 'adventure', 'accompanied']\n",
      "['moomintroll', 'cheerful', 'chubby', 'life', 'magical', 'moominvalley', 'mother', 'moominmamma', 'father', 'moominpappa']\n",
      "['action', 'accompany', 'verse', 'demonstrated', 'lively', 'watercolour', 'illustration', 'bright', 'cheerful', 'baby']\n",
      "['young', 'boy', 'parent', 'die', 'sent', 'live', 'grandmother', 'warns', 'witch', 'might']\n",
      "['sequel', 'amazing', 'grace', 'grace', 'invited', 'father', 'visit', 'africa', 'gambia', 'meet']\n",
      "['book', 'without', 'word', 'great', 'youngest', 'baby', 'invite', 'adult', 'talk', 'picture']\n",
      "['piper', 'paw', 'one', 'toughest', 'tom', 'cat', 'school', 'sharp', 'claw', 'even']\n",
      "['joe', 'beth', 'frannie', 'move', 'new', 'home', 'discover', 'mysterious', 'wood', 'doorstep']\n",
      "['despite', 'inherent', 'danger', 'torak', 'wait', 'support', 'rest', 'clan', 'close', 'friend']\n",
      "['frankenstein', 'tell', 'story', 'privileged', 'self', 'absorbed', 'young', 'man', 'whose', 'arrogant']\n",
      "['king', 'want', 'magician', 'melric', 'make', 'powerful', 'melric', 'keep', 'telling', 'power']\n",
      "['heâ', 'got', 'swag', 'wear', 'tux', 'heâ', 'hipster', 'hamster', 'like', 'live']\n",
      "['one', 'day', 'coraline', 'unlocks', 'mysterious', 'door', 'open', 'onto', 'another', 'world']\n",
      "['god', 'made', 'world', 'wanted', 'visit', 'see', 'getting', 'put', 'everyone', 'sleep']\n",
      "['run', 'man', 'murder', 'conscience', '12', 'year', 'old', 'stumble', 'upon', 'cittagazze']\n",
      "['mother', 'baby', 'look', 'together', 'view', 'window', 'scene', 'wilderness', 'sky', 'page']\n",
      "['pig', 'birthday', 'tell', 'friend', 'would', 'like', 'little', 'pet', 'present', 'kipper']\n",
      "['welcome', 'world', 'georgia', 'nicolson', 'angst', 'ridden', 'teenage', 'girl', 'keep', 'diary']\n",
      "['end', 'edward', 'lear', 'much', 'loved', 'poem', 'happily', 'married', 'owl', 'pussy']\n",
      "['harry', 'potter', 'due', 'start', 'fifth', 'year', 'hogwarts', 'school', 'witchcraft', 'wizardry']\n",
      "['kipper', 'working', 'hard', 'preparing', 'birthday', 'bakes', 'interesting', 'cake', 'share', 'friend']\n",
      "['book', 'inspired', 'true', 'story', '1992', 'storm', 'hit', 'cargo', 'ship', 'china']\n",
      "['eric', 'carle', 'return', 'toddler', 'bookshelf', 'delightful', 'counting', 'book', 'train', 'driver']\n",
      "['jack', 'great', 'sadness', 'life', 'share', 'feeling', 'anyone', 'definitely', 'going', 'write']\n",
      "['miya', 'teach', 'grandfather', 'use', 'computer', 'decides', 'trace', 'family', 'tree', 'outline']\n",
      "['sally', 'thoroughly', 'bored', 'snowy', 'day', 'decided', 'step', 'beat', 'cold', 'returned']\n",
      "['geraldine', 'mccaughrean', 'much', 'anticipated', 'sequel', 'peter', 'pan', 'find', 'wendy', 'lost']\n",
      "['gentle', 'beautiful', 'picture', 'book', 'three', 'baby', 'bear', 'playing', 'snow', 'mummy']\n",
      "['much', 'loved', 'picture', 'book', 'classic', 'delight', 'baby', 'toddler', 'parent', 'look']\n",
      "['72', 'prose', 'poem', 'make', 'unusual', 'moving', 'collection', 'michael', 'rosen', 'tell']\n",
      "['ancient', 'arabic', 'land', 'magic', 'commonplace', 'animal', 'talk', 'genie', 'rub', 'shoulder']\n",
      "['one', 'magical', 'night', 'young', 'boy', 'called', 'peter', 'pan', 'fly', 'wendy']\n",
      "['latest', 'range', 'good', 'book', 'popular', 'kipper', 'friend', 'stunning', 'pop', 'lift']\n",
      "['jan', 'pienkowski', 'silhouette', 'illustration', 'lend', 'air', 'mystery', 'drama', 'text', 'taken']\n",
      "['marley', 'bear', 'day', 'farm', 'plenty', 'spot', 'wheelbarrow', 'hen', 'even', 'marley']\n",
      "['tiny', 'corner', 'brittany', 'one', 'small', 'village', 'indomitable', 'gaul', 'hold', 'almighty']\n",
      "['zorba', 'port', 'cat', 'given', 'task', 'utmost', 'importance', 'meet', 'oil', 'soaked']\n",
      "['jacqueline', 'wilson', 'title', 'popular', 'boy', 'girl', 'alike', 'deal', 'issue', 'child']\n",
      "['escaped', 'old', 'possum', 'book', 'practical', 'cat', 'macavity', 'star', 'picture', 'book']\n",
      "['ten', 'beloved', 'nursery', 'rhyme', 'including', 'humpty', 'dumpy', 'one', 'two', 'buckle']\n",
      "['chaos', 'world', 'war', 'ii', 'ruth', 'edek', 'bronia', 'separated', 'parent', 'left']\n",
      "['second', 'instalment', 'bestselling', 'twig', 'saga', 'stormchaser', 'continues', 'explore', 'young', 'hero']\n",
      "['first', 'book', 'classic', 'child', 'author', 'e', 'nesbit', 'much', 'loved', 'story']\n",
      "['first', 'story', 'much', 'loved', 'character', 'meg', 'witch', 'mog', 'cat', 'pair']\n",
      "['sam', 'hugely', 'successful', 'goalie', 'football', 'team', 'however', 'definitely', 'confident', 'classroom']\n",
      "['following', 'success', 'first', 'book', 'nonsense', 'michael', 'rosen', 'clare', 'mackie', 'joined']\n",
      "['inside', 'little', 'house', 'live', 'ingalls', 'family', 'pa', 'mary', 'laura', 'baby']\n",
      "['dave', 'loses', 'favourite', 'toy', 'dogger', 'desolate', 'dogger', 'turn', 'school', 'summer']\n",
      "['penelope', 'sent', 'stay', 'great', 'aunt', 'old', 'derbyshire', 'house', 'babingtons', 'used']\n",
      "['inspired', 'rudyard', 'kiplingâ', 'jungle', 'book', 'splendid', 'collection', 'five', 'short', 'story']\n",
      "['princess', 'smartypants', 'want', 'get', 'married', 'enjoys', 'm', 'rich', 'pretty', 'princess']\n",
      "['jackson', 'rabbit', 'run', 'away', 'sea', 'end', 'australia', 'ancestor', 'million', 'cat']\n",
      "['baby', 'elephant', 'loses', 'teddy', 'sleep', 'elmer', 'lends', 'promising', 'help', 'find']\n",
      "['mandy', 'ross', 'original', 'poem', 'fantastic', 'appealing', 'mix', 'everyday', 'language', 'nonsense']\n",
      "['dad', 'everything', 'well', 'running', 'like', 'cheetah', 'singing', 'like', 'pop', 'star']\n",
      "['two', 'great', 'story', 'featuring', 'crew', 'black', 'pig', 'cowardly', 'captain', 'pugwash']\n",
      "['milly', 'molly', 'mandy', 'life', 'mother', 'father', 'uncle', 'aunt', 'grandmother', 'grandfather']\n",
      "['spot', 'beloved', 'puppy', 'new', 'baby', 'sister', 'called', 'susie', 'friend', 'helen']\n",
      "['pauline', 'petrova', 'posy', 'orphan', 'adopted', 'eccentric', 'fossil', 'collector', 'explorer', 'gum']\n",
      "['robert', 'tough', 'time', 'school', 'bullied', 'nicker', 'also', 'trying', 'deal', 'break']\n",
      "['bobo', 'chimp', 'wanders', 'sadly', 'around', 'jungle', 'looking', 'someone', 'hug', 'animal']\n",
      "['little', 'bear', 'get', 'sleep', 'afraid', 'dark', 'big', 'bear', 'patient', 'brings']\n",
      "['ten', 'beloved', 'nursery', 'rhyme', 'including', 'humpty', 'dumpy', 'one', 'two', 'buckle']\n",
      "['bobo', 'chimp', 'wanders', 'sadly', 'around', 'jungle', 'looking', 'someone', 'hug', 'animal']\n",
      "['great', 'forest', 'litle', 'elephant', 'born', 'name', 'babar', 'first', 'published', '1930s']\n",
      "['bill', 'grandma', 'look', 'album', 'containing', 'old', 'photograph', 'bill', 'grandfather', 'longer']\n",
      "['jack', 'mother', 'money', 'food', 'forced', 'sell', 'beloved', 'cow', 'clover', 'jack']\n",
      "['part', 'orchard', 'classic', 'matthew', 'ross', 'converting', 'shakespeare', 'best', 'known', 'play']\n",
      "['talk', 'lot', 'time', 'louis', 'todd', 'aka', 'loudmouth', 'louis', 'talk', 'fact']\n",
      "['william', 'swiss', 'pastor', 'wife', 'elizabeth', 'sailing', 'australia', 'four', 'son', 'â']\n",
      "['resenting', 'love', 'father', 'child', 'witch', 'creates', 'famine', 'force', 'losing', 'child']\n",
      "['borka', 'goose', 'born', 'without', 'feather', 'different', 'know', 'five', 'brother', 'sister']\n",
      "['kevin', 'max', 'accustomed', 'ridicule', 'kevin', 'small', 'disabled', 'max', 'huge', 'perceived']\n",
      "['together', 'faithful', 'brownie', 'friend', 'sorrel', 'boy', 'called', 'ben', 'brave', 'young']\n",
      "['satirical', 'story', 'vain', 'emperor', 'adores', 'beautiful', 'new', 'clothes', 'wardrobe', 'full']\n",
      "['kipper', 'working', 'hard', 'preparing', 'birthday', 'bakes', 'interesting', 'cake', 'share', 'friend']\n",
      "['harmony', 'uncle', 'ginger', 'sends', 'treasure', 'trail', 'end', 'finding', '50p', 'piece']\n",
      "['pleasure', 'parent', 'child', 'activity', 'like', 'storytelling', 'playing', 'hide', 'seek', 'bathtime']\n",
      "['since', 'death', 'mother', 'damian', 'become', 'obsessed', 'saint', 'order', 'escape', 'trapping']\n",
      "['real', 'witch', 'disguise', 'lovely', 'lady', 'secretly', 'want', 'squish', 'squelch', 'wretched']\n",
      "['marigold', 'â', 'illustrated', 'mumâ', 'title', 'elaborate', 'tattoo', 'covering', 'body', 'head']\n",
      "['michael', 'hungry', 'lonely', 'scared', 'washed', 'seemingly', 'deserted', 'island', 'soon', 'discovers']\n",
      "['danny', 'mother', 'cathy', 'run', 'abusive', 'boyfriend', 'chris', 'go', 'back', 'edge']\n",
      "['pocket', 'sized', 'ladybird', 'edition', 'pus', 'boot', 'wonderfully', 'comforting', 'version', 'classic']\n",
      "['eris', 'goddess', 'discord', 'grumpy', 'invited', 'peleus', 'thetisâ', 'wedding', 'mount', 'olympus']\n",
      "['save', 'story', 'series', 'pushkinâ', 'childrenâ', 'book', 'commissioned', 'number', 'writer', 'retell']\n",
      "['thousand', 'year', 'ago', 'land', 'dark', 'forest', 'peopled', 'hunter', 'gatherer', 'know']\n",
      "['dominicâ', 'mum', 'super', 'clever', 'sheâ', 'invented', 'vim', 'virtual', 'interactive', 'mobile']\n",
      "['outside', 'like', 'masklin', 'looked', 'blank', 'well', 'said', 'sort', 'big', 'thousand']\n",
      "['alem', 'father', 'ethiopian', 'mother', 'eritrean', 'dangerous', 'conflict', 'raging', 'two', 'country']\n",
      "['witch', 'traditionally', 'choose', 'company', 'black', 'cat', 'belladonna', 'take', 'exception', 'rule']\n",
      "['love', 'shine', 'great', 'illustrated', 'kidsâ', 'book', 'read', 'little', 'girl', 'make']\n",
      "['satirical', 'story', 'vain', 'emperor', 'adores', 'beautiful', 'new', 'clothes', 'wardrobe', 'full']\n",
      "['welcome', 'fourth', 'novel', 'blackman', 'award', 'winning', 'nought', 'cross', 'series', 'continues']\n",
      "['multicultural', 'book', 'showing', 'baby', 'engaged', 'many', 'activity', 'playing', 'mud', 'water']\n",
      "['jane', 'applies', 'governess', 'thornfield', 'hall', 'sheâ', 'hoping', 'new', 'life', 'away']\n",
      "['illustrator', 'marcia', 'williams', 'offer', 'lively', 'illustrated', 'retellings', 'shakespeare', 'famous', 'play']\n",
      "['felix', 'lived', 'catholic', 'orphanage', 'three', 'year', 'always', 'hope', 'jewish', 'bookseller']\n",
      "['former', 'child', 'laureate', 'anne', 'fine', 'selected', 'marvellous', 'poem', 'classic', 'contemporary']\n",
      "['young', 'tilly', 'delighted', 'polar', 'bear', 'clamber', 'bedroom', 'window', 'one', 'night']\n",
      "['jo', 'always', 'wanted', 'writer', 'happily', 'spend', 'hour', 'squirrelled', 'away', 'working']\n",
      "['mabel', 'cat', 'special', 'used', 'belong', 'verity', 'mother', 'died', 'verity', 'born']\n",
      "['telling', 'traditional', 'story', 'take', 'another', 'world', 'irresistible', 'african', 'version', 'great']\n",
      "['shirley', 'hughes', 'much', 'loved', 'alfie', 'go', 'first', 'birthday', 'party', 'lovely']\n",
      "['lazy', 'farmer', 'spent', 'day', 'bed', 'eating', 'chocolate', 'duck', 'hard', 'work']\n",
      "['jamela', 'wrap', 'new', 'material', 'mother', 'bought', 'make', 'dress', 'wedding', 'begin']\n",
      "['acorn', 'b', 'butterfly', 'c', 'cloud', 'existing', 'fan', 'tim', 'hopgood', 'wow']\n",
      "['appealing', 'story', 'lift', 'flap', 'board', 'book', 'format', 'favourite', 'toddler', 'ever']\n"
     ]
    }
   ],
   "source": [
    "X_train, X_test, y_train, y_test = train_test_split(X, y)\n",
    "vect = CountVectorizer(tokenizer=tokenize)\n",
    "tfidf = TfidfTransformer()\n",
    "clf = RandomForestClassifier()\n",
    "    \n",
    "X_train_counts = vect.fit_transform(X_train)\n",
    "X_train_tfidf = tfidf.fit_transform(X_train_counts)\n",
    "clf.fit(X_train_tfidf, y_train)\n",
    "    \n",
    "X_test_counts = vect.transform(X_test)\n",
    "X_test_tfidf = tfidf.transform(X_test_counts)\n",
    "y_pred = clf.predict(X_test_tfidf)"
   ]
  },
  {
   "cell_type": "code",
   "execution_count": 424,
   "metadata": {},
   "outputs": [
    {
     "name": "stdout",
     "output_type": "stream",
     "text": [
      "Accuracy: 0.75\n"
     ]
    }
   ],
   "source": [
    "display_results(y_test, y_pred)"
   ]
  },
  {
   "cell_type": "markdown",
   "metadata": {},
   "source": [
    "<h2> Conclusion <h2>"
   ]
  },
  {
   "cell_type": "markdown",
   "metadata": {},
   "source": [
    "So after lots of playing around with NLP, the best result was achieved from the NLP functions in Udacity's Data Science program I'm currently studying. I was able to achieve about 75 percent accuracy when predicting the minimum age rating of a children's book by its description. Food for thought- can this be generalized even further? To be determined"
   ]
  }
 ],
 "metadata": {
  "kernelspec": {
   "display_name": "Python 3",
   "language": "python",
   "name": "python3"
  },
  "language_info": {
   "codemirror_mode": {
    "name": "ipython",
    "version": 3
   },
   "file_extension": ".py",
   "mimetype": "text/x-python",
   "name": "python",
   "nbconvert_exporter": "python",
   "pygments_lexer": "ipython3",
   "version": "3.8.3"
  }
 },
 "nbformat": 4,
 "nbformat_minor": 4
}
