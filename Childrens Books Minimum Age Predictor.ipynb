{
 "cells": [
  {
   "cell_type": "markdown",
   "metadata": {},
   "source": [
    "<h1> Childrens Books Minimum Age Predictor By Description <h1>"
   ]
  },
  {
   "cell_type": "markdown",
   "metadata": {},
   "source": [
    "<img src='storytelling-4203628_1920.jpg' width= '800' align=\"left\">"
   ]
  },
  {
   "cell_type": "markdown",
   "metadata": {},
   "source": [
    "<h2> “The more that you read, the more things you will know. The more you learn, the more places you’ll go.” - Dr. Seuss<h2>"
   ]
  },
  {
   "cell_type": "markdown",
   "metadata": {},
   "source": [
    "So I've never really done Natural Language Processing before, but I'm a bookworm and I figured I should take the opportunity (since it's a Friday during COVID lockdown) to try some NLP on this interesting database I found on Kaggle. The database is composed of childrens books, divided into age groups, including a short description of each book."
   ]
  },
  {
   "cell_type": "code",
   "execution_count": 442,
   "metadata": {},
   "outputs": [
    {
     "name": "stderr",
     "output_type": "stream",
     "text": [
      "[nltk_data] Downloading package punkt to /Users/a1/nltk_data...\n",
      "[nltk_data]   Package punkt is already up-to-date!\n",
      "[nltk_data] Downloading package wordnet to /Users/a1/nltk_data...\n",
      "[nltk_data]   Package wordnet is already up-to-date!\n"
     ]
    }
   ],
   "source": [
    "#loading packages\n",
    "import numpy as np \n",
    "import pandas as pd \n",
    "import plotly.express as ex\n",
    "import plotly.graph_objs as go\n",
    "import matplotlib.pyplot as plt\n",
    "import seaborn as sns\n",
    "sns.set_style('white')\n",
    "import nltk \n",
    "nltk.download('punkt')\n",
    "from nltk.stem.porter import PorterStemmer\n",
    "nltk.download('wordnet')\n",
    "from nltk.stem import WordNetLemmatizer\n",
    "import re\n",
    "from nltk.probability import FreqDist\n",
    "from stop_words import get_stop_words\n",
    "import string\n",
    "from nltk.tokenize import word_tokenize\n",
    "from sklearn.model_selection import train_test_split\n",
    "from sklearn.ensemble import RandomForestClassifier\n",
    "from sklearn.feature_extraction.text import CountVectorizer, TfidfTransformer"
   ]
  },
  {
   "cell_type": "markdown",
   "metadata": {},
   "source": [
    "<h2>Loading the data from a Kaggle database <h2>"
   ]
  },
  {
   "cell_type": "code",
   "execution_count": 443,
   "metadata": {},
   "outputs": [
    {
     "data": {
      "text/html": [
       "<div>\n",
       "<style scoped>\n",
       "    .dataframe tbody tr th:only-of-type {\n",
       "        vertical-align: middle;\n",
       "    }\n",
       "\n",
       "    .dataframe tbody tr th {\n",
       "        vertical-align: top;\n",
       "    }\n",
       "\n",
       "    .dataframe thead th {\n",
       "        text-align: right;\n",
       "    }\n",
       "</style>\n",
       "<table border=\"1\" class=\"dataframe\">\n",
       "  <thead>\n",
       "    <tr style=\"text-align: right;\">\n",
       "      <th></th>\n",
       "      <th>names</th>\n",
       "      <th>cats</th>\n",
       "      <th>desc</th>\n",
       "    </tr>\n",
       "  </thead>\n",
       "  <tbody>\n",
       "    <tr>\n",
       "      <th>0</th>\n",
       "      <td>HIDE AND SEEK</td>\n",
       "      <td>Age 2-9</td>\n",
       "      <td>Was it just another game of hide and seek? No....</td>\n",
       "    </tr>\n",
       "    <tr>\n",
       "      <th>1</th>\n",
       "      <td>GINGER THE GIRAFFE</td>\n",
       "      <td>Age 2-9</td>\n",
       "      <td>Read this warm tale of camaraderie and affecti...</td>\n",
       "    </tr>\n",
       "    <tr>\n",
       "      <th>2</th>\n",
       "      <td>DOING MY CHORES</td>\n",
       "      <td>Age 2-9</td>\n",
       "      <td>Love shines through this great illustrated kid...</td>\n",
       "    </tr>\n",
       "    <tr>\n",
       "      <th>3</th>\n",
       "      <td>ABE THE SERVICE DOG</td>\n",
       "      <td>Age 2-9</td>\n",
       "      <td>Abe was a real Service Dog who dedicated his l...</td>\n",
       "    </tr>\n",
       "    <tr>\n",
       "      <th>4</th>\n",
       "      <td>SUNNY MEADOWS WOODLAND SCHOOL</td>\n",
       "      <td>Age 2-9</td>\n",
       "      <td>The class took a little train and went deep in...</td>\n",
       "    </tr>\n",
       "    <tr>\n",
       "      <th>...</th>\n",
       "      <td>...</td>\n",
       "      <td>...</td>\n",
       "      <td>...</td>\n",
       "    </tr>\n",
       "    <tr>\n",
       "      <th>425</th>\n",
       "      <td>Carrying the Elephant: A Memoir of Love and Loss</td>\n",
       "      <td>Age 11+</td>\n",
       "      <td>In the 72 prose poems that make up this unusua...</td>\n",
       "    </tr>\n",
       "    <tr>\n",
       "      <th>426</th>\n",
       "      <td>War and Peas</td>\n",
       "      <td>Age 8+</td>\n",
       "      <td>Nearly forty years after its original appearan...</td>\n",
       "    </tr>\n",
       "    <tr>\n",
       "      <th>427</th>\n",
       "      <td>Love that Dog</td>\n",
       "      <td>Age 9-12</td>\n",
       "      <td>Jack has a great sadness in his life, but he i...</td>\n",
       "    </tr>\n",
       "    <tr>\n",
       "      <th>428</th>\n",
       "      <td>A Pilgrim's Progress</td>\n",
       "      <td>Age 9+</td>\n",
       "      <td>'I had a dream last night ... large enough to ...</td>\n",
       "    </tr>\n",
       "    <tr>\n",
       "      <th>429</th>\n",
       "      <td>Secret Friends</td>\n",
       "      <td>Age 7-11</td>\n",
       "      <td>At her new school, Rafaella suffers daily name...</td>\n",
       "    </tr>\n",
       "  </tbody>\n",
       "</table>\n",
       "<p>430 rows × 3 columns</p>\n",
       "</div>"
      ],
      "text/plain": [
       "                                                names      cats  \\\n",
       "0                                       HIDE AND SEEK   Age 2-9   \n",
       "1                                 GINGER THE GIRAFFE    Age 2-9   \n",
       "2                                     DOING MY CHORES   Age 2-9   \n",
       "3                                 ABE THE SERVICE DOG   Age 2-9   \n",
       "4                       SUNNY MEADOWS WOODLAND SCHOOL   Age 2-9   \n",
       "..                                                ...       ...   \n",
       "425  Carrying the Elephant: A Memoir of Love and Loss   Age 11+   \n",
       "426                                      War and Peas    Age 8+   \n",
       "427                                     Love that Dog  Age 9-12   \n",
       "428                              A Pilgrim's Progress    Age 9+   \n",
       "429                                    Secret Friends  Age 7-11   \n",
       "\n",
       "                                                  desc  \n",
       "0    Was it just another game of hide and seek? No....  \n",
       "1    Read this warm tale of camaraderie and affecti...  \n",
       "2    Love shines through this great illustrated kid...  \n",
       "3    Abe was a real Service Dog who dedicated his l...  \n",
       "4    The class took a little train and went deep in...  \n",
       "..                                                 ...  \n",
       "425  In the 72 prose poems that make up this unusua...  \n",
       "426  Nearly forty years after its original appearan...  \n",
       "427  Jack has a great sadness in his life, but he i...  \n",
       "428  'I had a dream last night ... large enough to ...  \n",
       "429  At her new school, Rafaella suffers daily name...  \n",
       "\n",
       "[430 rows x 3 columns]"
      ]
     },
     "execution_count": 443,
     "metadata": {},
     "output_type": "execute_result"
    }
   ],
   "source": [
    "df = pd.read_csv('children_stories.Csv', encoding=\"ISO-8859-1\")\n",
    "df"
   ]
  },
  {
   "cell_type": "markdown",
   "metadata": {},
   "source": [
    "<h2> Split the age ranges into min and max ages <h2>"
   ]
  },
  {
   "cell_type": "code",
   "execution_count": 444,
   "metadata": {},
   "outputs": [],
   "source": [
    "def min_age(x):\n",
    "    if x.find ('-') != -1:\n",
    "        y = re.sub(' +', ' ', x)\n",
    "        y = y.split(' ')[1]\n",
    "        y = y.strip()\n",
    "        return int(y.split('-')[0])\n",
    "    else:\n",
    "        if x.find('months'):\n",
    "            return 0\n",
    "        return int(x.replace('+','').split(' ')[1])\n",
    "def max_age(x):\n",
    "    if x.find ('-') != -1:\n",
    "        y = re.sub(' +', ' ', x)\n",
    "        y = y.split(' ')[1]\n",
    "        y = y.strip()\n",
    "        return int(x.split('-')[1])\n",
    "    else:\n",
    "        return 18"
   ]
  },
  {
   "cell_type": "markdown",
   "metadata": {},
   "source": [
    "<h2>Preprocessing<h2>"
   ]
  },
  {
   "cell_type": "code",
   "execution_count": 445,
   "metadata": {},
   "outputs": [],
   "source": [
    "df.names = df.names.str.lower()\n",
    "df.desc = df.desc.str.lower()\n",
    "df['min_age'] = df.cats.apply(min_age)\n",
    "df['max_age'] = df.cats.apply(max_age)\n",
    "df['age_range'] = df.max_age - df.min_age\n",
    "df.loc[:,'desc'] = df.desc.apply(lambda x : \" \".join(re.findall('[\\w]+',x)))"
   ]
  },
  {
   "cell_type": "code",
   "execution_count": 446,
   "metadata": {},
   "outputs": [
    {
     "data": {
      "text/html": [
       "<div>\n",
       "<style scoped>\n",
       "    .dataframe tbody tr th:only-of-type {\n",
       "        vertical-align: middle;\n",
       "    }\n",
       "\n",
       "    .dataframe tbody tr th {\n",
       "        vertical-align: top;\n",
       "    }\n",
       "\n",
       "    .dataframe thead th {\n",
       "        text-align: right;\n",
       "    }\n",
       "</style>\n",
       "<table border=\"1\" class=\"dataframe\">\n",
       "  <thead>\n",
       "    <tr style=\"text-align: right;\">\n",
       "      <th></th>\n",
       "      <th>names</th>\n",
       "      <th>cats</th>\n",
       "      <th>desc</th>\n",
       "      <th>min_age</th>\n",
       "      <th>max_age</th>\n",
       "      <th>age_range</th>\n",
       "      <th>avg_age</th>\n",
       "    </tr>\n",
       "  </thead>\n",
       "  <tbody>\n",
       "    <tr>\n",
       "      <th>0</th>\n",
       "      <td>hide and seek</td>\n",
       "      <td>Age 2-9</td>\n",
       "      <td>was it just another game of hide and seek no i...</td>\n",
       "      <td>2</td>\n",
       "      <td>9</td>\n",
       "      <td>7</td>\n",
       "      <td>6.0</td>\n",
       "    </tr>\n",
       "    <tr>\n",
       "      <th>1</th>\n",
       "      <td>ginger the giraffe</td>\n",
       "      <td>Age 2-9</td>\n",
       "      <td>read this warm tale of camaraderie and affecti...</td>\n",
       "      <td>2</td>\n",
       "      <td>9</td>\n",
       "      <td>7</td>\n",
       "      <td>6.0</td>\n",
       "    </tr>\n",
       "    <tr>\n",
       "      <th>2</th>\n",
       "      <td>doing my chores</td>\n",
       "      <td>Age 2-9</td>\n",
       "      <td>love shines through this great illustrated kid...</td>\n",
       "      <td>2</td>\n",
       "      <td>9</td>\n",
       "      <td>7</td>\n",
       "      <td>6.0</td>\n",
       "    </tr>\n",
       "    <tr>\n",
       "      <th>3</th>\n",
       "      <td>abe the service dog</td>\n",
       "      <td>Age 2-9</td>\n",
       "      <td>abe was a real service dog who dedicated his l...</td>\n",
       "      <td>2</td>\n",
       "      <td>9</td>\n",
       "      <td>7</td>\n",
       "      <td>6.0</td>\n",
       "    </tr>\n",
       "    <tr>\n",
       "      <th>4</th>\n",
       "      <td>sunny meadows woodland school</td>\n",
       "      <td>Age 2-9</td>\n",
       "      <td>the class took a little train and went deep in...</td>\n",
       "      <td>2</td>\n",
       "      <td>9</td>\n",
       "      <td>7</td>\n",
       "      <td>6.0</td>\n",
       "    </tr>\n",
       "    <tr>\n",
       "      <th>...</th>\n",
       "      <td>...</td>\n",
       "      <td>...</td>\n",
       "      <td>...</td>\n",
       "      <td>...</td>\n",
       "      <td>...</td>\n",
       "      <td>...</td>\n",
       "      <td>...</td>\n",
       "    </tr>\n",
       "    <tr>\n",
       "      <th>425</th>\n",
       "      <td>carrying the elephant: a memoir of love and loss</td>\n",
       "      <td>Age 11+</td>\n",
       "      <td>in the 72 prose poems that make up this unusua...</td>\n",
       "      <td>0</td>\n",
       "      <td>18</td>\n",
       "      <td>18</td>\n",
       "      <td>9.0</td>\n",
       "    </tr>\n",
       "    <tr>\n",
       "      <th>426</th>\n",
       "      <td>war and peas</td>\n",
       "      <td>Age 8+</td>\n",
       "      <td>nearly forty years after its original appearan...</td>\n",
       "      <td>0</td>\n",
       "      <td>18</td>\n",
       "      <td>18</td>\n",
       "      <td>9.0</td>\n",
       "    </tr>\n",
       "    <tr>\n",
       "      <th>427</th>\n",
       "      <td>love that dog</td>\n",
       "      <td>Age 9-12</td>\n",
       "      <td>jack has a great sadness in his life but he is...</td>\n",
       "      <td>9</td>\n",
       "      <td>12</td>\n",
       "      <td>3</td>\n",
       "      <td>15.0</td>\n",
       "    </tr>\n",
       "    <tr>\n",
       "      <th>428</th>\n",
       "      <td>a pilgrim's progress</td>\n",
       "      <td>Age 9+</td>\n",
       "      <td>i had a dream last night large enough to fill ...</td>\n",
       "      <td>0</td>\n",
       "      <td>18</td>\n",
       "      <td>18</td>\n",
       "      <td>9.0</td>\n",
       "    </tr>\n",
       "    <tr>\n",
       "      <th>429</th>\n",
       "      <td>secret friends</td>\n",
       "      <td>Age 7-11</td>\n",
       "      <td>at her new school rafaella suffers daily name ...</td>\n",
       "      <td>7</td>\n",
       "      <td>11</td>\n",
       "      <td>4</td>\n",
       "      <td>12.0</td>\n",
       "    </tr>\n",
       "  </tbody>\n",
       "</table>\n",
       "<p>430 rows × 7 columns</p>\n",
       "</div>"
      ],
      "text/plain": [
       "                                                names      cats  \\\n",
       "0                                       hide and seek   Age 2-9   \n",
       "1                                 ginger the giraffe    Age 2-9   \n",
       "2                                     doing my chores   Age 2-9   \n",
       "3                                 abe the service dog   Age 2-9   \n",
       "4                       sunny meadows woodland school   Age 2-9   \n",
       "..                                                ...       ...   \n",
       "425  carrying the elephant: a memoir of love and loss   Age 11+   \n",
       "426                                      war and peas    Age 8+   \n",
       "427                                     love that dog  Age 9-12   \n",
       "428                              a pilgrim's progress    Age 9+   \n",
       "429                                    secret friends  Age 7-11   \n",
       "\n",
       "                                                  desc  min_age  max_age  \\\n",
       "0    was it just another game of hide and seek no i...        2        9   \n",
       "1    read this warm tale of camaraderie and affecti...        2        9   \n",
       "2    love shines through this great illustrated kid...        2        9   \n",
       "3    abe was a real service dog who dedicated his l...        2        9   \n",
       "4    the class took a little train and went deep in...        2        9   \n",
       "..                                                 ...      ...      ...   \n",
       "425  in the 72 prose poems that make up this unusua...        0       18   \n",
       "426  nearly forty years after its original appearan...        0       18   \n",
       "427  jack has a great sadness in his life but he is...        9       12   \n",
       "428  i had a dream last night large enough to fill ...        0       18   \n",
       "429  at her new school rafaella suffers daily name ...        7       11   \n",
       "\n",
       "     age_range  avg_age  \n",
       "0            7      6.0  \n",
       "1            7      6.0  \n",
       "2            7      6.0  \n",
       "3            7      6.0  \n",
       "4            7      6.0  \n",
       "..         ...      ...  \n",
       "425         18      9.0  \n",
       "426         18      9.0  \n",
       "427          3     15.0  \n",
       "428         18      9.0  \n",
       "429          4     12.0  \n",
       "\n",
       "[430 rows x 7 columns]"
      ]
     },
     "execution_count": 446,
     "metadata": {},
     "output_type": "execute_result"
    }
   ],
   "source": [
    "df['avg_age'] = round(df.min_age + df.max_age / 2)\n",
    "df"
   ]
  },
  {
   "cell_type": "markdown",
   "metadata": {},
   "source": [
    "<h2> Tokenization from Udacity <h2>"
   ]
  },
  {
   "cell_type": "code",
   "execution_count": 447,
   "metadata": {},
   "outputs": [],
   "source": [
    "def tokenize(text):\n",
    "    detected_urls = re.findall(url_regex, text)\n",
    "    for url in detected_urls:\n",
    "        text = text.replace(url, \"urlplaceholder\")\n",
    "\n",
    "    tokens = word_tokenize(text)\n",
    "    lemmatizer = WordNetLemmatizer()\n",
    "\n",
    "    clean_tokens = []\n",
    "    for tok in tokens:\n",
    "        clean_tok = lemmatizer.lemmatize(tok).lower().strip()\n",
    "        clean_tokens.append(clean_tok)\n",
    "\n",
    "    return clean_tokens"
   ]
  },
  {
   "cell_type": "markdown",
   "metadata": {},
   "source": [
    "<h2> Machine learning from Udacity <h2>"
   ]
  },
  {
   "cell_type": "code",
   "execution_count": 448,
   "metadata": {},
   "outputs": [],
   "source": [
    "def display_results(y_test, y_pred):\n",
    "    labels = np.unique(y_pred)\n",
    "    accuracy = (y_pred == y_test).mean()\n",
    "\n",
    "    print(\"Labels:\", labels)\n",
    "    print(\"Accuracy:\", accuracy)"
   ]
  },
  {
   "cell_type": "code",
   "execution_count": 449,
   "metadata": {},
   "outputs": [
    {
     "name": "stdout",
     "output_type": "stream",
     "text": [
      "Labels: [0 1 2 3]\n",
      "Accuracy: 0.7592592592592593\n"
     ]
    }
   ],
   "source": [
    "def main():\n",
    "    X = df.desc.values\n",
    "    y = df.min_age.values\n",
    "    X_train, X_test, y_train, y_test = train_test_split(X, y)\n",
    "    vect = CountVectorizer()\n",
    "    tfidf = TfidfTransformer()\n",
    "    clf = RandomForestClassifier()\n",
    "    \n",
    "    X_train_counts = vect.fit_transform(X_train)\n",
    "    X_train_tfidf = tfidf.fit_transform(X_train_counts)\n",
    "    clf.fit(X_train_tfidf, y_train)\n",
    "    \n",
    "    X_test_counts = vect.transform(X_test)\n",
    "    X_test_tfidf = tfidf.transform(X_test_counts)\n",
    "    y_pred = clf.predict(X_test_tfidf)\n",
    "    \n",
    "    display_results(y_test, y_pred)\n",
    "\n",
    "\n",
    "main()"
   ]
  },
  {
   "cell_type": "markdown",
   "metadata": {},
   "source": [
    "<h2> Conclusion <h2>"
   ]
  },
  {
   "cell_type": "markdown",
   "metadata": {},
   "source": [
    "So after lots of playing around with NLP, the best result was achieved from the NLP functions in Udacity's Data Science program I'm currently studying. I was able to achieve about 75 percent accuracy when predicting the minimum age rating of a children's book by its description. Food for thought- can this be generalized even further? To be determined"
   ]
  },
  {
   "cell_type": "code",
   "execution_count": null,
   "metadata": {},
   "outputs": [],
   "source": []
  }
 ],
 "metadata": {
  "kernelspec": {
   "display_name": "Python 3",
   "language": "python",
   "name": "python3"
  },
  "language_info": {
   "codemirror_mode": {
    "name": "ipython",
    "version": 3
   },
   "file_extension": ".py",
   "mimetype": "text/x-python",
   "name": "python",
   "nbconvert_exporter": "python",
   "pygments_lexer": "ipython3",
   "version": "3.8.3"
  }
 },
 "nbformat": 4,
 "nbformat_minor": 4
}
