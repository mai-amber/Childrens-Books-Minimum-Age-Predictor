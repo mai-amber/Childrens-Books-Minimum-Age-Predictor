{
 "cells": [
  {
   "cell_type": "markdown",
   "metadata": {},
   "source": [
    "<h1> Childrens Books Minimum Age Predictor By Description <h1>"
   ]
  },
  {
   "cell_type": "markdown",
   "metadata": {},
   "source": [
    "<img src='storytelling-4203628_1920.jpg' width= '800' align=\"center\">"
   ]
  },
  {
   "cell_type": "markdown",
   "metadata": {},
   "source": [
    "<h2> “The more that you read, the more things you will know. The more you learn, the more places you’ll go.” - Dr. Seuss<h2>"
   ]
  },
  {
   "cell_type": "markdown",
   "metadata": {},
   "source": [
    "So I've never really done Natural Language Processing before, but I'm a bookworm and I figured I should take the opportunity (since it's a Friday during COVID lockdown) to try some NLP on this interesting database I found on Kaggle. The database is composed of childrens books, divided into age groups, including a short description of each book."
   ]
  },
  {
   "cell_type": "code",
   "execution_count": 41,
   "metadata": {},
   "outputs": [
    {
     "name": "stderr",
     "output_type": "stream",
     "text": [
      "[nltk_data] Downloading package punkt to /Users/a1/nltk_data...\n",
      "[nltk_data]   Package punkt is already up-to-date!\n",
      "[nltk_data] Downloading package wordnet to /Users/a1/nltk_data...\n",
      "[nltk_data]   Package wordnet is already up-to-date!\n",
      "[nltk_data] Downloading package stopwords to /Users/a1/nltk_data...\n",
      "[nltk_data]   Package stopwords is already up-to-date!\n"
     ]
    }
   ],
   "source": [
    "#loading packages\n",
    "import numpy as np \n",
    "import pandas as pd \n",
    "import re\n",
    "import nltk \n",
    "nltk.download('punkt')\n",
    "nltk.download('wordnet')\n",
    "from nltk.stem import WordNetLemmatizer\n",
    "nltk.download('stopwords')\n",
    "from nltk.corpus import stopwords \n",
    "from nltk.tokenize import word_tokenize\n",
    "from sklearn.model_selection import train_test_split\n",
    "from sklearn.ensemble import RandomForestClassifier\n",
    "from sklearn.feature_extraction.text import CountVectorizer, TfidfTransformer\n",
    "import plotly.express as px\n",
    "from PIL import Image\n",
    "from wordcloud import WordCloud, STOPWORDS, ImageColorGenerator\n",
    "import matplotlib.pyplot as plt"
   ]
  },
  {
   "cell_type": "markdown",
   "metadata": {},
   "source": [
    "<h2>Loading the data from a Kaggle database <h2>"
   ]
  },
  {
   "cell_type": "code",
   "execution_count": 10,
   "metadata": {},
   "outputs": [
    {
     "data": {
      "text/html": [
       "<div>\n",
       "<style scoped>\n",
       "    .dataframe tbody tr th:only-of-type {\n",
       "        vertical-align: middle;\n",
       "    }\n",
       "\n",
       "    .dataframe tbody tr th {\n",
       "        vertical-align: top;\n",
       "    }\n",
       "\n",
       "    .dataframe thead th {\n",
       "        text-align: right;\n",
       "    }\n",
       "</style>\n",
       "<table border=\"1\" class=\"dataframe\">\n",
       "  <thead>\n",
       "    <tr style=\"text-align: right;\">\n",
       "      <th></th>\n",
       "      <th>names</th>\n",
       "      <th>cats</th>\n",
       "      <th>desc</th>\n",
       "    </tr>\n",
       "  </thead>\n",
       "  <tbody>\n",
       "    <tr>\n",
       "      <th>0</th>\n",
       "      <td>HIDE AND SEEK</td>\n",
       "      <td>Age 2-9</td>\n",
       "      <td>Was it just another game of hide and seek? No....</td>\n",
       "    </tr>\n",
       "    <tr>\n",
       "      <th>1</th>\n",
       "      <td>GINGER THE GIRAFFE</td>\n",
       "      <td>Age 2-9</td>\n",
       "      <td>Read this warm tale of camaraderie and affecti...</td>\n",
       "    </tr>\n",
       "    <tr>\n",
       "      <th>2</th>\n",
       "      <td>DOING MY CHORES</td>\n",
       "      <td>Age 2-9</td>\n",
       "      <td>Love shines through this great illustrated kid...</td>\n",
       "    </tr>\n",
       "    <tr>\n",
       "      <th>3</th>\n",
       "      <td>ABE THE SERVICE DOG</td>\n",
       "      <td>Age 2-9</td>\n",
       "      <td>Abe was a real Service Dog who dedicated his l...</td>\n",
       "    </tr>\n",
       "    <tr>\n",
       "      <th>4</th>\n",
       "      <td>SUNNY MEADOWS WOODLAND SCHOOL</td>\n",
       "      <td>Age 2-9</td>\n",
       "      <td>The class took a little train and went deep in...</td>\n",
       "    </tr>\n",
       "    <tr>\n",
       "      <th>...</th>\n",
       "      <td>...</td>\n",
       "      <td>...</td>\n",
       "      <td>...</td>\n",
       "    </tr>\n",
       "    <tr>\n",
       "      <th>425</th>\n",
       "      <td>Carrying the Elephant: A Memoir of Love and Loss</td>\n",
       "      <td>Age 11+</td>\n",
       "      <td>In the 72 prose poems that make up this unusua...</td>\n",
       "    </tr>\n",
       "    <tr>\n",
       "      <th>426</th>\n",
       "      <td>War and Peas</td>\n",
       "      <td>Age 8+</td>\n",
       "      <td>Nearly forty years after its original appearan...</td>\n",
       "    </tr>\n",
       "    <tr>\n",
       "      <th>427</th>\n",
       "      <td>Love that Dog</td>\n",
       "      <td>Age 9-12</td>\n",
       "      <td>Jack has a great sadness in his life, but he i...</td>\n",
       "    </tr>\n",
       "    <tr>\n",
       "      <th>428</th>\n",
       "      <td>A Pilgrim's Progress</td>\n",
       "      <td>Age 9+</td>\n",
       "      <td>'I had a dream last night ... large enough to ...</td>\n",
       "    </tr>\n",
       "    <tr>\n",
       "      <th>429</th>\n",
       "      <td>Secret Friends</td>\n",
       "      <td>Age 7-11</td>\n",
       "      <td>At her new school, Rafaella suffers daily name...</td>\n",
       "    </tr>\n",
       "  </tbody>\n",
       "</table>\n",
       "<p>430 rows × 3 columns</p>\n",
       "</div>"
      ],
      "text/plain": [
       "                                                names      cats  \\\n",
       "0                                       HIDE AND SEEK   Age 2-9   \n",
       "1                                 GINGER THE GIRAFFE    Age 2-9   \n",
       "2                                     DOING MY CHORES   Age 2-9   \n",
       "3                                 ABE THE SERVICE DOG   Age 2-9   \n",
       "4                       SUNNY MEADOWS WOODLAND SCHOOL   Age 2-9   \n",
       "..                                                ...       ...   \n",
       "425  Carrying the Elephant: A Memoir of Love and Loss   Age 11+   \n",
       "426                                      War and Peas    Age 8+   \n",
       "427                                     Love that Dog  Age 9-12   \n",
       "428                              A Pilgrim's Progress    Age 9+   \n",
       "429                                    Secret Friends  Age 7-11   \n",
       "\n",
       "                                                  desc  \n",
       "0    Was it just another game of hide and seek? No....  \n",
       "1    Read this warm tale of camaraderie and affecti...  \n",
       "2    Love shines through this great illustrated kid...  \n",
       "3    Abe was a real Service Dog who dedicated his l...  \n",
       "4    The class took a little train and went deep in...  \n",
       "..                                                 ...  \n",
       "425  In the 72 prose poems that make up this unusua...  \n",
       "426  Nearly forty years after its original appearan...  \n",
       "427  Jack has a great sadness in his life, but he i...  \n",
       "428  'I had a dream last night ... large enough to ...  \n",
       "429  At her new school, Rafaella suffers daily name...  \n",
       "\n",
       "[430 rows x 3 columns]"
      ]
     },
     "execution_count": 10,
     "metadata": {},
     "output_type": "execute_result"
    }
   ],
   "source": [
    "df = pd.read_csv('children_stories.Csv', encoding=\"ISO-8859-1\")\n",
    "df"
   ]
  },
  {
   "cell_type": "markdown",
   "metadata": {},
   "source": [
    "<h2> Split the age ranges into min and max ages <h2>"
   ]
  },
  {
   "cell_type": "markdown",
   "metadata": {},
   "source": [
    "Cite: https://www.kaggle.com/thomaskonstantin/children-books-age-range-prediction"
   ]
  },
  {
   "cell_type": "code",
   "execution_count": 11,
   "metadata": {},
   "outputs": [],
   "source": [
    "def min_age(x):\n",
    "    if x.find ('-') != -1:\n",
    "        y = re.sub(' +', ' ', x)\n",
    "        y = y.split(' ')[1]\n",
    "        y = y.strip()\n",
    "        return int(y.split('-')[0])\n",
    "    else:\n",
    "        if x.find('months'):\n",
    "            return 0\n",
    "        return int(x.replace('+','').split(' ')[1])\n",
    "def max_age(x):\n",
    "    if x.find ('-') != -1:\n",
    "        y = re.sub(' +', ' ', x)\n",
    "        y = y.split(' ')[1]\n",
    "        y = y.strip()\n",
    "        return int(x.split('-')[1])\n",
    "    else:\n",
    "        return 18"
   ]
  },
  {
   "cell_type": "markdown",
   "metadata": {},
   "source": [
    "<h2>Preprocessing<h2>"
   ]
  },
  {
   "cell_type": "code",
   "execution_count": 12,
   "metadata": {},
   "outputs": [
    {
     "data": {
      "text/html": [
       "<div>\n",
       "<style scoped>\n",
       "    .dataframe tbody tr th:only-of-type {\n",
       "        vertical-align: middle;\n",
       "    }\n",
       "\n",
       "    .dataframe tbody tr th {\n",
       "        vertical-align: top;\n",
       "    }\n",
       "\n",
       "    .dataframe thead th {\n",
       "        text-align: right;\n",
       "    }\n",
       "</style>\n",
       "<table border=\"1\" class=\"dataframe\">\n",
       "  <thead>\n",
       "    <tr style=\"text-align: right;\">\n",
       "      <th></th>\n",
       "      <th>names</th>\n",
       "      <th>cats</th>\n",
       "      <th>desc</th>\n",
       "      <th>min_age</th>\n",
       "      <th>max_age</th>\n",
       "      <th>age_range</th>\n",
       "      <th>avg_age</th>\n",
       "    </tr>\n",
       "  </thead>\n",
       "  <tbody>\n",
       "    <tr>\n",
       "      <th>0</th>\n",
       "      <td>HIDE AND SEEK</td>\n",
       "      <td>Age 2-9</td>\n",
       "      <td>Was it just another game of hide and seek No I...</td>\n",
       "      <td>2</td>\n",
       "      <td>9</td>\n",
       "      <td>7</td>\n",
       "      <td>6.5</td>\n",
       "    </tr>\n",
       "    <tr>\n",
       "      <th>1</th>\n",
       "      <td>GINGER THE GIRAFFE</td>\n",
       "      <td>Age 2-9</td>\n",
       "      <td>Read this warm tale of camaraderie and affecti...</td>\n",
       "      <td>2</td>\n",
       "      <td>9</td>\n",
       "      <td>7</td>\n",
       "      <td>6.5</td>\n",
       "    </tr>\n",
       "    <tr>\n",
       "      <th>2</th>\n",
       "      <td>DOING MY CHORES</td>\n",
       "      <td>Age 2-9</td>\n",
       "      <td>Love shines through this great illustrated kid...</td>\n",
       "      <td>2</td>\n",
       "      <td>9</td>\n",
       "      <td>7</td>\n",
       "      <td>6.5</td>\n",
       "    </tr>\n",
       "    <tr>\n",
       "      <th>3</th>\n",
       "      <td>ABE THE SERVICE DOG</td>\n",
       "      <td>Age 2-9</td>\n",
       "      <td>Abe was a real Service Dog who dedicated his l...</td>\n",
       "      <td>2</td>\n",
       "      <td>9</td>\n",
       "      <td>7</td>\n",
       "      <td>6.5</td>\n",
       "    </tr>\n",
       "    <tr>\n",
       "      <th>4</th>\n",
       "      <td>SUNNY MEADOWS WOODLAND SCHOOL</td>\n",
       "      <td>Age 2-9</td>\n",
       "      <td>The class took a little train and went deep in...</td>\n",
       "      <td>2</td>\n",
       "      <td>9</td>\n",
       "      <td>7</td>\n",
       "      <td>6.5</td>\n",
       "    </tr>\n",
       "    <tr>\n",
       "      <th>...</th>\n",
       "      <td>...</td>\n",
       "      <td>...</td>\n",
       "      <td>...</td>\n",
       "      <td>...</td>\n",
       "      <td>...</td>\n",
       "      <td>...</td>\n",
       "      <td>...</td>\n",
       "    </tr>\n",
       "    <tr>\n",
       "      <th>425</th>\n",
       "      <td>Carrying the Elephant: A Memoir of Love and Loss</td>\n",
       "      <td>Age 11+</td>\n",
       "      <td>In the 72 prose poems that make up this unusua...</td>\n",
       "      <td>0</td>\n",
       "      <td>18</td>\n",
       "      <td>18</td>\n",
       "      <td>9.0</td>\n",
       "    </tr>\n",
       "    <tr>\n",
       "      <th>426</th>\n",
       "      <td>War and Peas</td>\n",
       "      <td>Age 8+</td>\n",
       "      <td>Nearly forty years after its original appearan...</td>\n",
       "      <td>0</td>\n",
       "      <td>18</td>\n",
       "      <td>18</td>\n",
       "      <td>9.0</td>\n",
       "    </tr>\n",
       "    <tr>\n",
       "      <th>427</th>\n",
       "      <td>Love that Dog</td>\n",
       "      <td>Age 9-12</td>\n",
       "      <td>Jack has a great sadness in his life but he is...</td>\n",
       "      <td>9</td>\n",
       "      <td>12</td>\n",
       "      <td>3</td>\n",
       "      <td>15.0</td>\n",
       "    </tr>\n",
       "    <tr>\n",
       "      <th>428</th>\n",
       "      <td>A Pilgrim's Progress</td>\n",
       "      <td>Age 9+</td>\n",
       "      <td>I had a dream last night large enough to fill ...</td>\n",
       "      <td>0</td>\n",
       "      <td>18</td>\n",
       "      <td>18</td>\n",
       "      <td>9.0</td>\n",
       "    </tr>\n",
       "    <tr>\n",
       "      <th>429</th>\n",
       "      <td>Secret Friends</td>\n",
       "      <td>Age 7-11</td>\n",
       "      <td>At her new school Rafaella suffers daily name ...</td>\n",
       "      <td>7</td>\n",
       "      <td>11</td>\n",
       "      <td>4</td>\n",
       "      <td>12.5</td>\n",
       "    </tr>\n",
       "  </tbody>\n",
       "</table>\n",
       "<p>430 rows × 7 columns</p>\n",
       "</div>"
      ],
      "text/plain": [
       "                                                names      cats  \\\n",
       "0                                       HIDE AND SEEK   Age 2-9   \n",
       "1                                 GINGER THE GIRAFFE    Age 2-9   \n",
       "2                                     DOING MY CHORES   Age 2-9   \n",
       "3                                 ABE THE SERVICE DOG   Age 2-9   \n",
       "4                       SUNNY MEADOWS WOODLAND SCHOOL   Age 2-9   \n",
       "..                                                ...       ...   \n",
       "425  Carrying the Elephant: A Memoir of Love and Loss   Age 11+   \n",
       "426                                      War and Peas    Age 8+   \n",
       "427                                     Love that Dog  Age 9-12   \n",
       "428                              A Pilgrim's Progress    Age 9+   \n",
       "429                                    Secret Friends  Age 7-11   \n",
       "\n",
       "                                                  desc  min_age  max_age  \\\n",
       "0    Was it just another game of hide and seek No I...        2        9   \n",
       "1    Read this warm tale of camaraderie and affecti...        2        9   \n",
       "2    Love shines through this great illustrated kid...        2        9   \n",
       "3    Abe was a real Service Dog who dedicated his l...        2        9   \n",
       "4    The class took a little train and went deep in...        2        9   \n",
       "..                                                 ...      ...      ...   \n",
       "425  In the 72 prose poems that make up this unusua...        0       18   \n",
       "426  Nearly forty years after its original appearan...        0       18   \n",
       "427  Jack has a great sadness in his life but he is...        9       12   \n",
       "428  I had a dream last night large enough to fill ...        0       18   \n",
       "429  At her new school Rafaella suffers daily name ...        7       11   \n",
       "\n",
       "     age_range  avg_age  \n",
       "0            7      6.5  \n",
       "1            7      6.5  \n",
       "2            7      6.5  \n",
       "3            7      6.5  \n",
       "4            7      6.5  \n",
       "..         ...      ...  \n",
       "425         18      9.0  \n",
       "426         18      9.0  \n",
       "427          3     15.0  \n",
       "428         18      9.0  \n",
       "429          4     12.5  \n",
       "\n",
       "[430 rows x 7 columns]"
      ]
     },
     "execution_count": 12,
     "metadata": {},
     "output_type": "execute_result"
    }
   ],
   "source": [
    "df['min_age'] = df.cats.apply(min_age)\n",
    "df['max_age'] = df.cats.apply(max_age)\n",
    "df['age_range'] = df.max_age - df.min_age\n",
    "df.loc[:,'desc'] = df.desc.apply(lambda x : \" \".join(re.findall('[\\w]+',x)))\n",
    "df['avg_age'] = df.min_age + df.max_age / 2\n",
    "df"
   ]
  },
  {
   "cell_type": "markdown",
   "metadata": {},
   "source": [
    "<h2> Exploratory Data Analysis <h2>"
   ]
  },
  {
   "cell_type": "code",
   "execution_count": 62,
   "metadata": {},
   "outputs": [
    {
     "data": {
      "application/vnd.plotly.v1+json": {
       "config": {
        "plotlyServerURL": "https://plot.ly"
       },
       "data": [
        {
         "alignmentgroup": "True",
         "bingroup": "x",
         "hovertemplate": "age=%{x}<br>count=%{y}<extra></extra>",
         "legendgroup": "",
         "marker": {
          "color": "purple"
         },
         "name": "",
         "offsetgroup": "",
         "orientation": "v",
         "showlegend": false,
         "type": "histogram",
         "x": [
          "Age 2-9",
          "Age 2-9",
          "Age 2-9",
          "Age 2-9",
          "Age 2-9",
          "Age 2-9",
          "Age 2-9",
          "Age 2-9",
          "Age 2-9",
          "Age 2-9",
          "Age 2-9",
          "Age 2-9",
          "Age 2-9",
          "Age 2-9",
          "Age 2-9",
          "Age 2-9",
          "Age 2-9",
          "Age 2-9",
          "Age 2-9",
          "Age 2-9",
          "Age 1-2",
          "Age 1-3",
          "Age 0-2",
          "Age 1-3",
          "Age  0-3",
          "Age 0-3",
          "Age 0-2",
          "Age 1-3",
          "Age 3-5",
          "Age 0-3",
          "Age 0+",
          "Age 1-5",
          "Age 1-4",
          "Age 1-5",
          "Age 2-6",
          "Age 0-3",
          "Age 1-3",
          "Age 2-7",
          "Age 2-6",
          "Age 2-6",
          "Age 3-6",
          "Age 0-4",
          "Age 0-3",
          "Age 3-6",
          "Age 2-5",
          "Age 0+",
          "Age 4-6",
          "Age 1-4",
          "Age 3-6",
          "Age 2-6",
          "Age 3-6",
          "Age 2-5",
          "Age 1-4",
          "Age 0-4",
          "Age 0-3",
          "Age 3-5",
          "Age 2-6",
          "Age 2-6",
          "Age 0-3",
          "Age 3-5",
          "Age 3-6",
          "Age 0-5",
          "Age 2+",
          "Age 2-5",
          "Age 3-5",
          "Age 0-4",
          "Age 1-3",
          "Age 0-4",
          "Age 4+",
          "Age 3+",
          "Age 3-7",
          "Age 0-3",
          "Age 2+",
          "Age 0-5",
          "Age 2-5",
          "Age 0-5",
          "Age 2+",
          "Age 0-4",
          "Age 1-5",
          "Age 0-3",
          "Age 0-4",
          "Age 3+",
          "Age 0-4",
          "Age 1-3",
          "Age 0-5",
          "Age 3+",
          "Age 3-6",
          "Age 0-4",
          "Age 3-4",
          "Age 0-4",
          "Age 3-5",
          "Age 0-4",
          "Age 0-5",
          "Age 0-4",
          "Age 0+",
          "Age 2-5",
          "Age 0-5",
          "Age 3-5",
          "Age 0-3",
          "Age 1-6",
          "Age 2-5",
          "Age 2-6",
          "Age 0-4",
          "Age 2-6",
          "Age 0-4",
          "Age 0-3",
          "Age 0-5",
          "Age 2-5",
          "Age 2-5",
          "Age 3-6",
          "Age 0-4",
          "Age 0-4",
          "Age 0-3",
          "Age 1-5",
          "Age 2-6",
          "Age 0+",
          "Age 0-4",
          "Age 2-6",
          "Age 1-5",
          "Age 3-5",
          "Age 0-6",
          "Age 3-6",
          "Age 0+",
          "Age 0-5",
          "Age 4-7",
          "Age 5-8",
          "Age 5-8",
          "Age 4-7",
          "Age 4+",
          "Age 3+",
          "Age 0+",
          "Age 2-5",
          "Age 4+",
          "Age 1+",
          "Age 3+",
          "Age 5+",
          "Age 2+",
          "Age 4-11",
          "Age 2+",
          "Age 2-4",
          "Age 3+",
          "Age 3+",
          "Age 4-6",
          "Age 2+",
          "Age 4+",
          "Age 3+",
          "Age 3-6",
          "Age 0+",
          "Age 3+",
          "Age 2+",
          "Age 3+",
          "Age 4+",
          "Age 3+",
          "Age 2+",
          "Age 5+",
          "Age 4+",
          "Age 2+",
          "Age 0+",
          "Age 3+",
          "Age 3+",
          "Age 4+",
          "Age 5+",
          "Age 4-5",
          "Age 2+",
          "Age 4+",
          "Age 3-7",
          "Age 4+",
          "Age 4+",
          "Age 3-7",
          "Age 3+",
          "Age 3+",
          "Age 4+",
          "Age 3+",
          "Age 5+",
          "Age 3+",
          "Age 4-8",
          "Age 4-8",
          "Age 3+",
          "Age 1+",
          "Age 0+",
          "Age 4+",
          "Age 3+",
          "Age 3-7",
          "Age 3-7",
          "Age 4+",
          "Age 3+",
          "Age 2+",
          "Age 0+",
          "Age 4+",
          "Age 4+",
          "Age 2+",
          "Age 0+",
          "Age 1-4",
          "Age 6months+",
          "Age 3+",
          "Age 0+",
          "Age 3+",
          "Age 3+",
          "Age 4-8",
          "Age 4+",
          "Age 4+",
          "Age 3+",
          "Age 3+",
          "Age 3+",
          "Age 4-6",
          "Age 3+",
          "Age 3+",
          "Age 0+",
          "Age 3+",
          "Age 3+",
          "Age 5-8",
          "Age 3+",
          "Age 6-8",
          "Age 6-11",
          "Age 8-12",
          "Age 7-10",
          "Age 7-10",
          "Age 7-12",
          "Age 8-12",
          "Age 7+",
          "Age 5-9",
          "Age 6-8",
          "Age 6-11",
          "Age 6+",
          "Age 3+",
          "Age 6+",
          "Age 7+",
          "Age 7-9",
          "Age 8+",
          "Age 5+",
          "Age 5+",
          "Age 7+",
          "Age 8+",
          "Age 7+",
          "Age 5+",
          "Age 6+",
          "Age 4+",
          "Age 6+",
          "Age 6+",
          "Age 5+",
          "Age 7+",
          "Age 6+",
          "Age 6+",
          "Age 7+",
          "Age 8+",
          "Age 7-9",
          "Age 6+",
          "Age 6+",
          "Age 7+",
          "Age 7+",
          "Age 6+",
          "Age 7+",
          "Age 7-11",
          "Age 7+",
          "Age 6-11",
          "Age 6+",
          "Age 7-11",
          "Age 8+",
          "Age 5+",
          "Age 7+",
          "Age 8+",
          "Age 7+",
          "Age 7+",
          "Age 7+",
          "Age 5+",
          "Age 5+",
          "Age 6+",
          "Age 7+",
          "Age 5+",
          "Age 5+",
          "Age 6+",
          "Age 8+",
          "Age 5+",
          "Age 7+",
          "Age 6+",
          "Age 5+",
          "Age 5-9",
          "Age 6+",
          "Age 7+",
          "Age 6+",
          "Age 4+",
          "Age 8+",
          "Age 6+",
          "Age 6+",
          "Age 6-9",
          "Age 8+",
          "Age 5+",
          "Age 6+",
          "Age 5+",
          "Age 8+",
          "Age 7+",
          "Age 4+",
          "Age 7+",
          "Age 6+",
          "Age 9-14",
          "Age 9-11",
          "Age 9+",
          "Age 9-11",
          "Age 9-11",
          "Age 9+",
          "Age 10+",
          "Age 8+",
          "Age 8+",
          "Age 8+",
          "Age 8+",
          "Age 10+",
          "Age 9+",
          "Age 11+",
          "Age 10+",
          "Age 13+",
          "Age 9+",
          "Age 13+",
          "Age 10+",
          "Age 12+",
          "Age 9+",
          "Age 10+",
          "Age 10+",
          "Age 11+",
          "Age 9+",
          "Age ",
          "Age 9+",
          "Age 8+",
          "Age 9+",
          "Age 8+",
          "Age 10+",
          "Age 10+",
          "Age 10+",
          "Age 10+",
          "Age 10+",
          "Age 8+",
          "Age 9+",
          "Age 11+",
          "Age 9+",
          "Age 9+",
          "Age 11+",
          "Age 12+",
          "Age 9+",
          "Age 8+",
          "Age 9+",
          "Age 10+",
          "Age 12+",
          "Age 10+",
          "Age 12+",
          "Age 9+",
          "Age 10+",
          "Age 8+",
          "Age 10+",
          "Age 11+",
          "Age 10+",
          "Age 12+",
          "Age 9+",
          "Age 9+",
          "Age 7+",
          "Age 9+",
          "Age 10+",
          "Age 12+",
          "Age 9-13",
          "Age 9+",
          "Age 11+",
          "Age 10+",
          "Age 11+",
          "Age 9-13",
          "Age 8+",
          "Age 10+",
          "Age 8+",
          "Age 9+",
          "Age 11+",
          "Age 9+",
          "Age 12+",
          "Age 11+",
          "Age 8+",
          "Age 11+",
          "Age 11-14",
          "Age 10+",
          "Age 12+",
          "Age 12+",
          "Age 9+",
          "Age 9+",
          "Age 13+",
          "Age 9+",
          "Age 9+",
          "Age 9+",
          "Age 11+",
          "Age 8+",
          "Age 10+",
          "Age 8+",
          "Age 10+",
          "Age 11+",
          "Age 10+",
          "Age 10+",
          "Age 10-14",
          "Age 11+",
          "Age 10+",
          "Age 11+",
          "Age 9-12",
          "Age 8-12",
          "Age 12+",
          "Age 8-12",
          "Age 8-11",
          "Age 9+",
          "Age 9+",
          "Age ",
          "Age 8+",
          "Age 9+",
          "Age 6+",
          "Age 12+",
          "Age 10+",
          "Age 9+",
          "Age 9+",
          "Age 7+",
          "Age 7+",
          "Age 8+",
          "Age 7+",
          "Age 7+",
          "Age 11+",
          "Age 11+",
          "Age 11+",
          "Age 11-15",
          "Age 7+",
          "Age 9+",
          "Age 7+",
          "Age 7+",
          "Age 12+",
          "Age 7-11",
          "Age 11+",
          "Age 11+",
          "Age 8+",
          "Age 9-12",
          "Age 9+",
          "Age 7-11"
         ],
         "xaxis": "x",
         "yaxis": "y"
        }
       ],
       "layout": {
        "barmode": "stack",
        "legend": {
         "tracegroupgap": 0
        },
        "paper_bgcolor": "rgba(0, 0, 0, 0)",
        "plot_bgcolor": "rgba(0, 0, 0, 0)",
        "template": {
         "data": {
          "bar": [
           {
            "error_x": {
             "color": "#2a3f5f"
            },
            "error_y": {
             "color": "#2a3f5f"
            },
            "marker": {
             "line": {
              "color": "#E5ECF6",
              "width": 0.5
             }
            },
            "type": "bar"
           }
          ],
          "barpolar": [
           {
            "marker": {
             "line": {
              "color": "#E5ECF6",
              "width": 0.5
             }
            },
            "type": "barpolar"
           }
          ],
          "carpet": [
           {
            "aaxis": {
             "endlinecolor": "#2a3f5f",
             "gridcolor": "white",
             "linecolor": "white",
             "minorgridcolor": "white",
             "startlinecolor": "#2a3f5f"
            },
            "baxis": {
             "endlinecolor": "#2a3f5f",
             "gridcolor": "white",
             "linecolor": "white",
             "minorgridcolor": "white",
             "startlinecolor": "#2a3f5f"
            },
            "type": "carpet"
           }
          ],
          "choropleth": [
           {
            "colorbar": {
             "outlinewidth": 0,
             "ticks": ""
            },
            "type": "choropleth"
           }
          ],
          "contour": [
           {
            "colorbar": {
             "outlinewidth": 0,
             "ticks": ""
            },
            "colorscale": [
             [
              0,
              "#0d0887"
             ],
             [
              0.1111111111111111,
              "#46039f"
             ],
             [
              0.2222222222222222,
              "#7201a8"
             ],
             [
              0.3333333333333333,
              "#9c179e"
             ],
             [
              0.4444444444444444,
              "#bd3786"
             ],
             [
              0.5555555555555556,
              "#d8576b"
             ],
             [
              0.6666666666666666,
              "#ed7953"
             ],
             [
              0.7777777777777778,
              "#fb9f3a"
             ],
             [
              0.8888888888888888,
              "#fdca26"
             ],
             [
              1,
              "#f0f921"
             ]
            ],
            "type": "contour"
           }
          ],
          "contourcarpet": [
           {
            "colorbar": {
             "outlinewidth": 0,
             "ticks": ""
            },
            "type": "contourcarpet"
           }
          ],
          "heatmap": [
           {
            "colorbar": {
             "outlinewidth": 0,
             "ticks": ""
            },
            "colorscale": [
             [
              0,
              "#0d0887"
             ],
             [
              0.1111111111111111,
              "#46039f"
             ],
             [
              0.2222222222222222,
              "#7201a8"
             ],
             [
              0.3333333333333333,
              "#9c179e"
             ],
             [
              0.4444444444444444,
              "#bd3786"
             ],
             [
              0.5555555555555556,
              "#d8576b"
             ],
             [
              0.6666666666666666,
              "#ed7953"
             ],
             [
              0.7777777777777778,
              "#fb9f3a"
             ],
             [
              0.8888888888888888,
              "#fdca26"
             ],
             [
              1,
              "#f0f921"
             ]
            ],
            "type": "heatmap"
           }
          ],
          "heatmapgl": [
           {
            "colorbar": {
             "outlinewidth": 0,
             "ticks": ""
            },
            "colorscale": [
             [
              0,
              "#0d0887"
             ],
             [
              0.1111111111111111,
              "#46039f"
             ],
             [
              0.2222222222222222,
              "#7201a8"
             ],
             [
              0.3333333333333333,
              "#9c179e"
             ],
             [
              0.4444444444444444,
              "#bd3786"
             ],
             [
              0.5555555555555556,
              "#d8576b"
             ],
             [
              0.6666666666666666,
              "#ed7953"
             ],
             [
              0.7777777777777778,
              "#fb9f3a"
             ],
             [
              0.8888888888888888,
              "#fdca26"
             ],
             [
              1,
              "#f0f921"
             ]
            ],
            "type": "heatmapgl"
           }
          ],
          "histogram": [
           {
            "marker": {
             "colorbar": {
              "outlinewidth": 0,
              "ticks": ""
             }
            },
            "type": "histogram"
           }
          ],
          "histogram2d": [
           {
            "colorbar": {
             "outlinewidth": 0,
             "ticks": ""
            },
            "colorscale": [
             [
              0,
              "#0d0887"
             ],
             [
              0.1111111111111111,
              "#46039f"
             ],
             [
              0.2222222222222222,
              "#7201a8"
             ],
             [
              0.3333333333333333,
              "#9c179e"
             ],
             [
              0.4444444444444444,
              "#bd3786"
             ],
             [
              0.5555555555555556,
              "#d8576b"
             ],
             [
              0.6666666666666666,
              "#ed7953"
             ],
             [
              0.7777777777777778,
              "#fb9f3a"
             ],
             [
              0.8888888888888888,
              "#fdca26"
             ],
             [
              1,
              "#f0f921"
             ]
            ],
            "type": "histogram2d"
           }
          ],
          "histogram2dcontour": [
           {
            "colorbar": {
             "outlinewidth": 0,
             "ticks": ""
            },
            "colorscale": [
             [
              0,
              "#0d0887"
             ],
             [
              0.1111111111111111,
              "#46039f"
             ],
             [
              0.2222222222222222,
              "#7201a8"
             ],
             [
              0.3333333333333333,
              "#9c179e"
             ],
             [
              0.4444444444444444,
              "#bd3786"
             ],
             [
              0.5555555555555556,
              "#d8576b"
             ],
             [
              0.6666666666666666,
              "#ed7953"
             ],
             [
              0.7777777777777778,
              "#fb9f3a"
             ],
             [
              0.8888888888888888,
              "#fdca26"
             ],
             [
              1,
              "#f0f921"
             ]
            ],
            "type": "histogram2dcontour"
           }
          ],
          "mesh3d": [
           {
            "colorbar": {
             "outlinewidth": 0,
             "ticks": ""
            },
            "type": "mesh3d"
           }
          ],
          "parcoords": [
           {
            "line": {
             "colorbar": {
              "outlinewidth": 0,
              "ticks": ""
             }
            },
            "type": "parcoords"
           }
          ],
          "pie": [
           {
            "automargin": true,
            "type": "pie"
           }
          ],
          "scatter": [
           {
            "marker": {
             "colorbar": {
              "outlinewidth": 0,
              "ticks": ""
             }
            },
            "type": "scatter"
           }
          ],
          "scatter3d": [
           {
            "line": {
             "colorbar": {
              "outlinewidth": 0,
              "ticks": ""
             }
            },
            "marker": {
             "colorbar": {
              "outlinewidth": 0,
              "ticks": ""
             }
            },
            "type": "scatter3d"
           }
          ],
          "scattercarpet": [
           {
            "marker": {
             "colorbar": {
              "outlinewidth": 0,
              "ticks": ""
             }
            },
            "type": "scattercarpet"
           }
          ],
          "scattergeo": [
           {
            "marker": {
             "colorbar": {
              "outlinewidth": 0,
              "ticks": ""
             }
            },
            "type": "scattergeo"
           }
          ],
          "scattergl": [
           {
            "marker": {
             "colorbar": {
              "outlinewidth": 0,
              "ticks": ""
             }
            },
            "type": "scattergl"
           }
          ],
          "scattermapbox": [
           {
            "marker": {
             "colorbar": {
              "outlinewidth": 0,
              "ticks": ""
             }
            },
            "type": "scattermapbox"
           }
          ],
          "scatterpolar": [
           {
            "marker": {
             "colorbar": {
              "outlinewidth": 0,
              "ticks": ""
             }
            },
            "type": "scatterpolar"
           }
          ],
          "scatterpolargl": [
           {
            "marker": {
             "colorbar": {
              "outlinewidth": 0,
              "ticks": ""
             }
            },
            "type": "scatterpolargl"
           }
          ],
          "scatterternary": [
           {
            "marker": {
             "colorbar": {
              "outlinewidth": 0,
              "ticks": ""
             }
            },
            "type": "scatterternary"
           }
          ],
          "surface": [
           {
            "colorbar": {
             "outlinewidth": 0,
             "ticks": ""
            },
            "colorscale": [
             [
              0,
              "#0d0887"
             ],
             [
              0.1111111111111111,
              "#46039f"
             ],
             [
              0.2222222222222222,
              "#7201a8"
             ],
             [
              0.3333333333333333,
              "#9c179e"
             ],
             [
              0.4444444444444444,
              "#bd3786"
             ],
             [
              0.5555555555555556,
              "#d8576b"
             ],
             [
              0.6666666666666666,
              "#ed7953"
             ],
             [
              0.7777777777777778,
              "#fb9f3a"
             ],
             [
              0.8888888888888888,
              "#fdca26"
             ],
             [
              1,
              "#f0f921"
             ]
            ],
            "type": "surface"
           }
          ],
          "table": [
           {
            "cells": {
             "fill": {
              "color": "#EBF0F8"
             },
             "line": {
              "color": "white"
             }
            },
            "header": {
             "fill": {
              "color": "#C8D4E3"
             },
             "line": {
              "color": "white"
             }
            },
            "type": "table"
           }
          ]
         },
         "layout": {
          "annotationdefaults": {
           "arrowcolor": "#2a3f5f",
           "arrowhead": 0,
           "arrowwidth": 1
          },
          "coloraxis": {
           "colorbar": {
            "outlinewidth": 0,
            "ticks": ""
           }
          },
          "colorscale": {
           "diverging": [
            [
             0,
             "#8e0152"
            ],
            [
             0.1,
             "#c51b7d"
            ],
            [
             0.2,
             "#de77ae"
            ],
            [
             0.3,
             "#f1b6da"
            ],
            [
             0.4,
             "#fde0ef"
            ],
            [
             0.5,
             "#f7f7f7"
            ],
            [
             0.6,
             "#e6f5d0"
            ],
            [
             0.7,
             "#b8e186"
            ],
            [
             0.8,
             "#7fbc41"
            ],
            [
             0.9,
             "#4d9221"
            ],
            [
             1,
             "#276419"
            ]
           ],
           "sequential": [
            [
             0,
             "#0d0887"
            ],
            [
             0.1111111111111111,
             "#46039f"
            ],
            [
             0.2222222222222222,
             "#7201a8"
            ],
            [
             0.3333333333333333,
             "#9c179e"
            ],
            [
             0.4444444444444444,
             "#bd3786"
            ],
            [
             0.5555555555555556,
             "#d8576b"
            ],
            [
             0.6666666666666666,
             "#ed7953"
            ],
            [
             0.7777777777777778,
             "#fb9f3a"
            ],
            [
             0.8888888888888888,
             "#fdca26"
            ],
            [
             1,
             "#f0f921"
            ]
           ],
           "sequentialminus": [
            [
             0,
             "#0d0887"
            ],
            [
             0.1111111111111111,
             "#46039f"
            ],
            [
             0.2222222222222222,
             "#7201a8"
            ],
            [
             0.3333333333333333,
             "#9c179e"
            ],
            [
             0.4444444444444444,
             "#bd3786"
            ],
            [
             0.5555555555555556,
             "#d8576b"
            ],
            [
             0.6666666666666666,
             "#ed7953"
            ],
            [
             0.7777777777777778,
             "#fb9f3a"
            ],
            [
             0.8888888888888888,
             "#fdca26"
            ],
            [
             1,
             "#f0f921"
            ]
           ]
          },
          "colorway": [
           "#636efa",
           "#EF553B",
           "#00cc96",
           "#ab63fa",
           "#FFA15A",
           "#19d3f3",
           "#FF6692",
           "#B6E880",
           "#FF97FF",
           "#FECB52"
          ],
          "font": {
           "color": "#2a3f5f"
          },
          "geo": {
           "bgcolor": "white",
           "lakecolor": "white",
           "landcolor": "#E5ECF6",
           "showlakes": true,
           "showland": true,
           "subunitcolor": "white"
          },
          "hoverlabel": {
           "align": "left"
          },
          "hovermode": "closest",
          "mapbox": {
           "style": "light"
          },
          "paper_bgcolor": "white",
          "plot_bgcolor": "#E5ECF6",
          "polar": {
           "angularaxis": {
            "gridcolor": "white",
            "linecolor": "white",
            "ticks": ""
           },
           "bgcolor": "#E5ECF6",
           "radialaxis": {
            "gridcolor": "white",
            "linecolor": "white",
            "ticks": ""
           }
          },
          "scene": {
           "xaxis": {
            "backgroundcolor": "#E5ECF6",
            "gridcolor": "white",
            "gridwidth": 2,
            "linecolor": "white",
            "showbackground": true,
            "ticks": "",
            "zerolinecolor": "white"
           },
           "yaxis": {
            "backgroundcolor": "#E5ECF6",
            "gridcolor": "white",
            "gridwidth": 2,
            "linecolor": "white",
            "showbackground": true,
            "ticks": "",
            "zerolinecolor": "white"
           },
           "zaxis": {
            "backgroundcolor": "#E5ECF6",
            "gridcolor": "white",
            "gridwidth": 2,
            "linecolor": "white",
            "showbackground": true,
            "ticks": "",
            "zerolinecolor": "white"
           }
          },
          "shapedefaults": {
           "line": {
            "color": "#2a3f5f"
           }
          },
          "ternary": {
           "aaxis": {
            "gridcolor": "white",
            "linecolor": "white",
            "ticks": ""
           },
           "baxis": {
            "gridcolor": "white",
            "linecolor": "white",
            "ticks": ""
           },
           "bgcolor": "#E5ECF6",
           "caxis": {
            "gridcolor": "white",
            "linecolor": "white",
            "ticks": ""
           }
          },
          "title": {
           "x": 0.05
          },
          "xaxis": {
           "automargin": true,
           "gridcolor": "white",
           "linecolor": "white",
           "ticks": "",
           "title": {
            "standoff": 15
           },
           "zerolinecolor": "white",
           "zerolinewidth": 2
          },
          "yaxis": {
           "automargin": true,
           "gridcolor": "white",
           "linecolor": "white",
           "ticks": "",
           "title": {
            "standoff": 15
           },
           "zerolinecolor": "white",
           "zerolinewidth": 2
          }
         }
        },
        "title": {
         "text": "Age Distribution"
        },
        "xaxis": {
         "anchor": "y",
         "categoryorder": "category ascending",
         "domain": [
          0,
          1
         ],
         "title": {
          "text": "age"
         }
        },
        "yaxis": {
         "anchor": "x",
         "domain": [
          0,
          1
         ],
         "title": {
          "text": "count"
         }
        }
       }
      },
      "text/html": [
       "<div>                            <div id=\"42921e62-498b-40be-b54f-4e11e9d5e06d\" class=\"plotly-graph-div\" style=\"height:525px; width:100%;\"></div>            <script type=\"text/javascript\">                require([\"plotly\"], function(Plotly) {                    window.PLOTLYENV=window.PLOTLYENV || {};                                    if (document.getElementById(\"42921e62-498b-40be-b54f-4e11e9d5e06d\")) {                    Plotly.newPlot(                        \"42921e62-498b-40be-b54f-4e11e9d5e06d\",                        [{\"alignmentgroup\": \"True\", \"bingroup\": \"x\", \"hovertemplate\": \"age=%{x}<br>count=%{y}<extra></extra>\", \"legendgroup\": \"\", \"marker\": {\"color\": \"purple\"}, \"name\": \"\", \"offsetgroup\": \"\", \"orientation\": \"v\", \"showlegend\": false, \"type\": \"histogram\", \"x\": [\"Age 2-9\", \"Age 2-9\", \"Age 2-9\", \"Age 2-9\", \"Age 2-9\", \"Age 2-9\", \"Age 2-9\", \"Age 2-9\", \"Age 2-9\", \"Age 2-9\", \"Age 2-9\", \"Age 2-9\", \"Age 2-9\", \"Age 2-9\", \"Age 2-9\", \"Age 2-9\", \"Age 2-9\", \"Age 2-9\", \"Age 2-9\", \"Age 2-9\", \"Age 1-2\", \"Age 1-3\", \"Age 0-2\", \"Age 1-3\", \"Age  0-3\", \"Age 0-3\", \"Age 0-2\", \"Age 1-3\", \"Age 3-5\", \"Age 0-3\", \"Age 0+\", \"Age 1-5\", \"Age 1-4\", \"Age 1-5\", \"Age 2-6\", \"Age 0-3\", \"Age 1-3\", \"Age 2-7\", \"Age 2-6\", \"Age 2-6\", \"Age 3-6\", \"Age 0-4\", \"Age 0-3\", \"Age 3-6\", \"Age 2-5\", \"Age 0+\", \"Age 4-6\", \"Age 1-4\", \"Age 3-6\", \"Age 2-6\", \"Age 3-6\", \"Age 2-5\", \"Age 1-4\", \"Age 0-4\", \"Age 0-3\", \"Age 3-5\", \"Age 2-6\", \"Age 2-6\", \"Age 0-3\", \"Age 3-5\", \"Age 3-6\", \"Age 0-5\", \"Age 2+\", \"Age 2-5\", \"Age 3-5\", \"Age 0-4\", \"Age 1-3\", \"Age 0-4\", \"Age 4+\", \"Age 3+\", \"Age 3-7\", \"Age 0-3\", \"Age 2+\", \"Age 0-5\", \"Age 2-5\", \"Age 0-5\", \"Age 2+\", \"Age 0-4\", \"Age 1-5\", \"Age 0-3\", \"Age 0-4\", \"Age 3+\", \"Age 0-4\", \"Age 1-3\", \"Age 0-5\", \"Age 3+\", \"Age 3-6\", \"Age 0-4\", \"Age 3-4\", \"Age 0-4\", \"Age 3-5\", \"Age 0-4\", \"Age 0-5\", \"Age 0-4\", \"Age 0+\", \"Age 2-5\", \"Age 0-5\", \"Age 3-5\", \"Age 0-3\", \"Age 1-6\", \"Age 2-5\", \"Age 2-6\", \"Age 0-4\", \"Age 2-6\", \"Age 0-4\", \"Age 0-3\", \"Age 0-5\", \"Age 2-5\", \"Age 2-5\", \"Age 3-6\", \"Age 0-4\", \"Age 0-4\", \"Age 0-3\", \"Age 1-5\", \"Age 2-6\", \"Age 0+\", \"Age 0-4\", \"Age 2-6\", \"Age 1-5\", \"Age 3-5\", \"Age 0-6\", \"Age 3-6\", \"Age 0+\", \"Age 0-5\", \"Age 4-7\", \"Age 5-8\", \"Age 5-8\", \"Age 4-7\", \"Age 4+\", \"Age 3+\", \"Age 0+\", \"Age 2-5\", \"Age 4+\", \"Age 1+\", \"Age 3+\", \"Age 5+\", \"Age 2+\", \"Age 4-11\", \"Age 2+\", \"Age 2-4\", \"Age 3+\", \"Age 3+\", \"Age 4-6\", \"Age 2+\", \"Age 4+\", \"Age 3+\", \"Age 3-6\", \"Age 0+\", \"Age 3+\", \"Age 2+\", \"Age 3+\", \"Age 4+\", \"Age 3+\", \"Age 2+\", \"Age 5+\", \"Age 4+\", \"Age 2+\", \"Age 0+\", \"Age 3+\", \"Age 3+\", \"Age 4+\", \"Age 5+\", \"Age 4-5\", \"Age 2+\", \"Age 4+\", \"Age 3-7\", \"Age 4+\", \"Age 4+\", \"Age 3-7\", \"Age 3+\", \"Age 3+\", \"Age 4+\", \"Age 3+\", \"Age 5+\", \"Age 3+\", \"Age 4-8\", \"Age 4-8\", \"Age 3+\", \"Age 1+\", \"Age 0+\", \"Age 4+\", \"Age 3+\", \"Age 3-7\", \"Age 3-7\", \"Age 4+\", \"Age 3+\", \"Age 2+\", \"Age 0+\", \"Age 4+\", \"Age 4+\", \"Age 2+\", \"Age 0+\", \"Age 1-4\", \"Age 6months+\", \"Age 3+\", \"Age 0+\", \"Age 3+\", \"Age 3+\", \"Age 4-8\", \"Age 4+\", \"Age 4+\", \"Age 3+\", \"Age 3+\", \"Age 3+\", \"Age 4-6\", \"Age 3+\", \"Age 3+\", \"Age 0+\", \"Age 3+\", \"Age 3+\", \"Age 5-8\", \"Age 3+\", \"Age 6-8\", \"Age 6-11\", \"Age 8-12\", \"Age 7-10\", \"Age 7-10\", \"Age 7-12\", \"Age 8-12\", \"Age 7+\", \"Age 5-9\", \"Age 6-8\", \"Age 6-11\", \"Age 6+\", \"Age 3+\", \"Age 6+\", \"Age 7+\", \"Age 7-9\", \"Age 8+\", \"Age 5+\", \"Age 5+\", \"Age 7+\", \"Age 8+\", \"Age 7+\", \"Age 5+\", \"Age 6+\", \"Age 4+\", \"Age 6+\", \"Age 6+\", \"Age 5+\", \"Age 7+\", \"Age 6+\", \"Age 6+\", \"Age 7+\", \"Age 8+\", \"Age 7-9\", \"Age 6+\", \"Age 6+\", \"Age 7+\", \"Age 7+\", \"Age 6+\", \"Age 7+\", \"Age 7-11\", \"Age 7+\", \"Age 6-11\", \"Age 6+\", \"Age 7-11\", \"Age 8+\", \"Age 5+\", \"Age 7+\", \"Age 8+\", \"Age 7+\", \"Age 7+\", \"Age 7+\", \"Age 5+\", \"Age 5+\", \"Age 6+\", \"Age 7+\", \"Age 5+\", \"Age 5+\", \"Age 6+\", \"Age 8+\", \"Age 5+\", \"Age 7+\", \"Age 6+\", \"Age 5+\", \"Age 5-9\", \"Age 6+\", \"Age 7+\", \"Age 6+\", \"Age 4+\", \"Age 8+\", \"Age 6+\", \"Age 6+\", \"Age 6-9\", \"Age 8+\", \"Age 5+\", \"Age 6+\", \"Age 5+\", \"Age 8+\", \"Age 7+\", \"Age 4+\", \"Age 7+\", \"Age 6+\", \"Age 9-14\", \"Age 9-11\", \"Age 9+\", \"Age 9-11\", \"Age 9-11\", \"Age 9+\", \"Age 10+\", \"Age 8+\", \"Age 8+\", \"Age 8+\", \"Age 8+\", \"Age 10+\", \"Age 9+\", \"Age 11+\", \"Age 10+\", \"Age 13+\", \"Age 9+\", \"Age 13+\", \"Age 10+\", \"Age 12+\", \"Age 9+\", \"Age 10+\", \"Age 10+\", \"Age 11+\", \"Age 9+\", \"Age \", \"Age 9+\", \"Age 8+\", \"Age 9+\", \"Age 8+\", \"Age 10+\", \"Age 10+\", \"Age 10+\", \"Age 10+\", \"Age 10+\", \"Age 8+\", \"Age 9+\", \"Age 11+\", \"Age 9+\", \"Age 9+\", \"Age 11+\", \"Age 12+\", \"Age 9+\", \"Age 8+\", \"Age 9+\", \"Age 10+\", \"Age 12+\", \"Age 10+\", \"Age 12+\", \"Age 9+\", \"Age 10+\", \"Age 8+\", \"Age 10+\", \"Age 11+\", \"Age 10+\", \"Age 12+\", \"Age 9+\", \"Age 9+\", \"Age 7+\", \"Age 9+\", \"Age 10+\", \"Age 12+\", \"Age 9-13\", \"Age 9+\", \"Age 11+\", \"Age 10+\", \"Age 11+\", \"Age 9-13\", \"Age 8+\", \"Age 10+\", \"Age 8+\", \"Age 9+\", \"Age 11+\", \"Age 9+\", \"Age 12+\", \"Age 11+\", \"Age 8+\", \"Age 11+\", \"Age 11-14\", \"Age 10+\", \"Age 12+\", \"Age 12+\", \"Age 9+\", \"Age 9+\", \"Age 13+\", \"Age 9+\", \"Age 9+\", \"Age 9+\", \"Age 11+\", \"Age 8+\", \"Age 10+\", \"Age 8+\", \"Age 10+\", \"Age 11+\", \"Age 10+\", \"Age 10+\", \"Age 10-14\", \"Age 11+\", \"Age 10+\", \"Age 11+\", \"Age 9-12\", \"Age 8-12\", \"Age 12+\", \"Age 8-12\", \"Age 8-11\", \"Age 9+\", \"Age 9+\", \"Age \", \"Age 8+\", \"Age 9+\", \"Age 6+\", \"Age 12+\", \"Age 10+\", \"Age 9+\", \"Age 9+\", \"Age 7+\", \"Age 7+\", \"Age 8+\", \"Age 7+\", \"Age 7+\", \"Age 11+\", \"Age 11+\", \"Age 11+\", \"Age 11-15\", \"Age 7+\", \"Age 9+\", \"Age 7+\", \"Age 7+\", \"Age 12+\", \"Age 7-11\", \"Age 11+\", \"Age 11+\", \"Age 8+\", \"Age 9-12\", \"Age 9+\", \"Age 7-11\"], \"xaxis\": \"x\", \"yaxis\": \"y\"}],                        {\"barmode\": \"stack\", \"legend\": {\"tracegroupgap\": 0}, \"paper_bgcolor\": \"rgba(0, 0, 0, 0)\", \"plot_bgcolor\": \"rgba(0, 0, 0, 0)\", \"template\": {\"data\": {\"bar\": [{\"error_x\": {\"color\": \"#2a3f5f\"}, \"error_y\": {\"color\": \"#2a3f5f\"}, \"marker\": {\"line\": {\"color\": \"#E5ECF6\", \"width\": 0.5}}, \"type\": \"bar\"}], \"barpolar\": [{\"marker\": {\"line\": {\"color\": \"#E5ECF6\", \"width\": 0.5}}, \"type\": \"barpolar\"}], \"carpet\": [{\"aaxis\": {\"endlinecolor\": \"#2a3f5f\", \"gridcolor\": \"white\", \"linecolor\": \"white\", \"minorgridcolor\": \"white\", \"startlinecolor\": \"#2a3f5f\"}, \"baxis\": {\"endlinecolor\": \"#2a3f5f\", \"gridcolor\": \"white\", \"linecolor\": \"white\", \"minorgridcolor\": \"white\", \"startlinecolor\": \"#2a3f5f\"}, \"type\": \"carpet\"}], \"choropleth\": [{\"colorbar\": {\"outlinewidth\": 0, \"ticks\": \"\"}, \"type\": \"choropleth\"}], \"contour\": [{\"colorbar\": {\"outlinewidth\": 0, \"ticks\": \"\"}, \"colorscale\": [[0.0, \"#0d0887\"], [0.1111111111111111, \"#46039f\"], [0.2222222222222222, \"#7201a8\"], [0.3333333333333333, \"#9c179e\"], [0.4444444444444444, \"#bd3786\"], [0.5555555555555556, \"#d8576b\"], [0.6666666666666666, \"#ed7953\"], [0.7777777777777778, \"#fb9f3a\"], [0.8888888888888888, \"#fdca26\"], [1.0, \"#f0f921\"]], \"type\": \"contour\"}], \"contourcarpet\": [{\"colorbar\": {\"outlinewidth\": 0, \"ticks\": \"\"}, \"type\": \"contourcarpet\"}], \"heatmap\": [{\"colorbar\": {\"outlinewidth\": 0, \"ticks\": \"\"}, \"colorscale\": [[0.0, \"#0d0887\"], [0.1111111111111111, \"#46039f\"], [0.2222222222222222, \"#7201a8\"], [0.3333333333333333, \"#9c179e\"], [0.4444444444444444, \"#bd3786\"], [0.5555555555555556, \"#d8576b\"], [0.6666666666666666, \"#ed7953\"], [0.7777777777777778, \"#fb9f3a\"], [0.8888888888888888, \"#fdca26\"], [1.0, \"#f0f921\"]], \"type\": \"heatmap\"}], \"heatmapgl\": [{\"colorbar\": {\"outlinewidth\": 0, \"ticks\": \"\"}, \"colorscale\": [[0.0, \"#0d0887\"], [0.1111111111111111, \"#46039f\"], [0.2222222222222222, \"#7201a8\"], [0.3333333333333333, \"#9c179e\"], [0.4444444444444444, \"#bd3786\"], [0.5555555555555556, \"#d8576b\"], [0.6666666666666666, \"#ed7953\"], [0.7777777777777778, \"#fb9f3a\"], [0.8888888888888888, \"#fdca26\"], [1.0, \"#f0f921\"]], \"type\": \"heatmapgl\"}], \"histogram\": [{\"marker\": {\"colorbar\": {\"outlinewidth\": 0, \"ticks\": \"\"}}, \"type\": \"histogram\"}], \"histogram2d\": [{\"colorbar\": {\"outlinewidth\": 0, \"ticks\": \"\"}, \"colorscale\": [[0.0, \"#0d0887\"], [0.1111111111111111, \"#46039f\"], [0.2222222222222222, \"#7201a8\"], [0.3333333333333333, \"#9c179e\"], [0.4444444444444444, \"#bd3786\"], [0.5555555555555556, \"#d8576b\"], [0.6666666666666666, \"#ed7953\"], [0.7777777777777778, \"#fb9f3a\"], [0.8888888888888888, \"#fdca26\"], [1.0, \"#f0f921\"]], \"type\": \"histogram2d\"}], \"histogram2dcontour\": [{\"colorbar\": {\"outlinewidth\": 0, \"ticks\": \"\"}, \"colorscale\": [[0.0, \"#0d0887\"], [0.1111111111111111, \"#46039f\"], [0.2222222222222222, \"#7201a8\"], [0.3333333333333333, \"#9c179e\"], [0.4444444444444444, \"#bd3786\"], [0.5555555555555556, \"#d8576b\"], [0.6666666666666666, \"#ed7953\"], [0.7777777777777778, \"#fb9f3a\"], [0.8888888888888888, \"#fdca26\"], [1.0, \"#f0f921\"]], \"type\": \"histogram2dcontour\"}], \"mesh3d\": [{\"colorbar\": {\"outlinewidth\": 0, \"ticks\": \"\"}, \"type\": \"mesh3d\"}], \"parcoords\": [{\"line\": {\"colorbar\": {\"outlinewidth\": 0, \"ticks\": \"\"}}, \"type\": \"parcoords\"}], \"pie\": [{\"automargin\": true, \"type\": \"pie\"}], \"scatter\": [{\"marker\": {\"colorbar\": {\"outlinewidth\": 0, \"ticks\": \"\"}}, \"type\": \"scatter\"}], \"scatter3d\": [{\"line\": {\"colorbar\": {\"outlinewidth\": 0, \"ticks\": \"\"}}, \"marker\": {\"colorbar\": {\"outlinewidth\": 0, \"ticks\": \"\"}}, \"type\": \"scatter3d\"}], \"scattercarpet\": [{\"marker\": {\"colorbar\": {\"outlinewidth\": 0, \"ticks\": \"\"}}, \"type\": \"scattercarpet\"}], \"scattergeo\": [{\"marker\": {\"colorbar\": {\"outlinewidth\": 0, \"ticks\": \"\"}}, \"type\": \"scattergeo\"}], \"scattergl\": [{\"marker\": {\"colorbar\": {\"outlinewidth\": 0, \"ticks\": \"\"}}, \"type\": \"scattergl\"}], \"scattermapbox\": [{\"marker\": {\"colorbar\": {\"outlinewidth\": 0, \"ticks\": \"\"}}, \"type\": \"scattermapbox\"}], \"scatterpolar\": [{\"marker\": {\"colorbar\": {\"outlinewidth\": 0, \"ticks\": \"\"}}, \"type\": \"scatterpolar\"}], \"scatterpolargl\": [{\"marker\": {\"colorbar\": {\"outlinewidth\": 0, \"ticks\": \"\"}}, \"type\": \"scatterpolargl\"}], \"scatterternary\": [{\"marker\": {\"colorbar\": {\"outlinewidth\": 0, \"ticks\": \"\"}}, \"type\": \"scatterternary\"}], \"surface\": [{\"colorbar\": {\"outlinewidth\": 0, \"ticks\": \"\"}, \"colorscale\": [[0.0, \"#0d0887\"], [0.1111111111111111, \"#46039f\"], [0.2222222222222222, \"#7201a8\"], [0.3333333333333333, \"#9c179e\"], [0.4444444444444444, \"#bd3786\"], [0.5555555555555556, \"#d8576b\"], [0.6666666666666666, \"#ed7953\"], [0.7777777777777778, \"#fb9f3a\"], [0.8888888888888888, \"#fdca26\"], [1.0, \"#f0f921\"]], \"type\": \"surface\"}], \"table\": [{\"cells\": {\"fill\": {\"color\": \"#EBF0F8\"}, \"line\": {\"color\": \"white\"}}, \"header\": {\"fill\": {\"color\": \"#C8D4E3\"}, \"line\": {\"color\": \"white\"}}, \"type\": \"table\"}]}, \"layout\": {\"annotationdefaults\": {\"arrowcolor\": \"#2a3f5f\", \"arrowhead\": 0, \"arrowwidth\": 1}, \"coloraxis\": {\"colorbar\": {\"outlinewidth\": 0, \"ticks\": \"\"}}, \"colorscale\": {\"diverging\": [[0, \"#8e0152\"], [0.1, \"#c51b7d\"], [0.2, \"#de77ae\"], [0.3, \"#f1b6da\"], [0.4, \"#fde0ef\"], [0.5, \"#f7f7f7\"], [0.6, \"#e6f5d0\"], [0.7, \"#b8e186\"], [0.8, \"#7fbc41\"], [0.9, \"#4d9221\"], [1, \"#276419\"]], \"sequential\": [[0.0, \"#0d0887\"], [0.1111111111111111, \"#46039f\"], [0.2222222222222222, \"#7201a8\"], [0.3333333333333333, \"#9c179e\"], [0.4444444444444444, \"#bd3786\"], [0.5555555555555556, \"#d8576b\"], [0.6666666666666666, \"#ed7953\"], [0.7777777777777778, \"#fb9f3a\"], [0.8888888888888888, \"#fdca26\"], [1.0, \"#f0f921\"]], \"sequentialminus\": [[0.0, \"#0d0887\"], [0.1111111111111111, \"#46039f\"], [0.2222222222222222, \"#7201a8\"], [0.3333333333333333, \"#9c179e\"], [0.4444444444444444, \"#bd3786\"], [0.5555555555555556, \"#d8576b\"], [0.6666666666666666, \"#ed7953\"], [0.7777777777777778, \"#fb9f3a\"], [0.8888888888888888, \"#fdca26\"], [1.0, \"#f0f921\"]]}, \"colorway\": [\"#636efa\", \"#EF553B\", \"#00cc96\", \"#ab63fa\", \"#FFA15A\", \"#19d3f3\", \"#FF6692\", \"#B6E880\", \"#FF97FF\", \"#FECB52\"], \"font\": {\"color\": \"#2a3f5f\"}, \"geo\": {\"bgcolor\": \"white\", \"lakecolor\": \"white\", \"landcolor\": \"#E5ECF6\", \"showlakes\": true, \"showland\": true, \"subunitcolor\": \"white\"}, \"hoverlabel\": {\"align\": \"left\"}, \"hovermode\": \"closest\", \"mapbox\": {\"style\": \"light\"}, \"paper_bgcolor\": \"white\", \"plot_bgcolor\": \"#E5ECF6\", \"polar\": {\"angularaxis\": {\"gridcolor\": \"white\", \"linecolor\": \"white\", \"ticks\": \"\"}, \"bgcolor\": \"#E5ECF6\", \"radialaxis\": {\"gridcolor\": \"white\", \"linecolor\": \"white\", \"ticks\": \"\"}}, \"scene\": {\"xaxis\": {\"backgroundcolor\": \"#E5ECF6\", \"gridcolor\": \"white\", \"gridwidth\": 2, \"linecolor\": \"white\", \"showbackground\": true, \"ticks\": \"\", \"zerolinecolor\": \"white\"}, \"yaxis\": {\"backgroundcolor\": \"#E5ECF6\", \"gridcolor\": \"white\", \"gridwidth\": 2, \"linecolor\": \"white\", \"showbackground\": true, \"ticks\": \"\", \"zerolinecolor\": \"white\"}, \"zaxis\": {\"backgroundcolor\": \"#E5ECF6\", \"gridcolor\": \"white\", \"gridwidth\": 2, \"linecolor\": \"white\", \"showbackground\": true, \"ticks\": \"\", \"zerolinecolor\": \"white\"}}, \"shapedefaults\": {\"line\": {\"color\": \"#2a3f5f\"}}, \"ternary\": {\"aaxis\": {\"gridcolor\": \"white\", \"linecolor\": \"white\", \"ticks\": \"\"}, \"baxis\": {\"gridcolor\": \"white\", \"linecolor\": \"white\", \"ticks\": \"\"}, \"bgcolor\": \"#E5ECF6\", \"caxis\": {\"gridcolor\": \"white\", \"linecolor\": \"white\", \"ticks\": \"\"}}, \"title\": {\"x\": 0.05}, \"xaxis\": {\"automargin\": true, \"gridcolor\": \"white\", \"linecolor\": \"white\", \"ticks\": \"\", \"title\": {\"standoff\": 15}, \"zerolinecolor\": \"white\", \"zerolinewidth\": 2}, \"yaxis\": {\"automargin\": true, \"gridcolor\": \"white\", \"linecolor\": \"white\", \"ticks\": \"\", \"title\": {\"standoff\": 15}, \"zerolinecolor\": \"white\", \"zerolinewidth\": 2}}}, \"title\": {\"text\": \"Age Distribution\"}, \"xaxis\": {\"anchor\": \"y\", \"categoryorder\": \"category ascending\", \"domain\": [0.0, 1.0], \"title\": {\"text\": \"age\"}}, \"yaxis\": {\"anchor\": \"x\", \"domain\": [0.0, 1.0], \"title\": {\"text\": \"count\"}}},                        {\"responsive\": true}                    ).then(function(){\n",
       "                            \n",
       "var gd = document.getElementById('42921e62-498b-40be-b54f-4e11e9d5e06d');\n",
       "var x = new MutationObserver(function (mutations, observer) {{\n",
       "        var display = window.getComputedStyle(gd).display;\n",
       "        if (!display || display === 'none') {{\n",
       "            console.log([gd, 'removed!']);\n",
       "            Plotly.purge(gd);\n",
       "            observer.disconnect();\n",
       "        }}\n",
       "}});\n",
       "\n",
       "// Listen for the removal of the full notebook cells\n",
       "var notebookContainer = gd.closest('#notebook-container');\n",
       "if (notebookContainer) {{\n",
       "    x.observe(notebookContainer, {childList: true});\n",
       "}}\n",
       "\n",
       "// Listen for the clearing of the current output cell\n",
       "var outputEl = gd.closest('.output');\n",
       "if (outputEl) {{\n",
       "    x.observe(outputEl, {childList: true});\n",
       "}}\n",
       "\n",
       "                        })                };                });            </script>        </div>"
      ]
     },
     "metadata": {},
     "output_type": "display_data"
    }
   ],
   "source": [
    "fig = px.histogram(df, x=\"cats\", title=\"Age Distribution\",color_discrete_sequence=['purple'], labels={'cats':'age'})\n",
    "fig.update_layout(barmode='stack', xaxis={'categoryorder':'category ascending'})\n",
    "fig.update_layout({\n",
    "'plot_bgcolor': 'rgba(0, 0, 0, 0)',\n",
    "'paper_bgcolor': 'rgba(0, 0, 0, 0)',\n",
    "})\n",
    "fig.show()"
   ]
  },
  {
   "cell_type": "code",
   "execution_count": 63,
   "metadata": {},
   "outputs": [
    {
     "data": {
      "application/vnd.plotly.v1+json": {
       "config": {
        "plotlyServerURL": "https://plot.ly"
       },
       "data": [
        {
         "alignmentgroup": "True",
         "bingroup": "x",
         "hovertemplate": "avg_age=%{x}<br>count=%{y}<extra></extra>",
         "legendgroup": "",
         "marker": {
          "color": "teal"
         },
         "name": "",
         "nbinsx": 6,
         "offsetgroup": "",
         "orientation": "v",
         "showlegend": false,
         "type": "histogram",
         "x": [
          6.5,
          6.5,
          6.5,
          6.5,
          6.5,
          6.5,
          6.5,
          6.5,
          6.5,
          6.5,
          6.5,
          6.5,
          6.5,
          6.5,
          6.5,
          6.5,
          6.5,
          6.5,
          6.5,
          6.5,
          2,
          2.5,
          1,
          2.5,
          1.5,
          1.5,
          1,
          2.5,
          5.5,
          1.5,
          9,
          3.5,
          3,
          3.5,
          5,
          1.5,
          2.5,
          5.5,
          5,
          5,
          6,
          2,
          1.5,
          6,
          4.5,
          9,
          7,
          3,
          6,
          5,
          6,
          4.5,
          3,
          2,
          1.5,
          5.5,
          5,
          5,
          1.5,
          5.5,
          6,
          2.5,
          9,
          4.5,
          5.5,
          2,
          2.5,
          2,
          9,
          9,
          6.5,
          1.5,
          9,
          2.5,
          4.5,
          2.5,
          9,
          2,
          3.5,
          1.5,
          2,
          9,
          2,
          2.5,
          2.5,
          9,
          6,
          2,
          5,
          2,
          5.5,
          2,
          2.5,
          2,
          9,
          4.5,
          2.5,
          5.5,
          1.5,
          4,
          4.5,
          5,
          2,
          5,
          2,
          1.5,
          2.5,
          4.5,
          4.5,
          6,
          2,
          2,
          1.5,
          3.5,
          5,
          9,
          2,
          5,
          3.5,
          5.5,
          3,
          6,
          9,
          2.5,
          7.5,
          9,
          9,
          7.5,
          9,
          9,
          9,
          4.5,
          9,
          9,
          9,
          9,
          9,
          9.5,
          9,
          4,
          9,
          9,
          7,
          9,
          9,
          9,
          6,
          9,
          9,
          9,
          9,
          9,
          9,
          9,
          9,
          9,
          9,
          9,
          9,
          9,
          9,
          9,
          6.5,
          9,
          9,
          6.5,
          9,
          9,
          6.5,
          9,
          9,
          9,
          9,
          9,
          9,
          8,
          8,
          9,
          9,
          9,
          9,
          9,
          6.5,
          6.5,
          9,
          9,
          9,
          9,
          9,
          9,
          9,
          9,
          3,
          9,
          9,
          9,
          9,
          9,
          8,
          9,
          9,
          9,
          9,
          9,
          7,
          9,
          9,
          9,
          9,
          9,
          9,
          9,
          10,
          11.5,
          14,
          12,
          12,
          13,
          14,
          9,
          9.5,
          10,
          11.5,
          9,
          9,
          9,
          9,
          11.5,
          9,
          9,
          9,
          9,
          9,
          9,
          9,
          9,
          9,
          9,
          9,
          9,
          9,
          9,
          9,
          9,
          9,
          11.5,
          9,
          9,
          9,
          9,
          9,
          9,
          12.5,
          9,
          11.5,
          9,
          12.5,
          9,
          9,
          9,
          9,
          9,
          9,
          9,
          9,
          9,
          9,
          9,
          9,
          9,
          9,
          9,
          9,
          9,
          9,
          9,
          9.5,
          9,
          9,
          9,
          9,
          9,
          9,
          9,
          10.5,
          9,
          9,
          9,
          9,
          9,
          9,
          9,
          9,
          9,
          16,
          14.5,
          9,
          14.5,
          14.5,
          9,
          9,
          9,
          9,
          9,
          9,
          9,
          9,
          9,
          9,
          9,
          9,
          9,
          9,
          9,
          9,
          9,
          9,
          9,
          9,
          9,
          9,
          9,
          9,
          9,
          9,
          9,
          9,
          9,
          9,
          9,
          9,
          9,
          9,
          9,
          9,
          9,
          9,
          9,
          9,
          9,
          9,
          9,
          9,
          9,
          9,
          9,
          9,
          9,
          9,
          9,
          9,
          9,
          9,
          9,
          9,
          9,
          15.5,
          9,
          9,
          9,
          9,
          15.5,
          9,
          9,
          9,
          9,
          9,
          9,
          9,
          9,
          9,
          9,
          18,
          9,
          9,
          9,
          9,
          9,
          9,
          9,
          9,
          9,
          9,
          9,
          9,
          9,
          9,
          9,
          9,
          9,
          17,
          9,
          9,
          9,
          15,
          14,
          9,
          14,
          13.5,
          9,
          9,
          9,
          9,
          9,
          9,
          9,
          9,
          9,
          9,
          9,
          9,
          9,
          9,
          9,
          9,
          9,
          9,
          18.5,
          9,
          9,
          9,
          9,
          9,
          12.5,
          9,
          9,
          9,
          15,
          9,
          12.5
         ],
         "xaxis": "x",
         "yaxis": "y"
        }
       ],
       "layout": {
        "barmode": "stack",
        "legend": {
         "tracegroupgap": 0
        },
        "paper_bgcolor": "rgba(0, 0, 0, 0)",
        "plot_bgcolor": "rgba(0, 0, 0, 0)",
        "template": {
         "data": {
          "bar": [
           {
            "error_x": {
             "color": "#2a3f5f"
            },
            "error_y": {
             "color": "#2a3f5f"
            },
            "marker": {
             "line": {
              "color": "#E5ECF6",
              "width": 0.5
             }
            },
            "type": "bar"
           }
          ],
          "barpolar": [
           {
            "marker": {
             "line": {
              "color": "#E5ECF6",
              "width": 0.5
             }
            },
            "type": "barpolar"
           }
          ],
          "carpet": [
           {
            "aaxis": {
             "endlinecolor": "#2a3f5f",
             "gridcolor": "white",
             "linecolor": "white",
             "minorgridcolor": "white",
             "startlinecolor": "#2a3f5f"
            },
            "baxis": {
             "endlinecolor": "#2a3f5f",
             "gridcolor": "white",
             "linecolor": "white",
             "minorgridcolor": "white",
             "startlinecolor": "#2a3f5f"
            },
            "type": "carpet"
           }
          ],
          "choropleth": [
           {
            "colorbar": {
             "outlinewidth": 0,
             "ticks": ""
            },
            "type": "choropleth"
           }
          ],
          "contour": [
           {
            "colorbar": {
             "outlinewidth": 0,
             "ticks": ""
            },
            "colorscale": [
             [
              0,
              "#0d0887"
             ],
             [
              0.1111111111111111,
              "#46039f"
             ],
             [
              0.2222222222222222,
              "#7201a8"
             ],
             [
              0.3333333333333333,
              "#9c179e"
             ],
             [
              0.4444444444444444,
              "#bd3786"
             ],
             [
              0.5555555555555556,
              "#d8576b"
             ],
             [
              0.6666666666666666,
              "#ed7953"
             ],
             [
              0.7777777777777778,
              "#fb9f3a"
             ],
             [
              0.8888888888888888,
              "#fdca26"
             ],
             [
              1,
              "#f0f921"
             ]
            ],
            "type": "contour"
           }
          ],
          "contourcarpet": [
           {
            "colorbar": {
             "outlinewidth": 0,
             "ticks": ""
            },
            "type": "contourcarpet"
           }
          ],
          "heatmap": [
           {
            "colorbar": {
             "outlinewidth": 0,
             "ticks": ""
            },
            "colorscale": [
             [
              0,
              "#0d0887"
             ],
             [
              0.1111111111111111,
              "#46039f"
             ],
             [
              0.2222222222222222,
              "#7201a8"
             ],
             [
              0.3333333333333333,
              "#9c179e"
             ],
             [
              0.4444444444444444,
              "#bd3786"
             ],
             [
              0.5555555555555556,
              "#d8576b"
             ],
             [
              0.6666666666666666,
              "#ed7953"
             ],
             [
              0.7777777777777778,
              "#fb9f3a"
             ],
             [
              0.8888888888888888,
              "#fdca26"
             ],
             [
              1,
              "#f0f921"
             ]
            ],
            "type": "heatmap"
           }
          ],
          "heatmapgl": [
           {
            "colorbar": {
             "outlinewidth": 0,
             "ticks": ""
            },
            "colorscale": [
             [
              0,
              "#0d0887"
             ],
             [
              0.1111111111111111,
              "#46039f"
             ],
             [
              0.2222222222222222,
              "#7201a8"
             ],
             [
              0.3333333333333333,
              "#9c179e"
             ],
             [
              0.4444444444444444,
              "#bd3786"
             ],
             [
              0.5555555555555556,
              "#d8576b"
             ],
             [
              0.6666666666666666,
              "#ed7953"
             ],
             [
              0.7777777777777778,
              "#fb9f3a"
             ],
             [
              0.8888888888888888,
              "#fdca26"
             ],
             [
              1,
              "#f0f921"
             ]
            ],
            "type": "heatmapgl"
           }
          ],
          "histogram": [
           {
            "marker": {
             "colorbar": {
              "outlinewidth": 0,
              "ticks": ""
             }
            },
            "type": "histogram"
           }
          ],
          "histogram2d": [
           {
            "colorbar": {
             "outlinewidth": 0,
             "ticks": ""
            },
            "colorscale": [
             [
              0,
              "#0d0887"
             ],
             [
              0.1111111111111111,
              "#46039f"
             ],
             [
              0.2222222222222222,
              "#7201a8"
             ],
             [
              0.3333333333333333,
              "#9c179e"
             ],
             [
              0.4444444444444444,
              "#bd3786"
             ],
             [
              0.5555555555555556,
              "#d8576b"
             ],
             [
              0.6666666666666666,
              "#ed7953"
             ],
             [
              0.7777777777777778,
              "#fb9f3a"
             ],
             [
              0.8888888888888888,
              "#fdca26"
             ],
             [
              1,
              "#f0f921"
             ]
            ],
            "type": "histogram2d"
           }
          ],
          "histogram2dcontour": [
           {
            "colorbar": {
             "outlinewidth": 0,
             "ticks": ""
            },
            "colorscale": [
             [
              0,
              "#0d0887"
             ],
             [
              0.1111111111111111,
              "#46039f"
             ],
             [
              0.2222222222222222,
              "#7201a8"
             ],
             [
              0.3333333333333333,
              "#9c179e"
             ],
             [
              0.4444444444444444,
              "#bd3786"
             ],
             [
              0.5555555555555556,
              "#d8576b"
             ],
             [
              0.6666666666666666,
              "#ed7953"
             ],
             [
              0.7777777777777778,
              "#fb9f3a"
             ],
             [
              0.8888888888888888,
              "#fdca26"
             ],
             [
              1,
              "#f0f921"
             ]
            ],
            "type": "histogram2dcontour"
           }
          ],
          "mesh3d": [
           {
            "colorbar": {
             "outlinewidth": 0,
             "ticks": ""
            },
            "type": "mesh3d"
           }
          ],
          "parcoords": [
           {
            "line": {
             "colorbar": {
              "outlinewidth": 0,
              "ticks": ""
             }
            },
            "type": "parcoords"
           }
          ],
          "pie": [
           {
            "automargin": true,
            "type": "pie"
           }
          ],
          "scatter": [
           {
            "marker": {
             "colorbar": {
              "outlinewidth": 0,
              "ticks": ""
             }
            },
            "type": "scatter"
           }
          ],
          "scatter3d": [
           {
            "line": {
             "colorbar": {
              "outlinewidth": 0,
              "ticks": ""
             }
            },
            "marker": {
             "colorbar": {
              "outlinewidth": 0,
              "ticks": ""
             }
            },
            "type": "scatter3d"
           }
          ],
          "scattercarpet": [
           {
            "marker": {
             "colorbar": {
              "outlinewidth": 0,
              "ticks": ""
             }
            },
            "type": "scattercarpet"
           }
          ],
          "scattergeo": [
           {
            "marker": {
             "colorbar": {
              "outlinewidth": 0,
              "ticks": ""
             }
            },
            "type": "scattergeo"
           }
          ],
          "scattergl": [
           {
            "marker": {
             "colorbar": {
              "outlinewidth": 0,
              "ticks": ""
             }
            },
            "type": "scattergl"
           }
          ],
          "scattermapbox": [
           {
            "marker": {
             "colorbar": {
              "outlinewidth": 0,
              "ticks": ""
             }
            },
            "type": "scattermapbox"
           }
          ],
          "scatterpolar": [
           {
            "marker": {
             "colorbar": {
              "outlinewidth": 0,
              "ticks": ""
             }
            },
            "type": "scatterpolar"
           }
          ],
          "scatterpolargl": [
           {
            "marker": {
             "colorbar": {
              "outlinewidth": 0,
              "ticks": ""
             }
            },
            "type": "scatterpolargl"
           }
          ],
          "scatterternary": [
           {
            "marker": {
             "colorbar": {
              "outlinewidth": 0,
              "ticks": ""
             }
            },
            "type": "scatterternary"
           }
          ],
          "surface": [
           {
            "colorbar": {
             "outlinewidth": 0,
             "ticks": ""
            },
            "colorscale": [
             [
              0,
              "#0d0887"
             ],
             [
              0.1111111111111111,
              "#46039f"
             ],
             [
              0.2222222222222222,
              "#7201a8"
             ],
             [
              0.3333333333333333,
              "#9c179e"
             ],
             [
              0.4444444444444444,
              "#bd3786"
             ],
             [
              0.5555555555555556,
              "#d8576b"
             ],
             [
              0.6666666666666666,
              "#ed7953"
             ],
             [
              0.7777777777777778,
              "#fb9f3a"
             ],
             [
              0.8888888888888888,
              "#fdca26"
             ],
             [
              1,
              "#f0f921"
             ]
            ],
            "type": "surface"
           }
          ],
          "table": [
           {
            "cells": {
             "fill": {
              "color": "#EBF0F8"
             },
             "line": {
              "color": "white"
             }
            },
            "header": {
             "fill": {
              "color": "#C8D4E3"
             },
             "line": {
              "color": "white"
             }
            },
            "type": "table"
           }
          ]
         },
         "layout": {
          "annotationdefaults": {
           "arrowcolor": "#2a3f5f",
           "arrowhead": 0,
           "arrowwidth": 1
          },
          "coloraxis": {
           "colorbar": {
            "outlinewidth": 0,
            "ticks": ""
           }
          },
          "colorscale": {
           "diverging": [
            [
             0,
             "#8e0152"
            ],
            [
             0.1,
             "#c51b7d"
            ],
            [
             0.2,
             "#de77ae"
            ],
            [
             0.3,
             "#f1b6da"
            ],
            [
             0.4,
             "#fde0ef"
            ],
            [
             0.5,
             "#f7f7f7"
            ],
            [
             0.6,
             "#e6f5d0"
            ],
            [
             0.7,
             "#b8e186"
            ],
            [
             0.8,
             "#7fbc41"
            ],
            [
             0.9,
             "#4d9221"
            ],
            [
             1,
             "#276419"
            ]
           ],
           "sequential": [
            [
             0,
             "#0d0887"
            ],
            [
             0.1111111111111111,
             "#46039f"
            ],
            [
             0.2222222222222222,
             "#7201a8"
            ],
            [
             0.3333333333333333,
             "#9c179e"
            ],
            [
             0.4444444444444444,
             "#bd3786"
            ],
            [
             0.5555555555555556,
             "#d8576b"
            ],
            [
             0.6666666666666666,
             "#ed7953"
            ],
            [
             0.7777777777777778,
             "#fb9f3a"
            ],
            [
             0.8888888888888888,
             "#fdca26"
            ],
            [
             1,
             "#f0f921"
            ]
           ],
           "sequentialminus": [
            [
             0,
             "#0d0887"
            ],
            [
             0.1111111111111111,
             "#46039f"
            ],
            [
             0.2222222222222222,
             "#7201a8"
            ],
            [
             0.3333333333333333,
             "#9c179e"
            ],
            [
             0.4444444444444444,
             "#bd3786"
            ],
            [
             0.5555555555555556,
             "#d8576b"
            ],
            [
             0.6666666666666666,
             "#ed7953"
            ],
            [
             0.7777777777777778,
             "#fb9f3a"
            ],
            [
             0.8888888888888888,
             "#fdca26"
            ],
            [
             1,
             "#f0f921"
            ]
           ]
          },
          "colorway": [
           "#636efa",
           "#EF553B",
           "#00cc96",
           "#ab63fa",
           "#FFA15A",
           "#19d3f3",
           "#FF6692",
           "#B6E880",
           "#FF97FF",
           "#FECB52"
          ],
          "font": {
           "color": "#2a3f5f"
          },
          "geo": {
           "bgcolor": "white",
           "lakecolor": "white",
           "landcolor": "#E5ECF6",
           "showlakes": true,
           "showland": true,
           "subunitcolor": "white"
          },
          "hoverlabel": {
           "align": "left"
          },
          "hovermode": "closest",
          "mapbox": {
           "style": "light"
          },
          "paper_bgcolor": "white",
          "plot_bgcolor": "#E5ECF6",
          "polar": {
           "angularaxis": {
            "gridcolor": "white",
            "linecolor": "white",
            "ticks": ""
           },
           "bgcolor": "#E5ECF6",
           "radialaxis": {
            "gridcolor": "white",
            "linecolor": "white",
            "ticks": ""
           }
          },
          "scene": {
           "xaxis": {
            "backgroundcolor": "#E5ECF6",
            "gridcolor": "white",
            "gridwidth": 2,
            "linecolor": "white",
            "showbackground": true,
            "ticks": "",
            "zerolinecolor": "white"
           },
           "yaxis": {
            "backgroundcolor": "#E5ECF6",
            "gridcolor": "white",
            "gridwidth": 2,
            "linecolor": "white",
            "showbackground": true,
            "ticks": "",
            "zerolinecolor": "white"
           },
           "zaxis": {
            "backgroundcolor": "#E5ECF6",
            "gridcolor": "white",
            "gridwidth": 2,
            "linecolor": "white",
            "showbackground": true,
            "ticks": "",
            "zerolinecolor": "white"
           }
          },
          "shapedefaults": {
           "line": {
            "color": "#2a3f5f"
           }
          },
          "ternary": {
           "aaxis": {
            "gridcolor": "white",
            "linecolor": "white",
            "ticks": ""
           },
           "baxis": {
            "gridcolor": "white",
            "linecolor": "white",
            "ticks": ""
           },
           "bgcolor": "#E5ECF6",
           "caxis": {
            "gridcolor": "white",
            "linecolor": "white",
            "ticks": ""
           }
          },
          "title": {
           "x": 0.05
          },
          "xaxis": {
           "automargin": true,
           "gridcolor": "white",
           "linecolor": "white",
           "ticks": "",
           "title": {
            "standoff": 15
           },
           "zerolinecolor": "white",
           "zerolinewidth": 2
          },
          "yaxis": {
           "automargin": true,
           "gridcolor": "white",
           "linecolor": "white",
           "ticks": "",
           "title": {
            "standoff": 15
           },
           "zerolinecolor": "white",
           "zerolinewidth": 2
          }
         }
        },
        "title": {
         "text": "Average Age Distribution"
        },
        "xaxis": {
         "anchor": "y",
         "categoryorder": "category ascending",
         "domain": [
          0,
          1
         ],
         "title": {
          "text": "avg_age"
         }
        },
        "yaxis": {
         "anchor": "x",
         "domain": [
          0,
          1
         ],
         "title": {
          "text": "count"
         }
        }
       }
      },
      "text/html": [
       "<div>                            <div id=\"0f181239-c46f-47de-8d7a-2aeb53b96217\" class=\"plotly-graph-div\" style=\"height:525px; width:100%;\"></div>            <script type=\"text/javascript\">                require([\"plotly\"], function(Plotly) {                    window.PLOTLYENV=window.PLOTLYENV || {};                                    if (document.getElementById(\"0f181239-c46f-47de-8d7a-2aeb53b96217\")) {                    Plotly.newPlot(                        \"0f181239-c46f-47de-8d7a-2aeb53b96217\",                        [{\"alignmentgroup\": \"True\", \"bingroup\": \"x\", \"hovertemplate\": \"avg_age=%{x}<br>count=%{y}<extra></extra>\", \"legendgroup\": \"\", \"marker\": {\"color\": \"teal\"}, \"name\": \"\", \"nbinsx\": 6, \"offsetgroup\": \"\", \"orientation\": \"v\", \"showlegend\": false, \"type\": \"histogram\", \"x\": [6.5, 6.5, 6.5, 6.5, 6.5, 6.5, 6.5, 6.5, 6.5, 6.5, 6.5, 6.5, 6.5, 6.5, 6.5, 6.5, 6.5, 6.5, 6.5, 6.5, 2.0, 2.5, 1.0, 2.5, 1.5, 1.5, 1.0, 2.5, 5.5, 1.5, 9.0, 3.5, 3.0, 3.5, 5.0, 1.5, 2.5, 5.5, 5.0, 5.0, 6.0, 2.0, 1.5, 6.0, 4.5, 9.0, 7.0, 3.0, 6.0, 5.0, 6.0, 4.5, 3.0, 2.0, 1.5, 5.5, 5.0, 5.0, 1.5, 5.5, 6.0, 2.5, 9.0, 4.5, 5.5, 2.0, 2.5, 2.0, 9.0, 9.0, 6.5, 1.5, 9.0, 2.5, 4.5, 2.5, 9.0, 2.0, 3.5, 1.5, 2.0, 9.0, 2.0, 2.5, 2.5, 9.0, 6.0, 2.0, 5.0, 2.0, 5.5, 2.0, 2.5, 2.0, 9.0, 4.5, 2.5, 5.5, 1.5, 4.0, 4.5, 5.0, 2.0, 5.0, 2.0, 1.5, 2.5, 4.5, 4.5, 6.0, 2.0, 2.0, 1.5, 3.5, 5.0, 9.0, 2.0, 5.0, 3.5, 5.5, 3.0, 6.0, 9.0, 2.5, 7.5, 9.0, 9.0, 7.5, 9.0, 9.0, 9.0, 4.5, 9.0, 9.0, 9.0, 9.0, 9.0, 9.5, 9.0, 4.0, 9.0, 9.0, 7.0, 9.0, 9.0, 9.0, 6.0, 9.0, 9.0, 9.0, 9.0, 9.0, 9.0, 9.0, 9.0, 9.0, 9.0, 9.0, 9.0, 9.0, 9.0, 9.0, 6.5, 9.0, 9.0, 6.5, 9.0, 9.0, 6.5, 9.0, 9.0, 9.0, 9.0, 9.0, 9.0, 8.0, 8.0, 9.0, 9.0, 9.0, 9.0, 9.0, 6.5, 6.5, 9.0, 9.0, 9.0, 9.0, 9.0, 9.0, 9.0, 9.0, 3.0, 9.0, 9.0, 9.0, 9.0, 9.0, 8.0, 9.0, 9.0, 9.0, 9.0, 9.0, 7.0, 9.0, 9.0, 9.0, 9.0, 9.0, 9.0, 9.0, 10.0, 11.5, 14.0, 12.0, 12.0, 13.0, 14.0, 9.0, 9.5, 10.0, 11.5, 9.0, 9.0, 9.0, 9.0, 11.5, 9.0, 9.0, 9.0, 9.0, 9.0, 9.0, 9.0, 9.0, 9.0, 9.0, 9.0, 9.0, 9.0, 9.0, 9.0, 9.0, 9.0, 11.5, 9.0, 9.0, 9.0, 9.0, 9.0, 9.0, 12.5, 9.0, 11.5, 9.0, 12.5, 9.0, 9.0, 9.0, 9.0, 9.0, 9.0, 9.0, 9.0, 9.0, 9.0, 9.0, 9.0, 9.0, 9.0, 9.0, 9.0, 9.0, 9.0, 9.0, 9.5, 9.0, 9.0, 9.0, 9.0, 9.0, 9.0, 9.0, 10.5, 9.0, 9.0, 9.0, 9.0, 9.0, 9.0, 9.0, 9.0, 9.0, 16.0, 14.5, 9.0, 14.5, 14.5, 9.0, 9.0, 9.0, 9.0, 9.0, 9.0, 9.0, 9.0, 9.0, 9.0, 9.0, 9.0, 9.0, 9.0, 9.0, 9.0, 9.0, 9.0, 9.0, 9.0, 9.0, 9.0, 9.0, 9.0, 9.0, 9.0, 9.0, 9.0, 9.0, 9.0, 9.0, 9.0, 9.0, 9.0, 9.0, 9.0, 9.0, 9.0, 9.0, 9.0, 9.0, 9.0, 9.0, 9.0, 9.0, 9.0, 9.0, 9.0, 9.0, 9.0, 9.0, 9.0, 9.0, 9.0, 9.0, 9.0, 9.0, 15.5, 9.0, 9.0, 9.0, 9.0, 15.5, 9.0, 9.0, 9.0, 9.0, 9.0, 9.0, 9.0, 9.0, 9.0, 9.0, 18.0, 9.0, 9.0, 9.0, 9.0, 9.0, 9.0, 9.0, 9.0, 9.0, 9.0, 9.0, 9.0, 9.0, 9.0, 9.0, 9.0, 9.0, 17.0, 9.0, 9.0, 9.0, 15.0, 14.0, 9.0, 14.0, 13.5, 9.0, 9.0, 9.0, 9.0, 9.0, 9.0, 9.0, 9.0, 9.0, 9.0, 9.0, 9.0, 9.0, 9.0, 9.0, 9.0, 9.0, 9.0, 18.5, 9.0, 9.0, 9.0, 9.0, 9.0, 12.5, 9.0, 9.0, 9.0, 15.0, 9.0, 12.5], \"xaxis\": \"x\", \"yaxis\": \"y\"}],                        {\"barmode\": \"stack\", \"legend\": {\"tracegroupgap\": 0}, \"paper_bgcolor\": \"rgba(0, 0, 0, 0)\", \"plot_bgcolor\": \"rgba(0, 0, 0, 0)\", \"template\": {\"data\": {\"bar\": [{\"error_x\": {\"color\": \"#2a3f5f\"}, \"error_y\": {\"color\": \"#2a3f5f\"}, \"marker\": {\"line\": {\"color\": \"#E5ECF6\", \"width\": 0.5}}, \"type\": \"bar\"}], \"barpolar\": [{\"marker\": {\"line\": {\"color\": \"#E5ECF6\", \"width\": 0.5}}, \"type\": \"barpolar\"}], \"carpet\": [{\"aaxis\": {\"endlinecolor\": \"#2a3f5f\", \"gridcolor\": \"white\", \"linecolor\": \"white\", \"minorgridcolor\": \"white\", \"startlinecolor\": \"#2a3f5f\"}, \"baxis\": {\"endlinecolor\": \"#2a3f5f\", \"gridcolor\": \"white\", \"linecolor\": \"white\", \"minorgridcolor\": \"white\", \"startlinecolor\": \"#2a3f5f\"}, \"type\": \"carpet\"}], \"choropleth\": [{\"colorbar\": {\"outlinewidth\": 0, \"ticks\": \"\"}, \"type\": \"choropleth\"}], \"contour\": [{\"colorbar\": {\"outlinewidth\": 0, \"ticks\": \"\"}, \"colorscale\": [[0.0, \"#0d0887\"], [0.1111111111111111, \"#46039f\"], [0.2222222222222222, \"#7201a8\"], [0.3333333333333333, \"#9c179e\"], [0.4444444444444444, \"#bd3786\"], [0.5555555555555556, \"#d8576b\"], [0.6666666666666666, \"#ed7953\"], [0.7777777777777778, \"#fb9f3a\"], [0.8888888888888888, \"#fdca26\"], [1.0, \"#f0f921\"]], \"type\": \"contour\"}], \"contourcarpet\": [{\"colorbar\": {\"outlinewidth\": 0, \"ticks\": \"\"}, \"type\": \"contourcarpet\"}], \"heatmap\": [{\"colorbar\": {\"outlinewidth\": 0, \"ticks\": \"\"}, \"colorscale\": [[0.0, \"#0d0887\"], [0.1111111111111111, \"#46039f\"], [0.2222222222222222, \"#7201a8\"], [0.3333333333333333, \"#9c179e\"], [0.4444444444444444, \"#bd3786\"], [0.5555555555555556, \"#d8576b\"], [0.6666666666666666, \"#ed7953\"], [0.7777777777777778, \"#fb9f3a\"], [0.8888888888888888, \"#fdca26\"], [1.0, \"#f0f921\"]], \"type\": \"heatmap\"}], \"heatmapgl\": [{\"colorbar\": {\"outlinewidth\": 0, \"ticks\": \"\"}, \"colorscale\": [[0.0, \"#0d0887\"], [0.1111111111111111, \"#46039f\"], [0.2222222222222222, \"#7201a8\"], [0.3333333333333333, \"#9c179e\"], [0.4444444444444444, \"#bd3786\"], [0.5555555555555556, \"#d8576b\"], [0.6666666666666666, \"#ed7953\"], [0.7777777777777778, \"#fb9f3a\"], [0.8888888888888888, \"#fdca26\"], [1.0, \"#f0f921\"]], \"type\": \"heatmapgl\"}], \"histogram\": [{\"marker\": {\"colorbar\": {\"outlinewidth\": 0, \"ticks\": \"\"}}, \"type\": \"histogram\"}], \"histogram2d\": [{\"colorbar\": {\"outlinewidth\": 0, \"ticks\": \"\"}, \"colorscale\": [[0.0, \"#0d0887\"], [0.1111111111111111, \"#46039f\"], [0.2222222222222222, \"#7201a8\"], [0.3333333333333333, \"#9c179e\"], [0.4444444444444444, \"#bd3786\"], [0.5555555555555556, \"#d8576b\"], [0.6666666666666666, \"#ed7953\"], [0.7777777777777778, \"#fb9f3a\"], [0.8888888888888888, \"#fdca26\"], [1.0, \"#f0f921\"]], \"type\": \"histogram2d\"}], \"histogram2dcontour\": [{\"colorbar\": {\"outlinewidth\": 0, \"ticks\": \"\"}, \"colorscale\": [[0.0, \"#0d0887\"], [0.1111111111111111, \"#46039f\"], [0.2222222222222222, \"#7201a8\"], [0.3333333333333333, \"#9c179e\"], [0.4444444444444444, \"#bd3786\"], [0.5555555555555556, \"#d8576b\"], [0.6666666666666666, \"#ed7953\"], [0.7777777777777778, \"#fb9f3a\"], [0.8888888888888888, \"#fdca26\"], [1.0, \"#f0f921\"]], \"type\": \"histogram2dcontour\"}], \"mesh3d\": [{\"colorbar\": {\"outlinewidth\": 0, \"ticks\": \"\"}, \"type\": \"mesh3d\"}], \"parcoords\": [{\"line\": {\"colorbar\": {\"outlinewidth\": 0, \"ticks\": \"\"}}, \"type\": \"parcoords\"}], \"pie\": [{\"automargin\": true, \"type\": \"pie\"}], \"scatter\": [{\"marker\": {\"colorbar\": {\"outlinewidth\": 0, \"ticks\": \"\"}}, \"type\": \"scatter\"}], \"scatter3d\": [{\"line\": {\"colorbar\": {\"outlinewidth\": 0, \"ticks\": \"\"}}, \"marker\": {\"colorbar\": {\"outlinewidth\": 0, \"ticks\": \"\"}}, \"type\": \"scatter3d\"}], \"scattercarpet\": [{\"marker\": {\"colorbar\": {\"outlinewidth\": 0, \"ticks\": \"\"}}, \"type\": \"scattercarpet\"}], \"scattergeo\": [{\"marker\": {\"colorbar\": {\"outlinewidth\": 0, \"ticks\": \"\"}}, \"type\": \"scattergeo\"}], \"scattergl\": [{\"marker\": {\"colorbar\": {\"outlinewidth\": 0, \"ticks\": \"\"}}, \"type\": \"scattergl\"}], \"scattermapbox\": [{\"marker\": {\"colorbar\": {\"outlinewidth\": 0, \"ticks\": \"\"}}, \"type\": \"scattermapbox\"}], \"scatterpolar\": [{\"marker\": {\"colorbar\": {\"outlinewidth\": 0, \"ticks\": \"\"}}, \"type\": \"scatterpolar\"}], \"scatterpolargl\": [{\"marker\": {\"colorbar\": {\"outlinewidth\": 0, \"ticks\": \"\"}}, \"type\": \"scatterpolargl\"}], \"scatterternary\": [{\"marker\": {\"colorbar\": {\"outlinewidth\": 0, \"ticks\": \"\"}}, \"type\": \"scatterternary\"}], \"surface\": [{\"colorbar\": {\"outlinewidth\": 0, \"ticks\": \"\"}, \"colorscale\": [[0.0, \"#0d0887\"], [0.1111111111111111, \"#46039f\"], [0.2222222222222222, \"#7201a8\"], [0.3333333333333333, \"#9c179e\"], [0.4444444444444444, \"#bd3786\"], [0.5555555555555556, \"#d8576b\"], [0.6666666666666666, \"#ed7953\"], [0.7777777777777778, \"#fb9f3a\"], [0.8888888888888888, \"#fdca26\"], [1.0, \"#f0f921\"]], \"type\": \"surface\"}], \"table\": [{\"cells\": {\"fill\": {\"color\": \"#EBF0F8\"}, \"line\": {\"color\": \"white\"}}, \"header\": {\"fill\": {\"color\": \"#C8D4E3\"}, \"line\": {\"color\": \"white\"}}, \"type\": \"table\"}]}, \"layout\": {\"annotationdefaults\": {\"arrowcolor\": \"#2a3f5f\", \"arrowhead\": 0, \"arrowwidth\": 1}, \"coloraxis\": {\"colorbar\": {\"outlinewidth\": 0, \"ticks\": \"\"}}, \"colorscale\": {\"diverging\": [[0, \"#8e0152\"], [0.1, \"#c51b7d\"], [0.2, \"#de77ae\"], [0.3, \"#f1b6da\"], [0.4, \"#fde0ef\"], [0.5, \"#f7f7f7\"], [0.6, \"#e6f5d0\"], [0.7, \"#b8e186\"], [0.8, \"#7fbc41\"], [0.9, \"#4d9221\"], [1, \"#276419\"]], \"sequential\": [[0.0, \"#0d0887\"], [0.1111111111111111, \"#46039f\"], [0.2222222222222222, \"#7201a8\"], [0.3333333333333333, \"#9c179e\"], [0.4444444444444444, \"#bd3786\"], [0.5555555555555556, \"#d8576b\"], [0.6666666666666666, \"#ed7953\"], [0.7777777777777778, \"#fb9f3a\"], [0.8888888888888888, \"#fdca26\"], [1.0, \"#f0f921\"]], \"sequentialminus\": [[0.0, \"#0d0887\"], [0.1111111111111111, \"#46039f\"], [0.2222222222222222, \"#7201a8\"], [0.3333333333333333, \"#9c179e\"], [0.4444444444444444, \"#bd3786\"], [0.5555555555555556, \"#d8576b\"], [0.6666666666666666, \"#ed7953\"], [0.7777777777777778, \"#fb9f3a\"], [0.8888888888888888, \"#fdca26\"], [1.0, \"#f0f921\"]]}, \"colorway\": [\"#636efa\", \"#EF553B\", \"#00cc96\", \"#ab63fa\", \"#FFA15A\", \"#19d3f3\", \"#FF6692\", \"#B6E880\", \"#FF97FF\", \"#FECB52\"], \"font\": {\"color\": \"#2a3f5f\"}, \"geo\": {\"bgcolor\": \"white\", \"lakecolor\": \"white\", \"landcolor\": \"#E5ECF6\", \"showlakes\": true, \"showland\": true, \"subunitcolor\": \"white\"}, \"hoverlabel\": {\"align\": \"left\"}, \"hovermode\": \"closest\", \"mapbox\": {\"style\": \"light\"}, \"paper_bgcolor\": \"white\", \"plot_bgcolor\": \"#E5ECF6\", \"polar\": {\"angularaxis\": {\"gridcolor\": \"white\", \"linecolor\": \"white\", \"ticks\": \"\"}, \"bgcolor\": \"#E5ECF6\", \"radialaxis\": {\"gridcolor\": \"white\", \"linecolor\": \"white\", \"ticks\": \"\"}}, \"scene\": {\"xaxis\": {\"backgroundcolor\": \"#E5ECF6\", \"gridcolor\": \"white\", \"gridwidth\": 2, \"linecolor\": \"white\", \"showbackground\": true, \"ticks\": \"\", \"zerolinecolor\": \"white\"}, \"yaxis\": {\"backgroundcolor\": \"#E5ECF6\", \"gridcolor\": \"white\", \"gridwidth\": 2, \"linecolor\": \"white\", \"showbackground\": true, \"ticks\": \"\", \"zerolinecolor\": \"white\"}, \"zaxis\": {\"backgroundcolor\": \"#E5ECF6\", \"gridcolor\": \"white\", \"gridwidth\": 2, \"linecolor\": \"white\", \"showbackground\": true, \"ticks\": \"\", \"zerolinecolor\": \"white\"}}, \"shapedefaults\": {\"line\": {\"color\": \"#2a3f5f\"}}, \"ternary\": {\"aaxis\": {\"gridcolor\": \"white\", \"linecolor\": \"white\", \"ticks\": \"\"}, \"baxis\": {\"gridcolor\": \"white\", \"linecolor\": \"white\", \"ticks\": \"\"}, \"bgcolor\": \"#E5ECF6\", \"caxis\": {\"gridcolor\": \"white\", \"linecolor\": \"white\", \"ticks\": \"\"}}, \"title\": {\"x\": 0.05}, \"xaxis\": {\"automargin\": true, \"gridcolor\": \"white\", \"linecolor\": \"white\", \"ticks\": \"\", \"title\": {\"standoff\": 15}, \"zerolinecolor\": \"white\", \"zerolinewidth\": 2}, \"yaxis\": {\"automargin\": true, \"gridcolor\": \"white\", \"linecolor\": \"white\", \"ticks\": \"\", \"title\": {\"standoff\": 15}, \"zerolinecolor\": \"white\", \"zerolinewidth\": 2}}}, \"title\": {\"text\": \"Average Age Distribution\"}, \"xaxis\": {\"anchor\": \"y\", \"categoryorder\": \"category ascending\", \"domain\": [0.0, 1.0], \"title\": {\"text\": \"avg_age\"}}, \"yaxis\": {\"anchor\": \"x\", \"domain\": [0.0, 1.0], \"title\": {\"text\": \"count\"}}},                        {\"responsive\": true}                    ).then(function(){\n",
       "                            \n",
       "var gd = document.getElementById('0f181239-c46f-47de-8d7a-2aeb53b96217');\n",
       "var x = new MutationObserver(function (mutations, observer) {{\n",
       "        var display = window.getComputedStyle(gd).display;\n",
       "        if (!display || display === 'none') {{\n",
       "            console.log([gd, 'removed!']);\n",
       "            Plotly.purge(gd);\n",
       "            observer.disconnect();\n",
       "        }}\n",
       "}});\n",
       "\n",
       "// Listen for the removal of the full notebook cells\n",
       "var notebookContainer = gd.closest('#notebook-container');\n",
       "if (notebookContainer) {{\n",
       "    x.observe(notebookContainer, {childList: true});\n",
       "}}\n",
       "\n",
       "// Listen for the clearing of the current output cell\n",
       "var outputEl = gd.closest('.output');\n",
       "if (outputEl) {{\n",
       "    x.observe(outputEl, {childList: true});\n",
       "}}\n",
       "\n",
       "                        })                };                });            </script>        </div>"
      ]
     },
     "metadata": {},
     "output_type": "display_data"
    }
   ],
   "source": [
    "fig = px.histogram(df, x=\"avg_age\", nbins=6, color_discrete_sequence=['teal'], title=\"Average Age Distribution\", labels={'cats':'age'})\n",
    "fig.update_layout(barmode='stack', xaxis={'categoryorder':'category ascending'})\n",
    "fig.update_layout({\n",
    "'plot_bgcolor': 'rgba(0, 0, 0, 0)',\n",
    "'paper_bgcolor': 'rgba(0, 0, 0, 0)',\n",
    "})\n",
    "fig.show()"
   ]
  },
  {
   "cell_type": "code",
   "execution_count": 118,
   "metadata": {},
   "outputs": [
    {
     "data": {
      "text/plain": [
       "(-0.5, 765.5, 265.5, -0.5)"
      ]
     },
     "execution_count": 118,
     "metadata": {},
     "output_type": "execute_result"
    },
    {
     "data": {
      "image/png": "[encoded data removed]",
      "text/plain": [
       "<Figure size 864x1008 with 1 Axes>"
      ]
     },
     "metadata": {
      "needs_background": "light"
     },
     "output_type": "display_data"
    }
   ],
   "source": [
    "mask = np.array(Image.open('colorful-book-word-letters-white-background-35995907.jpg'))\n",
    "wordcloud = WordCloud(background_color=\"white\", mask=mask, width=mask.shape[1], height=mask.shape[0]).generate(' '.join(df['names']))\n",
    "plt.figure(figsize=(12,14))\n",
    "plt.imshow(wordcloud, interpolation='bilinear')\n",
    "plt.axis('off')"
   ]
  },
  {
   "cell_type": "code",
   "execution_count": 120,
   "metadata": {},
   "outputs": [
    {
     "data": {
      "text/plain": [
       "(-0.5, 419.5, 146.5, -0.5)"
      ]
     },
     "execution_count": 120,
     "metadata": {},
     "output_type": "execute_result"
    },
    {
     "data": {
      "image/png": "[encoded data removed]",
      "text/plain": [
       "<Figure size 864x1008 with 1 Axes>"
      ]
     },
     "metadata": {
      "needs_background": "light"
     },
     "output_type": "display_data"
    }
   ],
   "source": [
    "mask = np.array(Image.open('read-design-china-name.png'))\n",
    "wordcloud = WordCloud(background_color=\"white\", mask=mask, width=mask.shape[1], height=mask.shape[0]).generate(' '.join(df['desc']))\n",
    "plt.figure(figsize=(12,14))\n",
    "plt.imshow(wordcloud, interpolation='bilinear')\n",
    "plt.axis('off')"
   ]
  },
  {
   "cell_type": "markdown",
   "metadata": {},
   "source": [
    "<h2> Tokenization <h2>"
   ]
  },
  {
   "cell_type": "code",
   "execution_count": 124,
   "metadata": {},
   "outputs": [],
   "source": [
    "X = df.desc.values\n",
    "y = df.min_age.values\n",
    "def tokenize(desc):\n",
    "    \n",
    "    stop_words = set(stopwords.words('english'))\n",
    "    tokens = word_tokenize(desc)\n",
    "    lemmatizer = WordNetLemmatizer()\n",
    "\n",
    "    filtered = [w for w in tokens if not w in stop_words]\n",
    "    filtered = []\n",
    "    for tok in tokens:\n",
    "        if tok not in stop_words:\n",
    "            clean_tok = lemmatizer.lemmatize(tok).lower().strip()\n",
    "            filtered.append(clean_tok)\n",
    "   \n",
    "    print(filtered[:5])\n",
    "    return filtered"
   ]
  },
  {
   "cell_type": "markdown",
   "metadata": {},
   "source": [
    "<h2> Machine learning <h2>"
   ]
  },
  {
   "cell_type": "code",
   "execution_count": 125,
   "metadata": {},
   "outputs": [],
   "source": [
    "def display_results(y_test, y_pred):\n",
    "    accuracy = (y_pred == y_test).mean()\n",
    "\n",
    "    print(\"Accuracy:\", accuracy)"
   ]
  },
  {
   "cell_type": "code",
   "execution_count": 126,
   "metadata": {},
   "outputs": [
    {
     "name": "stdout",
     "output_type": "stream",
     "text": [
      "['first', 'met', 'wombles', '40', 'year']\n",
      "['eris', 'goddess', 'discord', 'grumpy', 'invited']\n",
      "['pleasure', 'parent', 'child', 'activity', 'like']\n",
      "['want', 'friend', 'asked', 'simple', 'question']\n",
      "['inclusive', 'isnâ', 'featuring', 'disabled', 'character']\n",
      "['ancient', 'arabic', 'land', 'magic', 'commonplace']\n",
      "['eric', 'carle', 'return', 'toddler', 'bookshelf']\n",
      "['gentle', 'beautiful', 'picture', 'book', 'three']\n",
      "['ad', '117ad', 'ninth', 'legion', 'marched']\n",
      "['abe', 'real', 'service', 'dog', 'dedicated']\n",
      "['baby', 'elephant', 'loses', 'teddy', 'sleep']\n",
      "['helping', 'sort', 'old', 'toy', 'artifact']\n",
      "['welcome', 'republication', 'thirty', 'year', 'old']\n",
      "['little', 'princess', 'hate', 'nappy', 'think']\n",
      "['first', 'story', 'much', 'loved', 'character']\n",
      "['marigold', 'â', 'illustrated', 'mumâ', 'title']\n",
      "['shirley', 'hughes', 'much', 'loved', 'alfie']\n",
      "['set', '1947', 'story', 'open', '12']\n",
      "['exceptional', 'conclusion', 'trilogy', 'pullman', 'effectively']\n",
      "['action', 'accompany', 'verse', 'demonstrated', 'lively']\n",
      "['dream', 'last', 'night', 'large', 'enough']\n",
      "['class', 'took', 'little', 'train', 'went']\n",
      "['milo', 'bored', 'canâ', 'see', 'point']\n",
      "['mr', 'biff', 'mr', 'bop', 'boxer']\n",
      "['pig', 'birthday', 'tell', 'friend', 'would']\n",
      "['twelve', 'year', 'old', 'criminal', 'mastermind']\n",
      "['way', 'visit', 'grandmother', 'little', 'red']\n",
      "['kipper', 'working', 'hard', 'preparing', 'birthday']\n",
      "['define', 'poem', 'song', 'lyric', 'performance']\n",
      "['whole', 'new', 'generation', 'child', 'enjoy']\n",
      "['alice', 'walk', 'mirror', 'fireplace', 'topsy']\n",
      "['reformatted', 'reissued', 'mog', 'forgetful', 'cat']\n",
      "['former', 'child', 'laureate', 'julia', 'donaldson']\n",
      "['follow', 'father', 'family', 'go', 'search']\n",
      "['iron', 'man', 'fearsome', 'figure', 'wreaking']\n",
      "['classic', 'story', 'bernard', 'whose', 'distracted']\n",
      "['mr', 'wobble', 'waitress', 'love', 'job']\n",
      "['colourful', 'board', 'book', 'ever', 'popular']\n",
      "['hilarious', 'collection', 'well', 'loved', 'fairy']\n",
      "['great', 'green', 'room', 'little', 'bunny']\n",
      "['hugely', 'enjoyable', 'sequel', 'cliffhanger', 'child']\n",
      "['anne', 'shirley', 'opinionated', 'decidedly', 'red']\n",
      "['bitterly', 'unhappy', 'fed', 'teased', 'school']\n",
      "['despite', 'inherent', 'danger', 'torak', 'wait']\n",
      "['cornelia', 'funke', 'magical', 'fantasy', 'adventure']\n",
      "['alison', 'family', 'spending', 'holiday', 'wale']\n",
      "['baby', 'elephant', 'loses', 'teddy', 'sleep']\n",
      "['sometimes', 'day', 'begin', 'nothing', 'look']\n",
      "['new', 'edition', 'much', 'loved', 'classic']\n",
      "['third', 'collaboration', 'bradman', 'browne', 'inventor']\n",
      "['use', 'book', 'without', 'picture', 'conversation']\n",
      "['beginning', 'summary', 'dickens', 'famous', 'story']\n",
      "['bumper', 'edition', 'contains', 'four', 'story']\n",
      "['fantasy', 'adventure', 'story', 'determined', 'girl']\n",
      "['ned', 'always', 'look', 'forward', 'friday']\n",
      "['novel', 'set', '1890s', 'oklahoma', 'cissy']\n",
      "['shape', 'game', 'emerged', 'result', 'anthony']\n",
      "['london', 'move', 'traction', 'city', 'trawl']\n",
      "['little', 'beauty', 'inspired', 'many', 'story']\n",
      "['sudden', 'death', 'father', 'sally', 'lockhart']\n",
      "['every', 'day', 'charlie', 'bucket', 'walk']\n",
      "['lazy', 'farmer', 'spent', 'day', 'bed']\n",
      "['sally', 'thoroughly', 'bored', 'snowy', 'day']\n",
      "['child', 'library', 'could', 'complete', 'without']\n",
      "['wait', 'cat', 'look', 'another', 'shark']\n",
      "['else', 'babette', 'cole', 'would', 'audacity']\n",
      "['part', 'orchard', 'classic', 'matthew', 'ross']\n",
      "['lucy', 'tom', 'getting', 'ready', 'christmas']\n",
      "['firefighter', 'bear', 'going', 'work', 'fire']\n",
      "['fly', 'pie', 'sham', 'rubbish', 'picker']\n",
      "['bear', 'set', 'search', 'missing', 'hat']\n",
      "['twas', 'night', 'christmas', 'opening', 'line']\n",
      "['chaos', 'world', 'war', 'ii', 'ruth']\n",
      "['princess', 'smartypants', 'want', 'get', 'married']\n",
      "['alphabet', 'book', 'difference', 'unexpected', 'juxtaposed']\n",
      "['captivating', 'story', 'wolf', 'dinner', 'mind']\n",
      "['kevin', 'max', 'accustomed', 'ridicule', 'kevin']\n",
      "['fifteen', 'year', 'old', 'morag', 'narmo']\n",
      "['together', 'faithful', 'brownie', 'friend', 'sorrel']\n",
      "['alfie', 'decides', 'enter', 'painting', 'competition']\n",
      "['ten', 'beloved', 'nursery', 'rhyme', 'including']\n",
      "['jo', 'saved', 'pocket', 'money', 'tempted']\n",
      "['save', 'story', 'series', 'pushkinâ', 'childrenâ']\n",
      "['nearly', '100', 'year', 'old', 'story']\n",
      "['december', '24th', 'poor', 'father', 'christmas']\n",
      "['fifth', 'alex', 'rider', 'adventure', 'see']\n",
      "['mother', 'baby', 'look', 'together', 'view']\n",
      "['amir', 'doesnâ', 'want', 'go', 'bed']\n",
      "['portly', 'pig', 'worried', 'clean', 'grass']\n",
      "['different', 'bear', 'introduced', 'page', 'colourful']\n",
      "['follow', 'father', 'family', 'go', 'search']\n",
      "['mother', 'baby', 'look', 'together', 'view']\n",
      "['without', 'beloved', 'father', 'mile', 'home']\n",
      "['major', 'film', 'horton', 'hears', 'hilarious']\n",
      "['lauren', 'child', 'highly', 'imaginative', 'retelling']\n",
      "['small', 'bear', 'darkest', 'peru', 'still']\n",
      "['ten', 'year', 'old', 'emil', 'excited']\n",
      "['brollachan', 'ancient', 'evil', 'threatening', 'elf']\n",
      "['appealing', 'story', 'lift', 'flap', 'board']\n",
      "['dad', 'everything', 'well', 'running', 'like']\n",
      "['noel', 'langley', 'pantomime', 'esque', 'adventure']\n",
      "['geraldine', 'mccaughrean', 'much', 'anticipated', 'sequel']\n",
      "['old', 'green', 'fordson', 'tractor', 'back']\n",
      "['great', 'forest', 'litle', 'elephant', 'born']\n",
      "['part', 'sign', 'singalong', 'series', 'bright']\n",
      "['nova', 'bored', 'discontented', 'largely', 'ignored']\n",
      "['rosie', 'unflappable', 'hen', 'introduces', 'young']\n",
      "['fourteen', 'year', 'old', 'mi6', 'agent']\n",
      "['paddington', 'brown', 'bear', 'darkest', 'peru']\n",
      "['follow', 'ahlbergs', 'classic', 'jolly', 'postman']\n",
      "['moomintroll', 'cheerful', 'chubby', 'life', 'magical']\n",
      "['one', 'day', 'coraline', 'unlocks', 'mysterious']\n",
      "['ancient', 'feud', 'giant', 'magic', 'spell']\n",
      "['five', 'sibling', 'cyril', 'anthea', 'robert']\n",
      "['sweet', 'innocent', 'child', 'grow', 'bitter']\n",
      "['pocket', 'sized', 'ladybird', 'edition', 'pus']\n",
      "['jackson', 'rabbit', 'run', 'away', 'sea']\n",
      "['follow', 'mog', 'little', 'boy', 'busy']\n",
      "['dusty', 'dog', 'bored', 'want', 'go']\n",
      "['sun', 'shine', 'wet', 'play', 'begin']\n",
      "['first', 'book', 'adrian', 'mole', 'series']\n",
      "['king', 'want', 'magician', 'melric', 'make']\n",
      "['end', 'edward', 'lear', 'much', 'loved']\n",
      "['move', 'new', 'house', 'coincides', 'baby']\n",
      "['dominicâ', 'mum', 'super', 'clever', 'sheâ']\n",
      "['arthurian', 'tale', 'set', 'scilly', 'isle']\n",
      "['end', 'edward', 'lear', 'much', 'loved']\n",
      "['unfortunate', 'baudelaire', 'child', 'enrolled', 'prufrock']\n",
      "['could', 'moving', 'remote', 'ramshackle', 'cottage']\n",
      "['large', 'board', 'book', '20', 'nursery']\n",
      "['classic', 'story', 'bilbo', 'baggins', 'home']\n",
      "['young', 'boy', 'parent', 'die', 'sent']\n",
      "['one', 'growing', 'series', 'touch', 'feel']\n",
      "['midwinter', 'eve', 'night', 'eleventh', 'birthday']\n",
      "['arch', 'back', 'like', 'cat', 'clap']\n",
      "['first', 'book', 'classic', 'child', 'author']\n",
      "['kipper', 'working', 'hard', 'preparing', 'birthday']\n",
      "['alex', 'rider', 'plucked', 'life', 'average']\n",
      "['borrower', 'tiny', 'people', 'live', 'secret']\n",
      "['anna', 'russian', 'countess', 'brought', 'amidst']\n",
      "['shola', 'small', 'white', 'dog', 'life']\n",
      "['shahnameh', 'ancient', 'persian', 'poem', 'comprising']\n",
      "['happened', 'rapunzel', 'freed', 'tower', 'rumpelstiltskin']\n",
      "['piper', 'paw', 'one', 'toughest', 'tom']\n",
      "['telling', 'traditional', 'story', 'take', 'another']\n",
      "['house', 'full', 'strange', 'bustling', 'new']\n",
      "['two', 'former', 'childrenâ', 'laureate', 'join']\n",
      "['snow', 'white', 'fairy', 'tale', 'receives']\n",
      "['willy', 'dream', 'film', 'star', 'sumo']\n",
      "['princess', 'smartypants', 'want', 'get', 'married']\n",
      "['mouse', 'piano', 'rabbit', 'pantry', 'hedgehog']\n",
      "['salutary', 'funny', 'tale', 'giving', 'jacqueline']\n",
      "['bright', 'meadow', 'full', 'fruit', 'flower']\n",
      "['satirical', 'story', 'vain', 'emperor', 'adores']\n",
      "['colourful', 'board', 'book', 'ever', 'popular']\n",
      "['heart', 'two', 'size', 'small', 'grinch']\n",
      "['acorn', 'b', 'butterfly', 'c', 'cloud']\n",
      "['felix', 'lived', 'catholic', 'orphanage', 'three']\n",
      "['last', 'bubble', 'popped', 'gone', 'piece']\n",
      "['fourteen', 'year', 'old', 'alex', 'rider']\n",
      "['nearly', 'forty', 'year', 'original', 'appearance']\n",
      "['emily', 'toy', 'rabbit', 'stanley', 'love']\n",
      "['magic', 'trick', 'incredible', 'illusion', 'astonishing']\n",
      "['sad', 'lonely', 'penguin', 'appeared', 'door']\n",
      "['cameron', 'desperately', 'need', 'new', 'heart']\n",
      "['well', 'deserved', 'republication', 'durant', '1992']\n",
      "['grace', 'love', 'act', 'story', 'sometimes']\n",
      "['willie', 'beech', 'evacuated', 'tiny', 'english']\n",
      "['welcome', 'fourth', 'novel', 'blackman', 'award']\n",
      "['zany', 'rhyming', 'text', 'complement', 'lively']\n",
      "['climb', 'bed', 'let', 'give', 'hug']\n",
      "['inspired', 'rudyard', 'kiplingâ', 'jungle', 'book']\n",
      "['toby', 'fed', 'feel', 'like', 'anything']\n",
      "['welcome', 'world', 'georgia', 'nicolson', 'angst']\n",
      "['tibble', 'reporter', 'sacked', 'newspaper', 'story']\n",
      "['satisfyingly', 'old', 'fashioned', 'story', 'set']\n",
      "['family', 'come', 'much', 'stranger', 'saffron']\n",
      "['elliot', 'wish', 'mum', 'interesting', 'everyone']\n",
      "['captivating', 'story', 'wolf', 'dinner', 'mind']\n",
      "['second', 'instalment', 'bestselling', 'twig', 'saga']\n",
      "['tom', 'sent', 'away', 'stay', 'aunt']\n",
      "['frankenstein', 'tell', 'story', 'privileged', 'self']\n",
      "['modern', 'fantasy', 'fairytale', 'jackie', 'mum']\n",
      "['large', 'format', 'picture', 'book', 'strong']\n",
      "['bold', 'colourful', 'great', 'fun', 'simple']\n",
      "['another', 'game', 'hide', 'seek', 'first']\n",
      "['mia', 'hide', 'real', 'feeling', 'take']\n",
      "['parent', 'unceremoniously', 'eaten', 'rhinoceros', 'escape']\n",
      "['originally', 'published', '40', 'year', 'ago']\n",
      "['beautiful', 'strong', 'board', 'book', 'part']\n",
      "['oscar', 'winning', 'actress', 'screenwriter', 'emma']\n",
      "['jack', 'nancy', 'want', 'adventure', 'live']\n",
      "['holiday', 'cornwall', 'simon', 'jane', 'barney']\n",
      "['lonely', 'artist', 'set', 'home', 'isolated']\n",
      "['christmas', 'eve', 'wealthy', 'ben', 'mouse']\n",
      "['three', 'baby', 'owl', 'wake', 'find']\n",
      "['although', 'lizzie', 'moving', 'new', 'home']\n",
      "['stunningly', 'original', 'fantasy', 'set', 'mythical']\n",
      "['little', 'hare', 'daddy', 'compare', 'much']\n",
      "['jade', 'devastated', 'best', 'friend', 'killed']\n",
      "['lyra', 'animal', 'daemon', 'live', 'carefree']\n",
      "['walk', 'goldilocks', 'come', 'across', 'lovely']\n",
      "['following', 'success', 'first', 'book', 'nonsense']\n",
      "['harmony', 'uncle', 'ginger', 'sends', 'treasure']\n",
      "['mary', 'lennox', 'sallow', 'bad', 'tempered']\n",
      "['dad', 'everything', 'well', 'running', 'like']\n",
      "['everyone', 'know', 'lion', 'fierce', 'lion']\n",
      "['five', 'year', 'old', 'tim', 'life']\n",
      "['tiny', 'corner', 'brittany', 'one', 'small']\n",
      "['king', 'want', 'magician', 'melric', 'make']\n",
      "['spot', 'lift', 'flap', 'find', 'hide']\n",
      "['alem', 'father', 'ethiopian', 'mother', 'eritrean']\n",
      "['part', 'sign', 'singalong', 'series', 'bright']\n",
      "['irina', 'parent', 'understand', 'want', 'moth']\n",
      "['william', 'swiss', 'pastor', 'wife', 'elizabeth']\n",
      "['simple', 'yet', 'haunting', 'book', 'tell']\n",
      "['angst', 'ridden', 'teenage', 'heroine', 'georgia']\n",
      "['sturdy', 'board', 'book', 'featuring', 'ever']\n",
      "['andrew', 'macdhui', 'vet', 'known', 'bit']\n",
      "['two', 'great', 'story', 'featuring', 'crew']\n",
      "['three', 'baby', 'owl', 'wake', 'find']\n",
      "['resourceful', 'junior', 'reporter', 'tintin', 'embarks']\n",
      "['king', 'arthur', 'pulled', 'sword', 'stone']\n",
      "['hiccup', 'horrendous', 'haddock', 'iii', 'incredible']\n",
      "['little', 'bear', 'get', 'sleep', 'afraid']\n",
      "['robert', 'tough', 'time', 'school', 'bullied']\n",
      "['joe', 'beth', 'frannie', 'move', 'new']\n",
      "['archetypal', 'school', 'story', 'take', 'following']\n",
      "['new', 'interactive', 'computer', 'program', 'work']\n",
      "['hour', 'late', 'mr', 'bear', 'tired']\n",
      "['bad', 'beginning', 'first', '13', 'volume']\n",
      "['penelope', 'sent', 'stay', 'great', 'aunt']\n",
      "['escaped', 'old', 'possum', 'book', 'practical']\n",
      "['maya', 'angelouâ', 'seminal', 'poem', 'life']\n",
      "['dr', 'zobâ', 'evil', 'plan', 'failed']\n",
      "['baby', 'may', 'born', 'different', 'country']\n",
      "['set', 'world', 'war', 'private', 'peaceful']\n",
      "['jacqueline', 'wilson', 'title', 'popular', 'boy']\n",
      "['ten', 'beloved', 'nursery', 'rhyme', 'including']\n",
      "['kai', 'gerda', 'neighbour', 'best', 'friend']\n",
      "['marley', 'bear', 'day', 'farm', 'plenty']\n",
      "['based', 'rime', 'ancient', 'mariner', 'offering']\n",
      "['za', 'za', 'mum', 'baby', 'hard']\n",
      "['zany', 'rhyming', 'text', 'complement', 'lively']\n",
      "['mr', 'mr', 'twit', 'extremely', 'nasty']\n",
      "['danny', 'mother', 'cathy', 'run', 'abusive']\n",
      "['jack', 'great', 'sadness', 'life', 'share']\n",
      "['life', 'toilet', 'attendant', 'jim', 'bloggs']\n",
      "['alphabet', 'book', 'difference', 'unexpected', 'juxtaposed']\n",
      "['ever', 'wondered', 'might', 'rise', 'toilet']\n",
      "['right', 'start', '1922', 'velveteen', 'rabbit']\n",
      "['hilarious', 'rhyming', 'story', 'follows', 'hairy']\n",
      "['stanley', 'lambchop', 'wake', 'one', 'morning']\n",
      "['new', 'school', 'rafaella', 'suffers', 'daily']\n",
      "['homerâ', 'classic', 'greek', 'tale', 'odyssey']\n",
      "['god', 'made', 'world', 'wanted', 'visit']\n",
      "['deep', 'forest', 'life', 'beautiful', 'little']\n",
      "['tilly', 'page', 'love', 'book', 'surprising']\n",
      "['talk', 'lot', 'time', 'louis', 'todd']\n",
      "['barney', 'solitary', 'little', 'boy', 'often']\n",
      "['executed', 'lively', 'comic', 'book', 'form']\n",
      "['combining', 'greek', 'mythology', 'modern', 'technology']\n",
      "['sequel', 'amazing', 'grace', 'grace', 'invited']\n",
      "['miss', 'kitty', 'elegant', 'graceful', 'house']\n",
      "['spot', 'birthday', 'party', 'first', 'game']\n",
      "['major', 'film', 'horton', 'hears', 'hilarious']\n",
      "['outside', 'like', 'masklin', 'looked', 'blank']\n",
      "['happy', 'book', 'baby', 'toddler', 'one']\n",
      "['â', 'big', 'collection', 'forty', 'rhyme']\n",
      "['sam', 'hugely', 'successful', 'goalie', 'football']\n",
      "['escaped', 'old', 'possum', 'book', 'practical']\n",
      "['one', 'day', 'kipper', 'dog', 'find']\n",
      "['twig', 'always', 'felt', 'little', 'bit']\n",
      "['sloth', 'life', 'rainforest', 'puma', 'bat']\n",
      "['james', 'choke', 'come', 'dysfunctional', 'family']\n",
      "['shirley', 'hughes', 'much', 'loved', 'alfie']\n",
      "['celebrates', 'love', 'warmth', 'surround', 'cherished']\n",
      "['book', 'packed', 'lot', 'baby', 'picture']\n",
      "['utterly', 'relentless', 'gripping', 'page', 'turning']\n",
      "['thousand', 'year', 'ago', 'land', 'dark']\n",
      "['fish', 'listened', 'kroaker', 'little', 'wiser']\n",
      "['former', 'child', 'laureate', 'anne', 'fine']\n",
      "['patient', 'older', 'brother', 'charlie', 'cleverly']\n",
      "['collection', 'short', 'lesser', 'known', 'nursery']\n",
      "['sophisticated', 'cartoon', 'strip', 'picture', 'book']\n",
      "['simple', 'board', 'book', 'featuring', 'well']\n",
      "['read', 'warm', 'tale', 'camaraderie', 'affection']\n",
      "['story', 'lear', 'old', 'chieftain', 'divide']\n",
      "['jansson', 'moomins', 'entertained', 'young', 'reader']\n",
      "['mr', 'pepperpot', 'unfortunate', 'problem', 'shrink']\n",
      "['blend', 'rhyme', 'repetition', 'alliteration', 'recipe']\n",
      "['join', 'elmer', 'beloved', 'patchwork', 'elephant']\n",
      "['everyone', 'know', 'song', 'five', 'little']\n",
      "['witch', 'traditionally', 'choose', 'company', 'black']\n",
      "['wonderful', 'story', 'weave', 'magic', 'childâ']\n",
      "['book', 'without', 'word', 'great', 'youngest']\n",
      "['bold', 'colourful', 'great', 'fun', 'simple']\n",
      "['meet', 'bella', 'george', 'theyâ', 'happy']\n",
      "['bill', 'grandma', 'look', 'album', 'containing']\n",
      "['classic', 'tale', 'dylan', 'learns', 'make']\n",
      "['evocative', 'collection', 'short', 'story', 'give']\n",
      "['gentle', 'beautiful', 'picture', 'book', 'three']\n",
      "['discover', 'collection', 'extraordinary', 'letter', 'magical']\n",
      "['ellie', 'ever', 'thought', 'much', 'size']\n",
      "['mary', 'poppins', 'arrives', 'east', 'wind']\n",
      "['highly', 'amusing', 'tale', 'reverend', 'lee']\n",
      "['detective', 'peterson', 'trying', 'find', 'sally']\n",
      "['old', 'peter', 'russian', 'tale', 'collection']\n",
      "['jane', 'applies', 'governess', 'thornfield', 'hall']\n",
      "['journey', 'back', 'time', 'era', 'ancient']\n",
      "['little', 'princess', 'hate', 'nappy', 'think']\n",
      "['end', 'grace', 'imagination', 'school', 'holiday']\n",
      "['spot', 'beloved', 'puppy', 'new', 'baby']\n",
      "['jack', 'mother', 'money', 'food', 'forced']\n",
      "['celebrates', 'love', 'warmth', 'surround', 'cherished']\n",
      "['dave', 'loses', 'favourite', 'toy', 'dogger']\n",
      "['clarice', 'bean', 'find', 'family', 'life']\n",
      "['prospect', 'second', 'world', 'war', 'loom']\n",
      "['affectionate', 'portrait', 'family', 'life', 'story']\n",
      "['michael', 'hungry', 'lonely', 'scared', 'washed']\n",
      "['matilda', 'yet', 'five', 'year', 'old']\n",
      "['book', 'signing', 'singing', 'along', 'clear']\n",
      "['want', 'friend', 'asked', 'simple', 'question']\n",
      "['inside', 'little', 'house', 'live', 'ingalls']\n",
      "['tiny', 'tom', 'thumb', 'larger', 'father']\n",
      "['bfg', 'stand', 'big', 'friendly', 'giant']\n",
      "['charles', 'wallace', 'murry', 'go', 'searching']\n",
      "['real', 'witch', 'disguise', 'lovely', 'lady']\n",
      "['war', 'force', 'omar', 'flee', 'home']\n",
      "['young', 'tilly', 'delighted', 'polar', 'bear']\n",
      "['jamal', 'made', 'case', 'next', 'open']\n",
      "['one', 'day', 'kipper', 'dog', 'find']\n",
      "['eric', 'carle', 'hungry', 'caterpillar', 'deserves']\n",
      "['bind', 'three', 'book', 'deadly', 'dare']\n",
      "['autumn', 'flower', 'seed', 'blown', 'air']\n",
      "['belle', 'sã', 'bastien', 'born', 'snowy']\n",
      "['â', 'big', 'collection', 'forty', 'rhyme']\n",
      "['one', 'magical', 'night', 'young', 'boy']\n",
      "['story', 'naughty', 'character', 'told', 'century']\n",
      "['mr', 'wolf', 'dig', 'enormous', 'turnip']\n",
      "['telling', 'traditional', 'story', 'take', 'another']\n",
      "['sally', 'learns', 'difference', 'make', 'world']\n",
      "['pevensie', 'child', 'peter', 'susan', 'edmund']\n",
      "['james', 'build', 'snowman', 'garden', 'wake']\n",
      "['multicultural', 'book', 'showing', 'baby', 'engaged']\n",
      "['leaving', 'spring', 'cleaning', 'behind', 'timid']\n",
      "['rapunzel', 'trapped', 'alone', 'tall', 'tower']\n",
      "['princess', 'kissed', 'frog', 'turned', 'handsome']\n",
      "['welcome', 'republication', 'anthony', 'browne', 'classic']\n",
      "['ginger', 'perfect', 'cat', 'life', 'fed']\n",
      "['book', 'inspired', 'true', 'story', '1992']\n",
      "['one', 'morning', 'sid', 'dog', 'filled']\n",
      "['tove', 'jansson', 'best', 'known', 'moomin']\n",
      "['mandy', 'ross', 'original', 'poem', 'fantastic']\n",
      "['predator', 'gold', 'sequel', 'reeve', 'breathlessly']\n",
      "['one', 'sunny', 'day', 'alfie', 'decides']\n",
      "['bobo', 'chimp', 'wanders', 'sadly', 'around']\n",
      "['cat', 'determined', 'find', 'somewhere', 'comfortable']\n",
      "['satirical', 'story', 'vain', 'emperor', 'adores']\n",
      "['new', 'york', 'apartment', 'catherine', 'watch']\n",
      "['book', 'absolute', 'winner', 'soon', 'toddler']\n",
      "['much', 'loved', 'picture', 'book', 'classic']\n",
      "['enjoyable', 'collection', 'popular', 'childrenâ', 'poet']\n",
      "['second', 'book', 'continuing', 'diary', 'georgia']\n",
      "['one', 'day', 'elephant', 'offer', 'baby']\n",
      "['mr', 'fox', 'lost', 'sock', 'could']\n",
      "['one', 'morning', 'josephâ', 'dad', 'go']\n",
      "['72', 'prose', 'poem', 'make', 'unusual']\n",
      "['marcia', 'williamsâ', 'brilliant', 'wheeze', 'depicting']\n",
      "['apprentice', 'clock', 'maker', 'karl', 'must']\n",
      "['time', 'favourite', 'introduces', 'different', 'colour']\n",
      "['little', 'ross', 'sad', 'didnâ', 'nice']\n",
      "['resenting', 'love', 'father', 'child', 'witch']\n",
      "['little', 'mermaid', 'life', 'happily', 'sea']\n",
      "['zorba', 'port', 'cat', 'given', 'task']\n",
      "['beautiful', 'strong', 'board', 'book', 'part']\n",
      "['grunt', 'back', 'disgusting', 'ever', 'time']\n",
      "['welcome', 'republication', 'thirty', 'year', 'old']\n",
      "['run', 'man', 'murder', 'conscience', '12']\n",
      "['spoilt', 'bad', 'tempered', 'mary', 'orphaned']\n",
      "['megan', '15', 'realises', 'pregnant', 'gcseâ']\n",
      "['exuberant', 'character', 'include', 'child', 'supported']\n",
      "['borka', 'goose', 'born', 'without', 'feather']\n",
      "['jo', 'always', 'wanted', 'writer', 'happily']\n",
      "['mark', '40th', 'anniversary', 'raymond', 'briggs']\n",
      "['december', '24th', 'poor', 'father', 'christmas']\n",
      "['sneaked', 'rabbit', 'hole', 'slightest', 'inkling']\n",
      "['jimmy', 'tammy', 'bring', 'home', 'unusual']\n",
      "['jo', 'ill', 'stay', 'bed', 'day']\n",
      "['bobo', 'chimp', 'wanders', 'sadly', 'around']\n",
      "['jimmy', 'bullied', 'mercilessly', 'school', 'especially']\n",
      "['story', 'wooden', 'puppet', 'learns', 'goodness']\n",
      "['mr', 'wobble', 'waitress', 'love', 'job']\n",
      "['love', 'shine', 'great', 'illustrated', 'kidsâ']\n",
      "['distraught', 'parent', 'divorce', 'andy', 'decide']\n",
      "['one', 'day', 'hogarth', 'child', 'sight']\n",
      "['melric', 'kingâ', 'magician', 'us', 'magic']\n",
      "['helen', 'johnston', 'rush', 'registration', 'tear']\n",
      "['mabel', 'cat', 'special', 'used', 'belong']\n",
      "['za', 'za', 'mum', 'baby', 'hard']\n",
      "['based', 'research', 'benefit', 'massage', 'baby']\n",
      "['stanley', 'yelnats', 'family', 'history', 'bad']\n",
      "['melric', 'kingâ', 'magician', 'us', 'magic']\n",
      "['prince', 'cinder', 'lead', 'hard', 'life']\n",
      "['flight', 'fascinating', 'especially', 'â', 'child']\n",
      "['familiar', 'tale', 'absolute', 'classic', 'â']\n",
      "['miya', 'teach', 'grandfather', 'use', 'computer']\n",
      "['peach', 'pear', 'plum', 'spy', 'tom']\n",
      "['jade', 'start', 'receive', 'e', 'mail']\n",
      "['milly', 'molly', 'mandy', 'life', 'mother']\n",
      "['one', 'sunny', 'day', 'alfie', 'decides']\n",
      "['great', 'book', 'especially', 'boy', 'huge']\n",
      "['jennie', 'bored', 'bored', 'everything', 'dog']\n",
      "['pleasure', 'parent', 'child', 'activity', 'like']\n",
      "['creator', 'miffy', 'come', 'beautiful', 'edition']\n",
      "['harry', 'potter', 'due', 'start', 'fifth']\n",
      "['heâ', 'got', 'swag', 'wear', 'tux']\n",
      "['illustrator', 'marcia', 'williams', 'offer', 'lively']\n",
      "['jan', 'pienkowski', 'silhouette', 'illustration', 'lend']\n",
      "['pauline', 'petrova', 'posy', 'orphan', 'adopted']\n",
      "['since', 'death', 'mother', 'damian', 'become']\n",
      "['trevorâ', 'mother', 'offer', 'â', '30']\n",
      "['jamela', 'wrap', 'new', 'material', 'mother']\n",
      "['morpurgo', 'elaborates', 'traditional', '13th', 'century']\n",
      "['latest', 'range', 'good', 'book', 'popular']\n",
      "['james', 'build', 'snowman', 'garden', 'wake']\n",
      "['miserable', 'school', 'trip', 'harwick', 'hall']\n",
      "['someone', 'digging', 'private', 'garden', 'square']\n",
      "['castle', 'inside', 'come', 'lorinaâ', 'head']\n",
      "['many', 'christmas', 'classic', 'gathered', 'together']\n"
     ]
    }
   ],
   "source": [
    "X_train, X_test, y_train, y_test = train_test_split(X, y)\n",
    "vect = CountVectorizer(tokenizer=tokenize)\n",
    "tfidf = TfidfTransformer()\n",
    "clf = RandomForestClassifier()\n",
    "    \n",
    "X_train_counts = vect.fit_transform(X_train)\n",
    "X_train_tfidf = tfidf.fit_transform(X_train_counts)\n",
    "clf.fit(X_train_tfidf, y_train)\n",
    "    \n",
    "X_test_counts = vect.transform(X_test)\n",
    "X_test_tfidf = tfidf.transform(X_test_counts)\n",
    "y_pred = clf.predict(X_test_tfidf)"
   ]
  },
  {
   "cell_type": "code",
   "execution_count": 424,
   "metadata": {},
   "outputs": [
    {
     "name": "stdout",
     "output_type": "stream",
     "text": [
      "Accuracy: 0.75\n"
     ]
    }
   ],
   "source": [
    "display_results(y_test, y_pred)"
   ]
  },
  {
   "cell_type": "markdown",
   "metadata": {},
   "source": [
    "<h2> Conclusion <h2>"
   ]
  },
  {
   "cell_type": "markdown",
   "metadata": {},
   "source": [
    "So after lots of playing around with NLP, the best result was achieved from the NLP functions in Udacity's Data Science program I'm currently studying. I was able to achieve about 75 percent accuracy when predicting the minimum age rating of a children's book by its description. Food for thought- can this be generalized even further? To be determined"
   ]
  }
 ],
 "metadata": {
  "kernelspec": {
   "display_name": "Python 3",
   "language": "python",
   "name": "python3"
  },
  "language_info": {
   "codemirror_mode": {
    "name": "ipython",
    "version": 3
   },
   "file_extension": ".py",
   "mimetype": "text/x-python",
   "name": "python",
   "nbconvert_exporter": "python",
   "pygments_lexer": "ipython3",
   "version": "3.8.3"
  }
 },
 "nbformat": 4,
 "nbformat_minor": 4
}
